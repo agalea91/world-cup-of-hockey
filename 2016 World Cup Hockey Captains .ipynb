{
 "cells": [
  {
   "cell_type": "code",
   "execution_count": 39,
   "metadata": {
    "collapsed": false
   },
   "outputs": [],
   "source": [
    "import sys\n",
    "sys.path.append('C:\\Anaconda3\\Lib\\site-packages')\n",
    "\n",
    "#import warnings\n",
    "#warnings.filterwarnings('ignore')"
   ]
  },
  {
   "cell_type": "markdown",
   "metadata": {},
   "source": [
    "Getting the current NHL captains (including assistants) for each team."
   ]
  },
  {
   "cell_type": "code",
   "execution_count": 40,
   "metadata": {
    "collapsed": false
   },
   "outputs": [],
   "source": [
    "import matplotlib.pyplot as plt\n",
    "import numpy as np\n",
    "import pandas as pd\n",
    "import requests\n",
    "from bs4 import BeautifulSoup"
   ]
  },
  {
   "cell_type": "markdown",
   "metadata": {},
   "source": [
    "### Scrape data from wiki-pages"
   ]
  },
  {
   "cell_type": "code",
   "execution_count": 41,
   "metadata": {
    "collapsed": false
   },
   "outputs": [
    {
     "name": "stdout",
     "output_type": "stream",
     "text": [
      "Got <class 'requests.models.Response'> type object of url using the requests library\n"
     ]
    }
   ],
   "source": [
    "url = 'https://en.wikipedia.org/wiki/List_of_current_NHL_captains_and_alternate_captains'\n",
    "page = requests.get(url)\n",
    "print('Got %s type object of url using the requests library' % str(type(page)))"
   ]
  },
  {
   "cell_type": "code",
   "execution_count": 42,
   "metadata": {
    "collapsed": false
   },
   "outputs": [
    {
     "name": "stdout",
     "output_type": "stream",
     "text": [
      "Fed <class 'bytes'> type object into BeautifulSoup to create a <class 'bs4.BeautifulSoup'> type object\n"
     ]
    }
   ],
   "source": [
    "soup = BeautifulSoup(page.content, 'html.parser')\n",
    "print('Fed %s type object into BeautifulSoup to create a %s type object' % (str(type(page.content)), str(type(soup))))"
   ]
  },
  {
   "cell_type": "code",
   "execution_count": 43,
   "metadata": {
    "collapsed": false
   },
   "outputs": [
    {
     "name": "stdout",
     "output_type": "stream",
     "text": [
      "Got <class 'bs4.element.ResultSet'> type object of length 11\n"
     ]
    }
   ],
   "source": [
    "page_tables = soup.findAll('table')\n",
    "print('Got %s type object of length %d' % (str(type(page_tables)), len(page_tables)))"
   ]
  },
  {
   "cell_type": "markdown",
   "metadata": {},
   "source": [
    "Each table is an object and they can be iterated over."
   ]
  },
  {
   "cell_type": "code",
   "execution_count": 44,
   "metadata": {
    "collapsed": false
   },
   "outputs": [
    {
     "name": "stdout",
     "output_type": "stream",
     "text": [
      "<caption>Position abbreviations</caption>\n",
      "<caption>List of current NHL Captains</caption>\n",
      "<caption>List of current NHL Alternate Captains</caption>\n",
      "None\n",
      "None\n",
      "None\n",
      "None\n",
      "None\n",
      "None\n",
      "None\n",
      "None\n"
     ]
    }
   ],
   "source": [
    "for table in page_tables:\n",
    "    print(table.find('caption'))"
   ]
  },
  {
   "cell_type": "code",
   "execution_count": 45,
   "metadata": {
    "collapsed": false
   },
   "outputs": [
    {
     "name": "stdout",
     "output_type": "stream",
     "text": [
      "Skipping entry: ['\\n', <p><i>Vacant</i></p>, '\\n']\n",
      "Skipping entry: ['\\n', <p><i>Vacant</i></p>, '\\n']\n",
      "Skipping entry: ['\\n', <p><i>Vacant</i></p>, '\\n']\n",
      "Skipping entry: ['\\n', <p><i>Vacant</i></p>, '\\n']\n"
     ]
    },
    {
     "data": {
      "text/plain": [
       "['Ryan Getzlaf',\n",
       " 'Shane Doan',\n",
       " 'Zdeno Chara',\n",
       " 'Brian Gionta',\n",
       " 'Mark Giordano',\n",
       " 'Jonathan Toews',\n",
       " 'Gabriel Landeskog',\n",
       " 'Nick Foligno',\n",
       " 'Jamie Benn',\n",
       " 'Henrik Zetterberg',\n",
       " 'Anze Kopitar',\n",
       " 'Mikko Koivu',\n",
       " 'Max Pacioretty',\n",
       " 'Mike Fisher',\n",
       " 'Andy Greene',\n",
       " 'John Tavares',\n",
       " 'Ryan McDonagh',\n",
       " 'Erik Karlsson',\n",
       " 'Claude Giroux',\n",
       " 'Sidney Crosby',\n",
       " 'Alex Pietrangelo',\n",
       " 'Joe Pavelski',\n",
       " 'Steven Stamkos',\n",
       " 'Henrik Sedin',\n",
       " 'Alexander Ovechkin',\n",
       " 'Blake Wheeler']"
      ]
     },
     "execution_count": 45,
     "metadata": {},
     "output_type": "execute_result"
    }
   ],
   "source": [
    "# Get the captains\n",
    "C_players = []\n",
    "for i, n in enumerate(page_tables[1].findAll('td')):\n",
    "    if i % 3 == 0:\n",
    "        try:\n",
    "            C_players.append(n.findAll('a')[0].text)\n",
    "        except:\n",
    "            # N/A entry\n",
    "            print('Skipping entry:', n.contents)\n",
    "        \n",
    "C_players"
   ]
  },
  {
   "cell_type": "code",
   "execution_count": 46,
   "metadata": {
    "collapsed": false
   },
   "outputs": [
    {
     "name": "stdout",
     "output_type": "stream",
     "text": [
      "Skipping entry: [<i>Vacant</i>]\n",
      "Skipping entry: ['rotating', <sup class=\"reference\" id=\"cite_ref-Rotating_63-0\"><a href=\"#cite_note-Rotating-63\">[a]</a></sup>, <sup class=\"reference\" id=\"cite_ref-blues_64-0\"><a href=\"#cite_note-blues-64\">[63]</a></sup>]\n",
      "Skipping entry: ['rotating', <sup class=\"reference\" id=\"cite_ref-Rotating_63-1\"><a href=\"#cite_note-Rotating-63\">[a]</a></sup>]\n"
     ]
    },
    {
     "data": {
      "text/plain": [
       "['Corey Perry',\n",
       " 'Ryan Kesler',\n",
       " 'Oliver Ekman-Larsson',\n",
       " 'Martin Hanzal',\n",
       " 'Patrice Bergeron',\n",
       " 'David Krejci',\n",
       " 'Tyler Ennis',\n",
       " 'Josh Gorges',\n",
       " \"Ryan O'Reilly\",\n",
       " 'Sean Monahan',\n",
       " 'Dennis Wideman',\n",
       " 'Justin Faulk',\n",
       " 'Jordan Staal',\n",
       " 'Duncan Keith',\n",
       " 'Brent Seabrook',\n",
       " 'Jarome Iginla',\n",
       " 'Cody McLeod',\n",
       " 'Brandon Dubinsky',\n",
       " 'Boone Jenner',\n",
       " 'Tyler Seguin',\n",
       " 'Niklas Kronwall',\n",
       " 'Jordan Eberle',\n",
       " 'Andrew Ference',\n",
       " 'Ryan Nugent-Hopkins',\n",
       " 'Jussi Jokinen',\n",
       " 'Derek MacKenzie',\n",
       " 'Drew Doughty',\n",
       " 'Zach Parise',\n",
       " 'Ryan Suter',\n",
       " 'Brendan Gallagher',\n",
       " 'Andrei Markov',\n",
       " 'Tomas Plekanec',\n",
       " 'Shea Weber',\n",
       " 'Roman Josi',\n",
       " 'James Neal',\n",
       " 'Michael Cammalleri',\n",
       " 'Patrik Elias',\n",
       " 'Adam Henrique',\n",
       " 'Travis Zajac',\n",
       " 'Daniel Girardi',\n",
       " 'Marc Staal',\n",
       " 'Derek Stepan',\n",
       " 'Chris Neil',\n",
       " 'Kyle Turris',\n",
       " 'Wayne Simmonds',\n",
       " 'Mark Streit',\n",
       " 'Chris Kunitz',\n",
       " 'Evgeni Malkin',\n",
       " 'Logan Couture',\n",
       " 'Joe Thornton',\n",
       " 'Ryan Callahan',\n",
       " 'Tyler Bozak',\n",
       " 'Matt Hunwick',\n",
       " 'Alexandre Burrows',\n",
       " 'Daniel Sedin',\n",
       " 'Nicklas Backstrom',\n",
       " 'Brooks Orpik',\n",
       " 'Mark Scheifele',\n",
       " 'Dustin Byfuglien']"
      ]
     },
     "execution_count": 46,
     "metadata": {},
     "output_type": "execute_result"
    }
   ],
   "source": [
    "# Get the assistants\n",
    "A_players = []\n",
    "for i, n in enumerate(page_tables[2].findAll('td')):\n",
    "    if i % 3 == 0:\n",
    "        try:\n",
    "            A_players.append(n.findAll('a')[0].text)\n",
    "        except:\n",
    "            # N/A entry\n",
    "            print('Skipping entry:', n.contents)\n",
    "        if A_players[-1] == '[a]':\n",
    "            # N/A entry\n",
    "            print('Skipping entry:', n.contents)\n",
    "            A_players.pop()\n",
    "            \n",
    "A_players"
   ]
  },
  {
   "cell_type": "code",
   "execution_count": 47,
   "metadata": {
    "collapsed": false
   },
   "outputs": [
    {
     "data": {
      "text/plain": [
       "85"
      ]
     },
     "execution_count": 47,
     "metadata": {},
     "output_type": "execute_result"
    }
   ],
   "source": [
    "len(C_players) + len(A_players)"
   ]
  },
  {
   "cell_type": "markdown",
   "metadata": {},
   "source": [
    "Getting the world cup rosters"
   ]
  },
  {
   "cell_type": "code",
   "execution_count": 48,
   "metadata": {
    "collapsed": true
   },
   "outputs": [],
   "source": [
    "url = 'https://en.wikipedia.org/wiki/2016_World_Cup_of_Hockey_rosters'\n",
    "page = requests.get(url)\n",
    "soup = BeautifulSoup(page.content, 'html.parser')"
   ]
  },
  {
   "cell_type": "code",
   "execution_count": 49,
   "metadata": {
    "collapsed": true
   },
   "outputs": [],
   "source": [
    "page_tables = soup.findAll('table')"
   ]
  },
  {
   "cell_type": "code",
   "execution_count": 50,
   "metadata": {
    "collapsed": false
   },
   "outputs": [
    {
     "data": {
      "text/plain": [
       "['Canada',\n",
       " 'Czech Republic',\n",
       " 'Team Europe',\n",
       " 'United States',\n",
       " 'Finland',\n",
       " 'Team North America',\n",
       " 'Russia',\n",
       " 'Sweden']"
      ]
     },
     "execution_count": 50,
     "metadata": {},
     "output_type": "execute_result"
    }
   ],
   "source": [
    "teams = [' '.join(soup.findAll('ul')[1].findAll('li')[i].text.split()[1:])\n",
    "         for i in range(4)]\n",
    "teams = teams + [' '.join(soup.findAll('ul')[2].findAll('li')[i].text.split()[1:])\n",
    "                 for i in range(4)]\n",
    "teams"
   ]
  },
  {
   "cell_type": "code",
   "execution_count": 51,
   "metadata": {
    "collapsed": false
   },
   "outputs": [
    {
     "data": {
      "text/plain": [
       "'John Gibson'"
      ]
     },
     "execution_count": 51,
     "metadata": {},
     "output_type": "execute_result"
    }
   ],
   "source": [
    "page_tables[5].findAll('tr')[1].findAll('a')[1].text"
   ]
  },
  {
   "cell_type": "code",
   "execution_count": 52,
   "metadata": {
    "collapsed": false
   },
   "outputs": [
    {
     "name": "stdout",
     "output_type": "stream",
     "text": [
      "Skipping entry: ['\\n', <th style=\"width: 4%;\">No.</th>, '\\n', <th style=\"width: 4%;\">Pos.</th>, '\\n', <th style=\"width: 14%;\">Name</th>, '\\n', <th style=\"width: 12%;\">Height</th>, '\\n', <th style=\"width: 11%;\">Weight</th>, '\\n', <th style=\"width: 14%;\">Birthdate</th>, '\\n', <th style=\"width: 16%;\">Team</th>, '\\n']\n",
      "Skipping entry: ['\\n', <th style=\"width: 4%;\">No.</th>, '\\n', <th style=\"width: 4%;\">Pos.</th>, '\\n', <th style=\"width: 14%;\">Name</th>, '\\n', <th style=\"width: 12%;\">Height</th>, '\\n', <th style=\"width: 11%;\">Weight</th>, '\\n', <th style=\"width: 14%;\">Birthdate</th>, '\\n', <th style=\"width: 16%;\">Team</th>, '\\n']\n",
      "Skipping entry: ['\\n', <th style=\"width: 4%;\">No.</th>, '\\n', <th style=\"width: 4%;\">Pos.</th>, '\\n', <th style=\"width: 14%;\">Name</th>, '\\n', <th style=\"width: 12%;\">Height</th>, '\\n', <th style=\"width: 11%;\">Weight</th>, '\\n', <th style=\"width: 14%;\">Birthdate</th>, '\\n', <th style=\"width: 16%;\">Team</th>, '\\n']\n",
      "Skipping entry: ['\\n', <th style=\"width: 4%;\">No.</th>, '\\n', <th style=\"width: 4%;\">Pos.</th>, '\\n', <th style=\"width: 14%;\">Name</th>, '\\n', <th style=\"width: 12%;\">Height</th>, '\\n', <th style=\"width: 11%;\">Weight</th>, '\\n', <th style=\"width: 14%;\">Birthdate</th>, '\\n', <th style=\"width: 16%;\">Team</th>, '\\n']\n",
      "Skipping entry: ['\\n', <th style=\"width: 4%;\">No.</th>, '\\n', <th style=\"width: 4%;\">Pos.</th>, '\\n', <th style=\"width: 14%;\">Name</th>, '\\n', <th style=\"width: 12%;\">Height</th>, '\\n', <th style=\"width: 11%;\">Weight</th>, '\\n', <th style=\"width: 14%;\">Birthdate</th>, '\\n', <th style=\"width: 16%;\">Team</th>, '\\n']\n",
      "Skipping entry: ['\\n', <th style=\"width: 4%;\">No.</th>, '\\n', <th style=\"width: 4%;\">Pos.</th>, '\\n', <th style=\"width: 14%;\">Name</th>, '\\n', <th style=\"width: 12%;\">Height</th>, '\\n', <th style=\"width: 11%;\">Weight</th>, '\\n', <th style=\"width: 14%;\">Birthdate</th>, '\\n', <th style=\"width: 16%;\">Team</th>, '\\n']\n",
      "Skipping entry: ['\\n', <th style=\"width: 4%;\">No.</th>, '\\n', <th style=\"width: 4%;\">Pos.</th>, '\\n', <th style=\"width: 14%;\">Name</th>, '\\n', <th style=\"width: 12%;\">Height</th>, '\\n', <th style=\"width: 11%;\">Weight</th>, '\\n', <th style=\"width: 14%;\">Birthdate</th>, '\\n', <th style=\"width: 16%;\">Team</th>, '\\n']\n",
      "Skipping entry: ['\\n', <th style=\"width: 4%;\">No.</th>, '\\n', <th style=\"width: 4%;\">Pos.</th>, '\\n', <th style=\"width: 14%;\">Name</th>, '\\n', <th style=\"width: 12%;\">Height</th>, '\\n', <th style=\"width: 11%;\">Weight</th>, '\\n', <th style=\"width: 14%;\">Birthdate</th>, '\\n', <th style=\"width: 16%;\">Team</th>, '\\n']\n"
     ]
    },
    {
     "data": {
      "text/plain": [
       "[['Corey Crawford',\n",
       "  'Braden Holtby',\n",
       "  'Carey Price',\n",
       "  'Jay Bouwmeester',\n",
       "  'Brent Burns',\n",
       "  'Drew Doughty',\n",
       "  'Jake Muzzin',\n",
       "  'Alex Pietrangelo',\n",
       "  'Marc-Édouard Vlasic',\n",
       "  'Shea Weber',\n",
       "  'Patrice Bergeron',\n",
       "  'Logan Couture',\n",
       "  'Sidney Crosby',\n",
       "  'Matt Duchene',\n",
       "  'Ryan Getzlaf',\n",
       "  'Claude Giroux',\n",
       "  'Brad Marchand',\n",
       "  \"Ryan O'Reilly\",\n",
       "  'Corey Perry',\n",
       "  'Steven Stamkos',\n",
       "  'John Tavares',\n",
       "  'Joe Thornton',\n",
       "  'Jonathan Toews'],\n",
       " ['Petr Mrázek',\n",
       "  'Michal Neuvirth',\n",
       "  'Ondřej Pavelec',\n",
       "  'Michal Jordán',\n",
       "  'Michal Kempný',\n",
       "  'Tomáš Kundrátek',\n",
       "  'Zbyněk Michálek',\n",
       "  'Jakub Nakládal',\n",
       "  'Roman Polák',\n",
       "  'Andrej Šustr',\n",
       "  'Michal Birner',\n",
       "  'Roman Červenka',\n",
       "  'Radek Faksa',\n",
       "  'Michael Frolík',\n",
       "  'Martin Hanzal',\n",
       "  'Aleš Hemský',\n",
       "  'Dmitri Jaškin',\n",
       "  'Milan Michálek',\n",
       "  'Ondřej Palát',\n",
       "  'David Pastrňák',\n",
       "  'Tomáš Plekanec',\n",
       "  'Vladimír Sobotka',\n",
       "  'Jakub Voráček'],\n",
       " ['Thomas Greiss',\n",
       "  'Philipp Grubauer',\n",
       "  'Jaroslav Halák',\n",
       "  'Zdeno Chára',\n",
       "  'Christian Ehrhoff',\n",
       "  'Roman Josi',\n",
       "  'Luca Sbisa',\n",
       "  'Dennis Seidenberg',\n",
       "  'Andrej Sekera',\n",
       "  'Mark Streit',\n",
       "  'Pierre-Édouard Bellemare',\n",
       "  'Mikkel Bødker',\n",
       "  'Leon Draisaitl',\n",
       "  'Marián Gáborík',\n",
       "  'Jannik Hansen',\n",
       "  'Marián Hossa',\n",
       "  'Anže Kopitar',\n",
       "  'Nino Niederreiter',\n",
       "  'Frans Nielsen',\n",
       "  'Tobias Rieder',\n",
       "  'Tomáš Tatar',\n",
       "  'Thomas Vanek',\n",
       "  'Mats Zuccarello'],\n",
       " ['Ben Bishop',\n",
       "  'Jonathan Quick',\n",
       "  'Cory Schneider',\n",
       "  'Dustin Byfuglien',\n",
       "  'John Carlson',\n",
       "  'Erik Johnson',\n",
       "  'Jack Johnson',\n",
       "  'Ryan McDonagh',\n",
       "  'Matt Niskanen',\n",
       "  'Ryan Suter',\n",
       "  'Justin Abdelkader',\n",
       "  'David Backes',\n",
       "  'Brandon Dubinsky',\n",
       "  'Patrick Kane',\n",
       "  'Ryan Kesler',\n",
       "  'T. J. Oshie',\n",
       "  'Max Pacioretty',\n",
       "  'Kyle Palmieri',\n",
       "  'Zach Parise',\n",
       "  'Joe Pavelski',\n",
       "  'Derek Stepan',\n",
       "  'James van Riemsdyk',\n",
       "  'Blake Wheeler'],\n",
       " ['Mikko Koskinen',\n",
       "  'Tuukka Rask',\n",
       "  'Pekka Rinne',\n",
       "  'Jyrki Jokipakka',\n",
       "  'Sami Lepistö',\n",
       "  'Esa Lindell',\n",
       "  'Olli Määttä',\n",
       "  'Ville Pokka',\n",
       "  'Rasmus Ristolainen',\n",
       "  'Sami Vatanen',\n",
       "  'Sebastian Aho',\n",
       "  'Aleksander Barkov',\n",
       "  'Joonas Donskoi',\n",
       "  'Valtteri Filppula',\n",
       "  'Mikael Granlund',\n",
       "  'Erik Haula',\n",
       "  'Jussi Jokinen',\n",
       "  'Mikko Koivu',\n",
       "  'Leo Komarov',\n",
       "  'Lauri Korpikoski',\n",
       "  'Patrik Laine',\n",
       "  'Jori Lehterä',\n",
       "  'Teuvo Teräväinen'],\n",
       " ['John Gibson',\n",
       "  'Connor Hellebuyck',\n",
       "  'Matt Murray',\n",
       "  'Aaron Ekblad',\n",
       "  'Shayne Gostisbehere',\n",
       "  'Seth Jones',\n",
       "  'Ryan Murray',\n",
       "  'Colton Parayko',\n",
       "  'Morgan Rielly',\n",
       "  'Jacob Trouba',\n",
       "  'Sean Couturier',\n",
       "  'Jonathan Drouin',\n",
       "  'Jack Eichel',\n",
       "  'Johnny Gaudreau',\n",
       "  'Dylan Larkin',\n",
       "  'Nathan MacKinnon',\n",
       "  'Auston Matthews',\n",
       "  'Connor McDavid',\n",
       "  'J. T. Miller',\n",
       "  'Ryan Nugent-Hopkins',\n",
       "  'Brandon Saad',\n",
       "  'Mark Scheifele',\n",
       "  'Vincent Trocheck'],\n",
       " ['Sergei Bobrovsky',\n",
       "  'Semyon Varlamov',\n",
       "  'Andrei Vasilevskiy',\n",
       "  'Alexei Emelin',\n",
       "  'Dmitri Kulikov',\n",
       "  'Alexei Marchenko',\n",
       "  'Andrei Markov',\n",
       "  'Nikita Nesterov',\n",
       "  'Dmitry Orlov',\n",
       "  'Nikita Zaitsev',\n",
       "  'Artem Anisimov',\n",
       "  'Evgenii Dadonov',\n",
       "  'Pavel Datsyuk',\n",
       "  'Nikita Kucherov',\n",
       "  'Nikolay Kulemin',\n",
       "  'Evgeny Kuznetsov',\n",
       "  'Evgeni Malkin',\n",
       "  'Vladislav Namestnikov',\n",
       "  'Alexander Ovechkin',\n",
       "  'Artemi Panarin',\n",
       "  'Vadim Shipachyov',\n",
       "  'Vladimir Tarasenko',\n",
       "  'Ivan Telegin'],\n",
       " ['Jhonas Enroth',\n",
       "  'Henrik Lundqvist',\n",
       "  'Jacob Markström',\n",
       "  'Mattias Ekholm',\n",
       "  'Oliver Ekman-Larsson',\n",
       "  'Victor Hedman',\n",
       "  'Niklas Hjalmarsson',\n",
       "  'Erik Karlsson',\n",
       "  'Hampus Lindholm',\n",
       "  'Anton Strålman',\n",
       "  'Mikael Backlund',\n",
       "  'Patrik Berglund',\n",
       "  'Nicklas Bäckström',\n",
       "  'Loui Eriksson',\n",
       "  'Filip Forsberg',\n",
       "  'Carl Hagelin',\n",
       "  'Patric Hörnqvist',\n",
       "  'Marcus Krüger',\n",
       "  'Gabriel Landeskog',\n",
       "  'Daniel Sedin',\n",
       "  'Henrik Sedin',\n",
       "  'Jakob Silfverberg',\n",
       "  'Carl Söderberg']]"
      ]
     },
     "execution_count": 52,
     "metadata": {},
     "output_type": "execute_result"
    }
   ],
   "source": [
    "players = []\n",
    "\n",
    "for i, table in enumerate(page_tables):\n",
    "    \n",
    "    p = []\n",
    "    rows = table.findAll('tr')\n",
    "    \n",
    "    if i in (0, 1, 3, 4, 6, 7):\n",
    "        index = 0\n",
    "    elif i in (2, 5):\n",
    "        index = 1\n",
    "    else:\n",
    "        # Skip to the next table\n",
    "        continue\n",
    "\n",
    "    for row in rows:\n",
    "        try:\n",
    "            p.append(row.findAll('a')[index].text)\n",
    "        except:\n",
    "            # N/A entry\n",
    "            print('Skipping entry:', row.contents)\n",
    "            \n",
    "    players.append(p)\n",
    "    \n",
    "players"
   ]
  },
  {
   "cell_type": "code",
   "execution_count": 53,
   "metadata": {
    "collapsed": false
   },
   "outputs": [
    {
     "data": {
      "text/plain": [
       "[['Corey Crawford',\n",
       "  'Braden Holtby',\n",
       "  'Carey Price',\n",
       "  'Jay Bouwmeester',\n",
       "  'Brent Burns',\n",
       "  'Drew Doughty',\n",
       "  'Jake Muzzin',\n",
       "  'Alex Pietrangelo',\n",
       "  'Marc-Edouard Vlasic',\n",
       "  'Shea Weber',\n",
       "  'Patrice Bergeron',\n",
       "  'Logan Couture',\n",
       "  'Sidney Crosby',\n",
       "  'Matt Duchene',\n",
       "  'Ryan Getzlaf',\n",
       "  'Claude Giroux',\n",
       "  'Brad Marchand',\n",
       "  \"Ryan O'Reilly\",\n",
       "  'Corey Perry',\n",
       "  'Steven Stamkos',\n",
       "  'John Tavares',\n",
       "  'Joe Thornton',\n",
       "  'Jonathan Toews'],\n",
       " ['Petr Mrazek',\n",
       "  'Michal Neuvirth',\n",
       "  'Ondrej Pavelec',\n",
       "  'Michal Jordan',\n",
       "  'Michal Kempny',\n",
       "  'Tomas Kundratek',\n",
       "  'Zbynek Michalek',\n",
       "  'Jakub Nakladal',\n",
       "  'Roman Polak',\n",
       "  'Andrej Sustr',\n",
       "  'Michal Birner',\n",
       "  'Roman Cervenka',\n",
       "  'Radek Faksa',\n",
       "  'Michael Frolik',\n",
       "  'Martin Hanzal',\n",
       "  'Ales Hemsky',\n",
       "  'Dmitri Jaskin',\n",
       "  'Milan Michalek',\n",
       "  'Ondrej Palat',\n",
       "  'David Pastrnak',\n",
       "  'Tomas Plekanec',\n",
       "  'Vladimir Sobotka',\n",
       "  'Jakub Voracek'],\n",
       " ['Thomas Greiss',\n",
       "  'Philipp Grubauer',\n",
       "  'Jaroslav Halak',\n",
       "  'Zdeno Chara',\n",
       "  'Christian Ehrhoff',\n",
       "  'Roman Josi',\n",
       "  'Luca Sbisa',\n",
       "  'Dennis Seidenberg',\n",
       "  'Andrej Sekera',\n",
       "  'Mark Streit',\n",
       "  'Pierre-Edouard Bellemare',\n",
       "  'Mikkel Bodker',\n",
       "  'Leon Draisaitl',\n",
       "  'Marian Gaborik',\n",
       "  'Jannik Hansen',\n",
       "  'Marian Hossa',\n",
       "  'Anze Kopitar',\n",
       "  'Nino Niederreiter',\n",
       "  'Frans Nielsen',\n",
       "  'Tobias Rieder',\n",
       "  'Tomas Tatar',\n",
       "  'Thomas Vanek',\n",
       "  'Mats Zuccarello'],\n",
       " ['Ben Bishop',\n",
       "  'Jonathan Quick',\n",
       "  'Cory Schneider',\n",
       "  'Dustin Byfuglien',\n",
       "  'John Carlson',\n",
       "  'Erik Johnson',\n",
       "  'Jack Johnson',\n",
       "  'Ryan McDonagh',\n",
       "  'Matt Niskanen',\n",
       "  'Ryan Suter',\n",
       "  'Justin Abdelkader',\n",
       "  'David Backes',\n",
       "  'Brandon Dubinsky',\n",
       "  'Patrick Kane',\n",
       "  'Ryan Kesler',\n",
       "  'T. J. Oshie',\n",
       "  'Max Pacioretty',\n",
       "  'Kyle Palmieri',\n",
       "  'Zach Parise',\n",
       "  'Joe Pavelski',\n",
       "  'Derek Stepan',\n",
       "  'James van Riemsdyk',\n",
       "  'Blake Wheeler'],\n",
       " ['Mikko Koskinen',\n",
       "  'Tuukka Rask',\n",
       "  'Pekka Rinne',\n",
       "  'Jyrki Jokipakka',\n",
       "  'Sami Lepisto',\n",
       "  'Esa Lindell',\n",
       "  'Olli Maatta',\n",
       "  'Ville Pokka',\n",
       "  'Rasmus Ristolainen',\n",
       "  'Sami Vatanen',\n",
       "  'Sebastian Aho',\n",
       "  'Aleksander Barkov',\n",
       "  'Joonas Donskoi',\n",
       "  'Valtteri Filppula',\n",
       "  'Mikael Granlund',\n",
       "  'Erik Haula',\n",
       "  'Jussi Jokinen',\n",
       "  'Mikko Koivu',\n",
       "  'Leo Komarov',\n",
       "  'Lauri Korpikoski',\n",
       "  'Patrik Laine',\n",
       "  'Jori Lehtera',\n",
       "  'Teuvo Teravainen'],\n",
       " ['John Gibson',\n",
       "  'Connor Hellebuyck',\n",
       "  'Matt Murray',\n",
       "  'Aaron Ekblad',\n",
       "  'Shayne Gostisbehere',\n",
       "  'Seth Jones',\n",
       "  'Ryan Murray',\n",
       "  'Colton Parayko',\n",
       "  'Morgan Rielly',\n",
       "  'Jacob Trouba',\n",
       "  'Sean Couturier',\n",
       "  'Jonathan Drouin',\n",
       "  'Jack Eichel',\n",
       "  'Johnny Gaudreau',\n",
       "  'Dylan Larkin',\n",
       "  'Nathan MacKinnon',\n",
       "  'Auston Matthews',\n",
       "  'Connor McDavid',\n",
       "  'J. T. Miller',\n",
       "  'Ryan Nugent-Hopkins',\n",
       "  'Brandon Saad',\n",
       "  'Mark Scheifele',\n",
       "  'Vincent Trocheck'],\n",
       " ['Sergei Bobrovsky',\n",
       "  'Semyon Varlamov',\n",
       "  'Andrei Vasilevskiy',\n",
       "  'Alexei Emelin',\n",
       "  'Dmitri Kulikov',\n",
       "  'Alexei Marchenko',\n",
       "  'Andrei Markov',\n",
       "  'Nikita Nesterov',\n",
       "  'Dmitry Orlov',\n",
       "  'Nikita Zaitsev',\n",
       "  'Artem Anisimov',\n",
       "  'Evgenii Dadonov',\n",
       "  'Pavel Datsyuk',\n",
       "  'Nikita Kucherov',\n",
       "  'Nikolay Kulemin',\n",
       "  'Evgeny Kuznetsov',\n",
       "  'Evgeni Malkin',\n",
       "  'Vladislav Namestnikov',\n",
       "  'Alexander Ovechkin',\n",
       "  'Artemi Panarin',\n",
       "  'Vadim Shipachyov',\n",
       "  'Vladimir Tarasenko',\n",
       "  'Ivan Telegin'],\n",
       " ['Jhonas Enroth',\n",
       "  'Henrik Lundqvist',\n",
       "  'Jacob Markstrom',\n",
       "  'Mattias Ekholm',\n",
       "  'Oliver Ekman-Larsson',\n",
       "  'Victor Hedman',\n",
       "  'Niklas Hjalmarsson',\n",
       "  'Erik Karlsson',\n",
       "  'Hampus Lindholm',\n",
       "  'Anton Stralman',\n",
       "  'Mikael Backlund',\n",
       "  'Patrik Berglund',\n",
       "  'Nicklas Backstrom',\n",
       "  'Loui Eriksson',\n",
       "  'Filip Forsberg',\n",
       "  'Carl Hagelin',\n",
       "  'Patric Hornqvist',\n",
       "  'Marcus Kruger',\n",
       "  'Gabriel Landeskog',\n",
       "  'Daniel Sedin',\n",
       "  'Henrik Sedin',\n",
       "  'Jakob Silfverberg',\n",
       "  'Carl Soderberg']]"
      ]
     },
     "execution_count": 53,
     "metadata": {},
     "output_type": "execute_result"
    }
   ],
   "source": [
    "# Converting to ASCII\n",
    "from unidecode import unidecode\n",
    "players = [[unidecode(p) for p in p_list] for p_list in players]\n",
    "players"
   ]
  },
  {
   "cell_type": "code",
   "execution_count": 54,
   "metadata": {
    "collapsed": false
   },
   "outputs": [
    {
     "name": "stdout",
     "output_type": "stream",
     "text": [
      "Canada ['Corey Crawford', 'Braden Holtby'] ...\n",
      "Czech Republic ['Petr Mrazek', 'Michal Neuvirth'] ...\n",
      "Team Europe ['Thomas Greiss', 'Philipp Grubauer'] ...\n",
      "United States ['Ben Bishop', 'Jonathan Quick'] ...\n",
      "Finland ['Mikko Koskinen', 'Tuukka Rask'] ...\n",
      "Team North America ['John Gibson', 'Connor Hellebuyck'] ...\n",
      "Russia ['Sergei Bobrovsky', 'Semyon Varlamov'] ...\n",
      "Sweden ['Jhonas Enroth', 'Henrik Lundqvist'] ...\n"
     ]
    }
   ],
   "source": [
    "# We can pair them up like this\n",
    "for t, p in zip(teams, players):\n",
    "    print(t, p[:2], '...')"
   ]
  },
  {
   "cell_type": "markdown",
   "metadata": {},
   "source": [
    "### Determine the number of captains per team"
   ]
  },
  {
   "cell_type": "code",
   "execution_count": 55,
   "metadata": {
    "collapsed": false
   },
   "outputs": [],
   "source": [
    "def get_captain_number(team):\n",
    "    ''' Returns the number of captains & assistant\n",
    "    captains in a given set of players.'''\n",
    "    \n",
    "    N_C, N_A = 0, 0\n",
    "    for player in team:\n",
    "        if player in C_players:\n",
    "            N_C += 1\n",
    "        elif player in A_players:\n",
    "            N_A += 1\n",
    "            \n",
    "    return N_C, N_A\n",
    "\n",
    "def get_captain_names(team):\n",
    "    ''' Returns the number of captains & assistant\n",
    "    captains in a given set of players.'''\n",
    "    \n",
    "    N_C, N_A = [], []\n",
    "    for player in team:\n",
    "        if player in C_players:\n",
    "            N_C.append(player)\n",
    "        elif player in A_players:\n",
    "            N_A.append(player)\n",
    "            \n",
    "    return N_C, N_A"
   ]
  },
  {
   "cell_type": "markdown",
   "metadata": {},
   "source": [
    "How many in the entire tournament?"
   ]
  },
  {
   "cell_type": "code",
   "execution_count": 56,
   "metadata": {
    "collapsed": false
   },
   "outputs": [
    {
     "name": "stdout",
     "output_type": "stream",
     "text": [
      "(#C, #A)\n",
      "(18, 25)\n",
      "\n",
      "(%C, %A)\n",
      "0.69 0.42\n"
     ]
    }
   ],
   "source": [
    "# Flatten player list and feed into the function\n",
    "all_players = [p for p_list in players for p in p_list]\n",
    "print('(#C, #A)')\n",
    "print(get_captain_number(all_players))\n",
    "print('')\n",
    "print('(%C, %A)')\n",
    "print('%.2f %.2f' %\n",
    "     (get_captain_number(all_players)[0] / len(C_players),\n",
    "      get_captain_number(all_players)[1] / len(A_players)))"
   ]
  },
  {
   "cell_type": "code",
   "execution_count": 57,
   "metadata": {
    "collapsed": false
   },
   "outputs": [
    {
     "data": {
      "text/plain": [
       "[('Canada', (7, 7)),\n",
       " ('Czech Republic', (0, 2)),\n",
       " ('Team Europe', (2, 2)),\n",
       " ('United States', (4, 6)),\n",
       " ('Finland', (1, 1)),\n",
       " ('Team North America', (0, 2)),\n",
       " ('Russia', (1, 2)),\n",
       " ('Sweden', (3, 3))]"
      ]
     },
     "execution_count": 57,
     "metadata": {},
     "output_type": "execute_result"
    }
   ],
   "source": [
    "N_captains = list(map(get_captain_number, players))\n",
    "list(zip(teams, N_captains))"
   ]
  },
  {
   "cell_type": "code",
   "execution_count": 58,
   "metadata": {
    "collapsed": false
   },
   "outputs": [
    {
     "data": {
      "text/plain": [
       "[('Canada',\n",
       "  (['Alex Pietrangelo',\n",
       "    'Sidney Crosby',\n",
       "    'Ryan Getzlaf',\n",
       "    'Claude Giroux',\n",
       "    'Steven Stamkos',\n",
       "    'John Tavares',\n",
       "    'Jonathan Toews'],\n",
       "   ['Drew Doughty',\n",
       "    'Shea Weber',\n",
       "    'Patrice Bergeron',\n",
       "    'Logan Couture',\n",
       "    \"Ryan O'Reilly\",\n",
       "    'Corey Perry',\n",
       "    'Joe Thornton'])),\n",
       " ('Czech Republic', ([], ['Martin Hanzal', 'Tomas Plekanec'])),\n",
       " ('Team Europe',\n",
       "  (['Zdeno Chara', 'Anze Kopitar'], ['Roman Josi', 'Mark Streit'])),\n",
       " ('United States',\n",
       "  (['Ryan McDonagh', 'Max Pacioretty', 'Joe Pavelski', 'Blake Wheeler'],\n",
       "   ['Dustin Byfuglien',\n",
       "    'Ryan Suter',\n",
       "    'Brandon Dubinsky',\n",
       "    'Ryan Kesler',\n",
       "    'Zach Parise',\n",
       "    'Derek Stepan'])),\n",
       " ('Finland', (['Mikko Koivu'], ['Jussi Jokinen'])),\n",
       " ('Team North America', ([], ['Ryan Nugent-Hopkins', 'Mark Scheifele'])),\n",
       " ('Russia', (['Alexander Ovechkin'], ['Andrei Markov', 'Evgeni Malkin'])),\n",
       " ('Sweden',\n",
       "  (['Erik Karlsson', 'Gabriel Landeskog', 'Henrik Sedin'],\n",
       "   ['Oliver Ekman-Larsson', 'Nicklas Backstrom', 'Daniel Sedin']))]"
      ]
     },
     "execution_count": 58,
     "metadata": {},
     "output_type": "execute_result"
    }
   ],
   "source": [
    "captains = list(map(get_captain_names, players))\n",
    "list(zip(teams, captains))"
   ]
  },
  {
   "cell_type": "markdown",
   "metadata": {},
   "source": [
    "### Make bar plot"
   ]
  },
  {
   "cell_type": "code",
   "execution_count": 70,
   "metadata": {
    "collapsed": false
   },
   "outputs": [
    {
     "data": {
      "text/html": [
       "\n",
       "    <div class=\"bk-root\">\n",
       "        <a href=\"http://bokeh.pydata.org\" target=\"_blank\" class=\"bk-logo bk-logo-small bk-logo-notebook\"></a>\n",
       "        <span id=\"ab5eb6d7-e081-450b-864b-5c9d45c5d9b3\">Loading BokehJS ...</span>\n",
       "    </div>"
      ]
     },
     "metadata": {},
     "output_type": "display_data"
    },
    {
     "data": {
      "application/javascript": [
       "\n",
       "(function(global) {\n",
       "  function now() {\n",
       "    return new Date();\n",
       "  }\n",
       "\n",
       "  var force = \"1\";\n",
       "\n",
       "  if (typeof (window._bokeh_onload_callbacks) === \"undefined\" || force !== \"\") {\n",
       "    window._bokeh_onload_callbacks = [];\n",
       "    window._bokeh_is_loading = undefined;\n",
       "  }\n",
       "\n",
       "  function run_callbacks() {\n",
       "    window._bokeh_onload_callbacks.forEach(function(callback) { callback() });\n",
       "    delete window._bokeh_onload_callbacks\n",
       "    console.info(\"Bokeh: all callbacks have finished\");\n",
       "  }\n",
       "\n",
       "  function load_libs(js_urls, callback) {\n",
       "    window._bokeh_onload_callbacks.push(callback);\n",
       "    if (window._bokeh_is_loading > 0) {\n",
       "      console.log(\"Bokeh: BokehJS is being loaded, scheduling callback at\", now());\n",
       "      return null;\n",
       "    }\n",
       "    if (js_urls == null || js_urls.length === 0) {\n",
       "      run_callbacks();\n",
       "      return null;\n",
       "    }\n",
       "    console.log(\"Bokeh: BokehJS not loaded, scheduling load and callback at\", now());\n",
       "    window._bokeh_is_loading = js_urls.length;\n",
       "    for (var i = 0; i < js_urls.length; i++) {\n",
       "      var url = js_urls[i];\n",
       "      var s = document.createElement('script');\n",
       "      s.src = url;\n",
       "      s.async = false;\n",
       "      s.onreadystatechange = s.onload = function() {\n",
       "        window._bokeh_is_loading--;\n",
       "        if (window._bokeh_is_loading === 0) {\n",
       "          console.log(\"Bokeh: all BokehJS libraries loaded\");\n",
       "          run_callbacks()\n",
       "        }\n",
       "      };\n",
       "      s.onerror = function() {\n",
       "        console.warn(\"failed to load library \" + url);\n",
       "      };\n",
       "      console.log(\"Bokeh: injecting script tag for BokehJS library: \", url);\n",
       "      document.getElementsByTagName(\"head\")[0].appendChild(s);\n",
       "    }\n",
       "  };\n",
       "\n",
       "  var js_urls = ['https://cdn.pydata.org/bokeh/release/bokeh-0.12.1.min.js', 'https://cdn.pydata.org/bokeh/release/bokeh-widgets-0.12.1.min.js', 'https://cdn.pydata.org/bokeh/release/bokeh-compiler-0.12.1.min.js'];\n",
       "\n",
       "  var inline_js = [\n",
       "    function(Bokeh) {\n",
       "      Bokeh.set_log_level(\"info\");\n",
       "    },\n",
       "    \n",
       "    function(Bokeh) {\n",
       "      \n",
       "      Bokeh.$(\"#ab5eb6d7-e081-450b-864b-5c9d45c5d9b3\").text(\"BokehJS successfully loaded\");\n",
       "      var kernel = Jupyter.notebook.kernel\n",
       "      if (kernel.execute !== undefined) {\n",
       "          kernel.execute(\"import bokeh.io; bokeh.io._nb_loaded = True\");\n",
       "      }\n",
       "    },\n",
       "    function(Bokeh) {\n",
       "      console.log(\"Bokeh: injecting CSS: https://cdn.pydata.org/bokeh/release/bokeh-0.12.1.min.css\");\n",
       "      Bokeh.embed.inject_css(\"https://cdn.pydata.org/bokeh/release/bokeh-0.12.1.min.css\");\n",
       "      console.log(\"Bokeh: injecting CSS: https://cdn.pydata.org/bokeh/release/bokeh-widgets-0.12.1.min.css\");\n",
       "      Bokeh.embed.inject_css(\"https://cdn.pydata.org/bokeh/release/bokeh-widgets-0.12.1.min.css\");\n",
       "    }\n",
       "  ];\n",
       "\n",
       "  function run_inline_js() {\n",
       "    for (var i = 0; i < inline_js.length; i++) {\n",
       "      inline_js[i](window.Bokeh);\n",
       "    }\n",
       "  }\n",
       "\n",
       "  if (window._bokeh_is_loading === 0) {\n",
       "    console.log(\"Bokeh: BokehJS loaded, going straight to plotting\");\n",
       "    run_inline_js();\n",
       "  } else {\n",
       "    load_libs(js_urls, function() {\n",
       "      console.log(\"Bokeh: BokehJS plotting callback run at\", now());\n",
       "      run_inline_js();\n",
       "    });\n",
       "  }\n",
       "}(this));"
      ]
     },
     "metadata": {},
     "output_type": "display_data"
    }
   ],
   "source": [
    "from bokeh.charts import Bar\n",
    "from bokeh.charts.attributes import color, cat\n",
    "from bokeh.charts.operations import blend\n",
    "from bokeh.models import HoverTool, ColumnDataSource\n",
    "from bokeh.plotting import figure\n",
    "from bokeh.io import output_notebook, show\n",
    "from bokeh.models.renderers import GlyphRenderer\n",
    "from bokeh.models import FixedTicker\n",
    "output_notebook()"
   ]
  },
  {
   "cell_type": "code",
   "execution_count": 71,
   "metadata": {
    "collapsed": true
   },
   "outputs": [],
   "source": [
    "df = pd.DataFrame(dict(zip(teams, N_captains)),\n",
    "                  index=['Number of Captains', 'Number of Alternate Captains'])"
   ]
  },
  {
   "cell_type": "code",
   "execution_count": 72,
   "metadata": {
    "collapsed": false
   },
   "outputs": [
    {
     "data": {
      "text/html": [
       "<div>\n",
       "<table border=\"1\" class=\"dataframe\">\n",
       "  <thead>\n",
       "    <tr style=\"text-align: right;\">\n",
       "      <th></th>\n",
       "      <th>Number of Captains</th>\n",
       "      <th>Number of Alternate Captains</th>\n",
       "      <th>Total Number of Captains</th>\n",
       "      <th>Team</th>\n",
       "      <th>C</th>\n",
       "      <th>A</th>\n",
       "    </tr>\n",
       "  </thead>\n",
       "  <tbody>\n",
       "    <tr>\n",
       "      <th>Canada</th>\n",
       "      <td>7</td>\n",
       "      <td>7</td>\n",
       "      <td>14</td>\n",
       "      <td>Canada</td>\n",
       "      <td>Alex Pietrangelo, Sidney Crosby, Ryan Getzlaf,...</td>\n",
       "      <td>Drew Doughty, Shea Weber, Patrice Bergeron, Lo...</td>\n",
       "    </tr>\n",
       "    <tr>\n",
       "      <th>United States</th>\n",
       "      <td>4</td>\n",
       "      <td>6</td>\n",
       "      <td>10</td>\n",
       "      <td>United States</td>\n",
       "      <td>Ryan McDonagh, Max Pacioretty, Joe Pavelski, B...</td>\n",
       "      <td>Dustin Byfuglien, Ryan Suter, Brandon Dubinsky...</td>\n",
       "    </tr>\n",
       "    <tr>\n",
       "      <th>Sweden</th>\n",
       "      <td>3</td>\n",
       "      <td>3</td>\n",
       "      <td>6</td>\n",
       "      <td>Sweden</td>\n",
       "      <td>Erik Karlsson, Gabriel Landeskog, Henrik Sedin</td>\n",
       "      <td>Oliver Ekman-Larsson, Nicklas Backstrom, Danie...</td>\n",
       "    </tr>\n",
       "    <tr>\n",
       "      <th>Team Europe</th>\n",
       "      <td>2</td>\n",
       "      <td>2</td>\n",
       "      <td>4</td>\n",
       "      <td>Team Europe</td>\n",
       "      <td>Zdeno Chara, Anze Kopitar</td>\n",
       "      <td>Roman Josi, Mark Streit</td>\n",
       "    </tr>\n",
       "    <tr>\n",
       "      <th>Russia</th>\n",
       "      <td>1</td>\n",
       "      <td>2</td>\n",
       "      <td>3</td>\n",
       "      <td>Russia</td>\n",
       "      <td>Alexander Ovechkin</td>\n",
       "      <td>Andrei Markov, Evgeni Malkin</td>\n",
       "    </tr>\n",
       "    <tr>\n",
       "      <th>Czech Republic</th>\n",
       "      <td>0</td>\n",
       "      <td>2</td>\n",
       "      <td>2</td>\n",
       "      <td>Czech Republic</td>\n",
       "      <td></td>\n",
       "      <td>Martin Hanzal, Tomas Plekanec</td>\n",
       "    </tr>\n",
       "    <tr>\n",
       "      <th>Finland</th>\n",
       "      <td>1</td>\n",
       "      <td>1</td>\n",
       "      <td>2</td>\n",
       "      <td>Finland</td>\n",
       "      <td>Mikko Koivu</td>\n",
       "      <td>Jussi Jokinen</td>\n",
       "    </tr>\n",
       "    <tr>\n",
       "      <th>Team North America</th>\n",
       "      <td>0</td>\n",
       "      <td>2</td>\n",
       "      <td>2</td>\n",
       "      <td>Team North America</td>\n",
       "      <td></td>\n",
       "      <td>Ryan Nugent-Hopkins, Mark Scheifele</td>\n",
       "    </tr>\n",
       "  </tbody>\n",
       "</table>\n",
       "</div>"
      ],
      "text/plain": [
       "                    Number of Captains  Number of Alternate Captains  \\\n",
       "Canada                               7                             7   \n",
       "United States                        4                             6   \n",
       "Sweden                               3                             3   \n",
       "Team Europe                          2                             2   \n",
       "Russia                               1                             2   \n",
       "Czech Republic                       0                             2   \n",
       "Finland                              1                             1   \n",
       "Team North America                   0                             2   \n",
       "\n",
       "                    Total Number of Captains                Team  \\\n",
       "Canada                                    14              Canada   \n",
       "United States                             10       United States   \n",
       "Sweden                                     6              Sweden   \n",
       "Team Europe                                4         Team Europe   \n",
       "Russia                                     3              Russia   \n",
       "Czech Republic                             2      Czech Republic   \n",
       "Finland                                    2             Finland   \n",
       "Team North America                         2  Team North America   \n",
       "\n",
       "                                                                    C  \\\n",
       "Canada              Alex Pietrangelo, Sidney Crosby, Ryan Getzlaf,...   \n",
       "United States       Ryan McDonagh, Max Pacioretty, Joe Pavelski, B...   \n",
       "Sweden                 Erik Karlsson, Gabriel Landeskog, Henrik Sedin   \n",
       "Team Europe                                 Zdeno Chara, Anze Kopitar   \n",
       "Russia                                             Alexander Ovechkin   \n",
       "Czech Republic                                                          \n",
       "Finland                                                   Mikko Koivu   \n",
       "Team North America                                                      \n",
       "\n",
       "                                                                    A  \n",
       "Canada              Drew Doughty, Shea Weber, Patrice Bergeron, Lo...  \n",
       "United States       Dustin Byfuglien, Ryan Suter, Brandon Dubinsky...  \n",
       "Sweden              Oliver Ekman-Larsson, Nicklas Backstrom, Danie...  \n",
       "Team Europe                                   Roman Josi, Mark Streit  \n",
       "Russia                                   Andrei Markov, Evgeni Malkin  \n",
       "Czech Republic                          Martin Hanzal, Tomas Plekanec  \n",
       "Finland                                                 Jussi Jokinen  \n",
       "Team North America                Ryan Nugent-Hopkins, Mark Scheifele  "
      ]
     },
     "execution_count": 72,
     "metadata": {},
     "output_type": "execute_result"
    }
   ],
   "source": [
    "df = df.T\n",
    "df['Total Number of Captains'] = df.apply(lambda x: x[0] + x[1], axis=1)\n",
    "df['Team'] = df.index\n",
    "df['C'] = df.Team.map(dict(zip(teams, [', '.join(c[0]) for c in captains])))\n",
    "df['A'] = df.Team.map(dict(zip(teams, [', '.join(c[1]) for c in captains])))\n",
    "df.sort_values(by='Total Number of Captains', ascending=False, inplace=True)\n",
    "df"
   ]
  },
  {
   "cell_type": "code",
   "execution_count": 80,
   "metadata": {
    "collapsed": false
   },
   "outputs": [
    {
     "data": {
      "text/html": [
       "\n",
       "\n",
       "    <div class=\"bk-root\">\n",
       "        <div class=\"plotdiv\" id=\"0bb4f58e-1a17-43de-969a-e84eea458d3a\"></div>\n",
       "    </div>\n",
       "<script type=\"text/javascript\">\n",
       "  \n",
       "  (function(global) {\n",
       "    function now() {\n",
       "      return new Date();\n",
       "    }\n",
       "  \n",
       "    var force = \"\";\n",
       "  \n",
       "    if (typeof (window._bokeh_onload_callbacks) === \"undefined\" || force !== \"\") {\n",
       "      window._bokeh_onload_callbacks = [];\n",
       "      window._bokeh_is_loading = undefined;\n",
       "    }\n",
       "  \n",
       "    function run_callbacks() {\n",
       "      window._bokeh_onload_callbacks.forEach(function(callback) { callback() });\n",
       "      delete window._bokeh_onload_callbacks\n",
       "      console.info(\"Bokeh: all callbacks have finished\");\n",
       "    }\n",
       "  \n",
       "    function load_libs(js_urls, callback) {\n",
       "      window._bokeh_onload_callbacks.push(callback);\n",
       "      if (window._bokeh_is_loading > 0) {\n",
       "        console.log(\"Bokeh: BokehJS is being loaded, scheduling callback at\", now());\n",
       "        return null;\n",
       "      }\n",
       "      if (js_urls == null || js_urls.length === 0) {\n",
       "        run_callbacks();\n",
       "        return null;\n",
       "      }\n",
       "      console.log(\"Bokeh: BokehJS not loaded, scheduling load and callback at\", now());\n",
       "      window._bokeh_is_loading = js_urls.length;\n",
       "      for (var i = 0; i < js_urls.length; i++) {\n",
       "        var url = js_urls[i];\n",
       "        var s = document.createElement('script');\n",
       "        s.src = url;\n",
       "        s.async = false;\n",
       "        s.onreadystatechange = s.onload = function() {\n",
       "          window._bokeh_is_loading--;\n",
       "          if (window._bokeh_is_loading === 0) {\n",
       "            console.log(\"Bokeh: all BokehJS libraries loaded\");\n",
       "            run_callbacks()\n",
       "          }\n",
       "        };\n",
       "        s.onerror = function() {\n",
       "          console.warn(\"failed to load library \" + url);\n",
       "        };\n",
       "        console.log(\"Bokeh: injecting script tag for BokehJS library: \", url);\n",
       "        document.getElementsByTagName(\"head\")[0].appendChild(s);\n",
       "      }\n",
       "    };var element = document.getElementById(\"0bb4f58e-1a17-43de-969a-e84eea458d3a\");\n",
       "    if (element == null) {\n",
       "      console.log(\"Bokeh: ERROR: autoload.js configured with elementid '0bb4f58e-1a17-43de-969a-e84eea458d3a' but no matching script tag was found. \")\n",
       "      return false;\n",
       "    }\n",
       "  \n",
       "    var js_urls = [];\n",
       "  \n",
       "    var inline_js = [\n",
       "      function(Bokeh) {\n",
       "        Bokeh.$(function() {\n",
       "            var docs_json = {\"ec5470b4-26ff-4857-ad51-7a53ca304fa2\":{\"roots\":{\"references\":[{\"attributes\":{\"ticks\":[1,2,3,4,5,6,7,8,9,10,11,12,13,14]},\"id\":\"17188b58-e55e-41a0-9105-633f70abd479\",\"type\":\"FixedTicker\"},{\"attributes\":{\"callback\":null,\"column_names\":[\"height\",\"color\",\"fill_alpha\",\"label\",\"x\",\"line_color\",\"y\",\"line_alpha\",\"width\"],\"data\":{\"Team\":[\"Team Europe\"],\"caps\":[\"Number of Alternate Captains\"],\"chart_index\":[{\"Team\":\"Team Europe\",\"caps\":\"Number of Alternate Captains\"}],\"color\":[\"Orange\"],\"fill_alpha\":[0.8],\"height\":[2.0],\"label\":[{\"Team\":\"Team Europe\",\"caps\":\"Number of Alternate Captains\"}],\"line_alpha\":[1.0],\"line_color\":[\"white\"],\"width\":[0.8],\"x\":[\"Team Europe\"],\"y\":[3.0]}},\"id\":\"50e9c07f-dc7d-4923-b1aa-8285c4244673\",\"type\":\"ColumnDataSource\"},{\"attributes\":{\"fill_alpha\":{\"field\":\"fill_alpha\"},\"fill_color\":{\"field\":\"color\"},\"height\":{\"field\":\"height\",\"units\":\"data\"},\"line_color\":{\"field\":\"line_color\"},\"width\":{\"field\":\"width\",\"units\":\"data\"},\"x\":{\"field\":\"x\"},\"y\":{\"field\":\"y\"}},\"id\":\"b6a8fafa-6dba-493a-ad25-01175ed4d33c\",\"type\":\"Rect\"},{\"attributes\":{\"callback\":null,\"column_names\":[\"height\",\"color\",\"fill_alpha\",\"label\",\"x\",\"line_color\",\"y\",\"line_alpha\",\"width\"],\"data\":{\"Team\":[\"Sweden\"],\"caps\":[\"Number of Captains\"],\"chart_index\":[{\"Team\":\"Sweden\",\"caps\":\"Number of Captains\"}],\"color\":[\"OrangeRed\"],\"fill_alpha\":[0.8],\"height\":[3.0],\"label\":[{\"Team\":\"Sweden\",\"caps\":\"Number of Captains\"}],\"line_alpha\":[1.0],\"line_color\":[\"white\"],\"width\":[0.8],\"x\":[\"Sweden\"],\"y\":[1.5]}},\"id\":\"4e12a21a-e016-45c9-ac33-65d808dd0725\",\"type\":\"ColumnDataSource\"},{\"attributes\":{\"data_source\":{\"id\":\"0896fe21-3ef9-4f0b-a628-2346f44f09a9\",\"type\":\"ColumnDataSource\"},\"glyph\":{\"id\":\"a0a6d08e-d3f7-4cc5-b288-18be0e1d1c33\",\"type\":\"Rect\"},\"hover_glyph\":null,\"nonselection_glyph\":null,\"selection_glyph\":null},\"id\":\"a9cc9f43-bf2d-4024-931d-d59d625ea145\",\"type\":\"GlyphRenderer\"},{\"attributes\":{\"callback\":null,\"column_names\":[\"height\",\"color\",\"fill_alpha\",\"label\",\"x\",\"line_color\",\"y\",\"line_alpha\",\"width\"],\"data\":{\"Team\":[\"Team Europe\"],\"caps\":[\"Number of Captains\"],\"chart_index\":[{\"Team\":\"Team Europe\",\"caps\":\"Number of Captains\"}],\"color\":[\"OrangeRed\"],\"fill_alpha\":[0.8],\"height\":[2.0],\"label\":[{\"Team\":\"Team Europe\",\"caps\":\"Number of Captains\"}],\"line_alpha\":[1.0],\"line_color\":[\"white\"],\"width\":[0.8],\"x\":[\"Team Europe\"],\"y\":[1.0]}},\"id\":\"df1315f6-166d-4df5-8f59-944f3e2193b0\",\"type\":\"ColumnDataSource\"},{\"attributes\":{\"fill_alpha\":{\"field\":\"fill_alpha\"},\"fill_color\":{\"field\":\"color\"},\"height\":{\"field\":\"height\",\"units\":\"data\"},\"line_color\":{\"field\":\"line_color\"},\"width\":{\"field\":\"width\",\"units\":\"data\"},\"x\":{\"field\":\"x\"},\"y\":{\"field\":\"y\"}},\"id\":\"4c6bd54a-18d4-42e4-b070-862a7989c3e0\",\"type\":\"Rect\"},{\"attributes\":{\"fill_alpha\":{\"field\":\"fill_alpha\"},\"fill_color\":{\"field\":\"color\"},\"height\":{\"field\":\"height\",\"units\":\"data\"},\"line_color\":{\"field\":\"line_color\"},\"width\":{\"field\":\"width\",\"units\":\"data\"},\"x\":{\"field\":\"x\"},\"y\":{\"field\":\"y\"}},\"id\":\"3167f15a-c2a0-4ce3-99e1-e57670971f22\",\"type\":\"Rect\"},{\"attributes\":{\"axis_label\":\"Team\",\"formatter\":{\"id\":\"f7e97967-21c9-4350-a7c4-ec22a27271cd\",\"type\":\"CategoricalTickFormatter\"},\"major_label_orientation\":0.7853981633974483,\"plot\":{\"id\":\"a2288309-b1b2-4335-9c4e-74ba9594afd3\",\"subtype\":\"Chart\",\"type\":\"Plot\"},\"ticker\":{\"id\":\"8fc231d5-59ec-4e08-ae0f-8916c8b1f0ca\",\"type\":\"CategoricalTicker\"}},\"id\":\"ad8bb8a4-5f87-463c-9826-0caa963e505d\",\"type\":\"CategoricalAxis\"},{\"attributes\":{\"callback\":null,\"column_names\":[\"height\",\"color\",\"fill_alpha\",\"label\",\"x\",\"line_color\",\"y\",\"line_alpha\",\"width\"],\"data\":{\"Team\":[\"United States\"],\"caps\":[\"Number of Alternate Captains\"],\"chart_index\":[{\"Team\":\"United States\",\"caps\":\"Number of Alternate Captains\"}],\"color\":[\"Orange\"],\"fill_alpha\":[0.8],\"height\":[6.0],\"label\":[{\"Team\":\"United States\",\"caps\":\"Number of Alternate Captains\"}],\"line_alpha\":[1.0],\"line_color\":[\"white\"],\"width\":[0.8],\"x\":[\"United States\"],\"y\":[7.0]}},\"id\":\"116d68af-07c3-41e9-8c95-1411b6dc862d\",\"type\":\"ColumnDataSource\"},{\"attributes\":{\"plot\":{\"id\":\"a2288309-b1b2-4335-9c4e-74ba9594afd3\",\"subtype\":\"Chart\",\"type\":\"Plot\"}},\"id\":\"ee4294b2-474b-4625-95cf-1ceeaf987739\",\"type\":\"ResetTool\"},{\"attributes\":{\"fill_alpha\":{\"field\":\"fill_alpha\"},\"fill_color\":{\"field\":\"color\"},\"height\":{\"field\":\"height\",\"units\":\"data\"},\"line_color\":{\"field\":\"line_color\"},\"width\":{\"field\":\"width\",\"units\":\"data\"},\"x\":{\"field\":\"x\"},\"y\":{\"field\":\"y\"}},\"id\":\"23e204d6-92b9-4c59-9dc9-b6198f4e73d7\",\"type\":\"Rect\"},{\"attributes\":{\"callback\":null,\"column_names\":[\"height\",\"color\",\"fill_alpha\",\"label\",\"x\",\"line_color\",\"y\",\"line_alpha\",\"width\"],\"data\":{\"Team\":[\"Czech Republic\"],\"caps\":[\"Number of Captains\"],\"chart_index\":[{\"Team\":\"Czech Republic\",\"caps\":\"Number of Captains\"}],\"color\":[\"OrangeRed\"],\"fill_alpha\":[0.8],\"height\":[0.0],\"label\":[{\"Team\":\"Czech Republic\",\"caps\":\"Number of Captains\"}],\"line_alpha\":[1.0],\"line_color\":[\"white\"],\"width\":[0.8],\"x\":[\"Czech Republic\"],\"y\":[0.0]}},\"id\":\"4ffb6d62-d8f6-41ac-9439-9038b6ea8ca8\",\"type\":\"ColumnDataSource\"},{\"attributes\":{\"callback\":null,\"column_names\":[\"height\",\"color\",\"fill_alpha\",\"label\",\"x\",\"line_color\",\"y\",\"line_alpha\",\"width\"],\"data\":{\"Team\":[\"Canada\"],\"caps\":[\"Number of Captains\"],\"chart_index\":[{\"Team\":\"Canada\",\"caps\":\"Number of Captains\"}],\"color\":[\"OrangeRed\"],\"fill_alpha\":[0.8],\"height\":[7.0],\"label\":[{\"Team\":\"Canada\",\"caps\":\"Number of Captains\"}],\"line_alpha\":[1.0],\"line_color\":[\"white\"],\"width\":[0.8],\"x\":[\"Canada\"],\"y\":[3.5]}},\"id\":\"08f8ce22-118a-4310-8653-d2012c88d2ff\",\"type\":\"ColumnDataSource\"},{\"attributes\":{\"fill_alpha\":{\"field\":\"fill_alpha\"},\"fill_color\":{\"field\":\"color\"},\"height\":{\"field\":\"height\",\"units\":\"data\"},\"line_color\":{\"field\":\"line_color\"},\"width\":{\"field\":\"width\",\"units\":\"data\"},\"x\":{\"field\":\"x\"},\"y\":{\"field\":\"y\"}},\"id\":\"c81f488d-d936-4477-97c1-4c916b21d25c\",\"type\":\"Rect\"},{\"attributes\":{\"fill_alpha\":{\"field\":\"fill_alpha\"},\"fill_color\":{\"field\":\"color\"},\"height\":{\"field\":\"height\",\"units\":\"data\"},\"line_color\":{\"field\":\"line_color\"},\"width\":{\"field\":\"width\",\"units\":\"data\"},\"x\":{\"field\":\"x\"},\"y\":{\"field\":\"y\"}},\"id\":\"8dba3ffd-4a07-45ba-b2c0-3ec2e34be250\",\"type\":\"Rect\"},{\"attributes\":{\"data_source\":{\"id\":\"c69d227b-7c21-43ea-9b75-aac34d28c215\",\"type\":\"ColumnDataSource\"},\"glyph\":{\"id\":\"904b3ad2-2591-4054-93b4-ea9cdef0b309\",\"type\":\"Rect\"},\"hover_glyph\":null,\"nonselection_glyph\":null,\"selection_glyph\":null},\"id\":\"b2c80137-400d-4ccd-9eed-7cfa84c4cf15\",\"type\":\"GlyphRenderer\"},{\"attributes\":{\"bottom_units\":\"screen\",\"fill_alpha\":{\"value\":0.5},\"fill_color\":{\"value\":\"lightgrey\"},\"left_units\":\"screen\",\"level\":\"overlay\",\"line_alpha\":{\"value\":1.0},\"line_color\":{\"value\":\"black\"},\"line_dash\":[4,4],\"line_width\":{\"value\":2},\"plot\":null,\"render_mode\":\"css\",\"right_units\":\"screen\",\"top_units\":\"screen\"},\"id\":\"01853df9-4236-4244-941f-a37431829133\",\"type\":\"BoxAnnotation\"},{\"attributes\":{\"data_source\":{\"id\":\"0779fdf5-249f-4d86-b393-4a21fe4d0a2b\",\"type\":\"ColumnDataSource\"},\"glyph\":{\"id\":\"8dba3ffd-4a07-45ba-b2c0-3ec2e34be250\",\"type\":\"Rect\"},\"hover_glyph\":null,\"nonselection_glyph\":null,\"selection_glyph\":null},\"id\":\"1e0cb7ae-7a40-4732-883c-b446ece5121e\",\"type\":\"GlyphRenderer\"},{\"attributes\":{\"data_source\":{\"id\":\"4d5b30a2-7e8c-4de1-8f25-1a323fbf54d3\",\"type\":\"ColumnDataSource\"},\"glyph\":{\"id\":\"91f2e7b7-aabe-4ed3-9e88-dc64a732a5a8\",\"type\":\"Rect\"},\"hover_glyph\":null,\"nonselection_glyph\":null,\"selection_glyph\":null},\"id\":\"62d12578-013a-44a4-b714-56c248e64495\",\"type\":\"GlyphRenderer\"},{\"attributes\":{\"data_source\":{\"id\":\"50e9c07f-dc7d-4923-b1aa-8285c4244673\",\"type\":\"ColumnDataSource\"},\"glyph\":{\"id\":\"5b44998d-1006-424f-9a68-f369a81f8a0e\",\"type\":\"Rect\"},\"hover_glyph\":null,\"nonselection_glyph\":null,\"selection_glyph\":null},\"id\":\"da7800b6-f4dd-4954-9b91-2a74600299c9\",\"type\":\"GlyphRenderer\"},{\"attributes\":{\"fill_alpha\":{\"field\":\"fill_alpha\"},\"fill_color\":{\"field\":\"color\"},\"height\":{\"field\":\"height\",\"units\":\"data\"},\"line_color\":{\"field\":\"line_color\"},\"width\":{\"field\":\"width\",\"units\":\"data\"},\"x\":{\"field\":\"x\"},\"y\":{\"field\":\"y\"}},\"id\":\"5ecff187-bfaf-411c-9f89-0aebe3063d97\",\"type\":\"Rect\"},{\"attributes\":{\"callback\":null,\"column_names\":[\"height\",\"color\",\"fill_alpha\",\"label\",\"x\",\"line_color\",\"y\",\"line_alpha\",\"width\"],\"data\":{\"Team\":[\"United States\"],\"caps\":[\"Number of Captains\"],\"chart_index\":[{\"Team\":\"United States\",\"caps\":\"Number of Captains\"}],\"color\":[\"OrangeRed\"],\"fill_alpha\":[0.8],\"height\":[4.0],\"label\":[{\"Team\":\"United States\",\"caps\":\"Number of Captains\"}],\"line_alpha\":[1.0],\"line_color\":[\"white\"],\"width\":[0.8],\"x\":[\"United States\"],\"y\":[2.0]}},\"id\":\"f30e7888-499d-44ed-aa0c-a236c1a1302c\",\"type\":\"ColumnDataSource\"},{\"attributes\":{},\"id\":\"094749d7-0274-4eae-8911-0f29b0e7f031\",\"type\":\"ToolEvents\"},{\"attributes\":{\"axis_label\":\"Sum( Number Of Captains )\",\"formatter\":{\"id\":\"ab140eda-ba63-461d-bcd3-4032825855f4\",\"type\":\"BasicTickFormatter\"},\"plot\":{\"id\":\"a2288309-b1b2-4335-9c4e-74ba9594afd3\",\"subtype\":\"Chart\",\"type\":\"Plot\"},\"ticker\":{\"id\":\"17188b58-e55e-41a0-9105-633f70abd479\",\"type\":\"FixedTicker\"}},\"id\":\"636b7ae2-86cf-49d9-bf14-c6a76aab5e99\",\"type\":\"LinearAxis\"},{\"attributes\":{\"callback\":null,\"column_names\":[\"height\",\"color\",\"fill_alpha\",\"label\",\"x\",\"line_color\",\"y\",\"line_alpha\",\"width\"],\"data\":{\"Team\":[\"Finland\"],\"caps\":[\"Number of Captains\"],\"chart_index\":[{\"Team\":\"Finland\",\"caps\":\"Number of Captains\"}],\"color\":[\"OrangeRed\"],\"fill_alpha\":[0.8],\"height\":[1.0],\"label\":[{\"Team\":\"Finland\",\"caps\":\"Number of Captains\"}],\"line_alpha\":[1.0],\"line_color\":[\"white\"],\"width\":[0.8],\"x\":[\"Finland\"],\"y\":[0.5]}},\"id\":\"4d5b30a2-7e8c-4de1-8f25-1a323fbf54d3\",\"type\":\"ColumnDataSource\"},{\"attributes\":{\"legends\":[[\"Number of Captains\",[{\"id\":\"8087b2d3-42d5-41da-9b67-794074bdb4a5\",\"type\":\"GlyphRenderer\"}]],[\"Number of Alternate Captains\",[{\"id\":\"a9cc9f43-bf2d-4024-931d-d59d625ea145\",\"type\":\"GlyphRenderer\"}]]],\"plot\":{\"id\":\"a2288309-b1b2-4335-9c4e-74ba9594afd3\",\"subtype\":\"Chart\",\"type\":\"Plot\"}},\"id\":\"2b5669b1-4d2b-4c09-a04c-a14e848cda0f\",\"type\":\"Legend\"},{\"attributes\":{\"fill_alpha\":{\"field\":\"fill_alpha\"},\"fill_color\":{\"field\":\"color\"},\"height\":{\"field\":\"height\",\"units\":\"data\"},\"line_color\":{\"field\":\"line_color\"},\"width\":{\"field\":\"width\",\"units\":\"data\"},\"x\":{\"field\":\"x\"},\"y\":{\"field\":\"y\"}},\"id\":\"349bd60a-8a98-45f7-9aec-6bced374a239\",\"type\":\"Rect\"},{\"attributes\":{\"below\":[{\"id\":\"ad8bb8a4-5f87-463c-9826-0caa963e505d\",\"type\":\"CategoricalAxis\"}],\"left\":[{\"id\":\"636b7ae2-86cf-49d9-bf14-c6a76aab5e99\",\"type\":\"LinearAxis\"}],\"plot_height\":1000,\"plot_width\":1000,\"renderers\":[{\"id\":\"01853df9-4236-4244-941f-a37431829133\",\"type\":\"BoxAnnotation\"},{\"id\":\"8087b2d3-42d5-41da-9b67-794074bdb4a5\",\"type\":\"GlyphRenderer\"},{\"id\":\"fa415f1f-2ecf-4142-a7f8-ba5893457fae\",\"type\":\"GlyphRenderer\"},{\"id\":\"bc2d8ac2-8e5e-4f72-aa63-64140d99d548\",\"type\":\"GlyphRenderer\"},{\"id\":\"ef5c9167-295c-4ae9-a82c-f11cb2ec68f0\",\"type\":\"GlyphRenderer\"},{\"id\":\"ef078836-6dbc-4b0f-aeb9-49f77a8d4cce\",\"type\":\"GlyphRenderer\"},{\"id\":\"0eb3fbc1-2a99-4a2d-b532-92dd76acd5bc\",\"type\":\"GlyphRenderer\"},{\"id\":\"62d12578-013a-44a4-b714-56c248e64495\",\"type\":\"GlyphRenderer\"},{\"id\":\"285cbe67-480e-4434-908a-e16fa11a9097\",\"type\":\"GlyphRenderer\"},{\"id\":\"a9cc9f43-bf2d-4024-931d-d59d625ea145\",\"type\":\"GlyphRenderer\"},{\"id\":\"15095669-83d9-46dd-b05b-15f9b78f5b12\",\"type\":\"GlyphRenderer\"},{\"id\":\"1dd6f205-be68-4c46-82f4-7587a0316517\",\"type\":\"GlyphRenderer\"},{\"id\":\"da7800b6-f4dd-4954-9b91-2a74600299c9\",\"type\":\"GlyphRenderer\"},{\"id\":\"1e0cb7ae-7a40-4732-883c-b446ece5121e\",\"type\":\"GlyphRenderer\"},{\"id\":\"eb059fca-51f3-4c27-b5b9-2cca0c2e6a86\",\"type\":\"GlyphRenderer\"},{\"id\":\"b2c80137-400d-4ccd-9eed-7cfa84c4cf15\",\"type\":\"GlyphRenderer\"},{\"id\":\"197cad7f-d2cf-4709-a916-b7a335ef24cc\",\"type\":\"GlyphRenderer\"},{\"id\":\"2b5669b1-4d2b-4c09-a04c-a14e848cda0f\",\"type\":\"Legend\"},{\"id\":\"ad8bb8a4-5f87-463c-9826-0caa963e505d\",\"type\":\"CategoricalAxis\"},{\"id\":\"636b7ae2-86cf-49d9-bf14-c6a76aab5e99\",\"type\":\"LinearAxis\"},{\"id\":\"4264d171-b4bd-442a-b6d2-bdd33a252cb6\",\"type\":\"Grid\"}],\"title\":{\"id\":\"83d63688-8c96-4e2c-af7d-9f3cb228dc51\",\"type\":\"Title\"},\"tool_events\":{\"id\":\"094749d7-0274-4eae-8911-0f29b0e7f031\",\"type\":\"ToolEvents\"},\"toolbar\":{\"id\":\"7d5abab2-1825-4e7a-9397-05fa740732e9\",\"type\":\"Toolbar\"},\"x_mapper_type\":\"auto\",\"x_range\":{\"id\":\"af204f81-bd70-4457-9e87-24edba81aa20\",\"type\":\"FactorRange\"},\"y_mapper_type\":\"auto\",\"y_range\":{\"id\":\"6b5b3d0f-57db-4516-bc6e-cb24d66752b4\",\"type\":\"Range1d\"}},\"id\":\"a2288309-b1b2-4335-9c4e-74ba9594afd3\",\"subtype\":\"Chart\",\"type\":\"Plot\"},{\"attributes\":{\"callback\":null,\"column_names\":[\"height\",\"color\",\"fill_alpha\",\"label\",\"x\",\"line_color\",\"y\",\"line_alpha\",\"width\"],\"data\":{\"Team\":[\"Team North America\"],\"caps\":[\"Number of Captains\"],\"chart_index\":[{\"Team\":\"Team North America\",\"caps\":\"Number of Captains\"}],\"color\":[\"OrangeRed\"],\"fill_alpha\":[0.8],\"height\":[0.0],\"label\":[{\"Team\":\"Team North America\",\"caps\":\"Number of Captains\"}],\"line_alpha\":[1.0],\"line_color\":[\"white\"],\"width\":[0.8],\"x\":[\"Team North America\"],\"y\":[0.0]}},\"id\":\"ed720cad-4833-4dba-a9ca-b436cf690f29\",\"type\":\"ColumnDataSource\"},{\"attributes\":{\"fill_alpha\":{\"field\":\"fill_alpha\"},\"fill_color\":{\"field\":\"color\"},\"height\":{\"field\":\"height\",\"units\":\"data\"},\"line_color\":{\"field\":\"line_color\"},\"width\":{\"field\":\"width\",\"units\":\"data\"},\"x\":{\"field\":\"x\"},\"y\":{\"field\":\"y\"}},\"id\":\"904b3ad2-2591-4054-93b4-ea9cdef0b309\",\"type\":\"Rect\"},{\"attributes\":{\"plot\":{\"id\":\"a2288309-b1b2-4335-9c4e-74ba9594afd3\",\"subtype\":\"Chart\",\"type\":\"Plot\"}},\"id\":\"66a25d42-6384-4d5d-ac59-8b1f74c90bb2\",\"type\":\"SaveTool\"},{\"attributes\":{\"fill_alpha\":{\"field\":\"fill_alpha\"},\"fill_color\":{\"field\":\"color\"},\"height\":{\"field\":\"height\",\"units\":\"data\"},\"line_color\":{\"field\":\"line_color\"},\"width\":{\"field\":\"width\",\"units\":\"data\"},\"x\":{\"field\":\"x\"},\"y\":{\"field\":\"y\"}},\"id\":\"cf072a81-2238-4517-a9a4-9da2f6047595\",\"type\":\"Rect\"},{\"attributes\":{\"fill_alpha\":{\"field\":\"fill_alpha\"},\"fill_color\":{\"field\":\"color\"},\"height\":{\"field\":\"height\",\"units\":\"data\"},\"line_color\":{\"field\":\"line_color\"},\"width\":{\"field\":\"width\",\"units\":\"data\"},\"x\":{\"field\":\"x\"},\"y\":{\"field\":\"y\"}},\"id\":\"5b44998d-1006-424f-9a68-f369a81f8a0e\",\"type\":\"Rect\"},{\"attributes\":{\"fill_alpha\":{\"field\":\"fill_alpha\"},\"fill_color\":{\"field\":\"color\"},\"height\":{\"field\":\"height\",\"units\":\"data\"},\"line_color\":{\"field\":\"line_color\"},\"width\":{\"field\":\"width\",\"units\":\"data\"},\"x\":{\"field\":\"x\"},\"y\":{\"field\":\"y\"}},\"id\":\"56574055-b0f2-41ce-aa78-4d877056e381\",\"type\":\"Rect\"},{\"attributes\":{},\"id\":\"f7e97967-21c9-4350-a7c4-ec22a27271cd\",\"type\":\"CategoricalTickFormatter\"},{\"attributes\":{\"overlay\":{\"id\":\"01853df9-4236-4244-941f-a37431829133\",\"type\":\"BoxAnnotation\"},\"plot\":{\"id\":\"a2288309-b1b2-4335-9c4e-74ba9594afd3\",\"subtype\":\"Chart\",\"type\":\"Plot\"}},\"id\":\"43f250a7-e95f-410e-9a06-65dcad25724c\",\"type\":\"BoxZoomTool\"},{\"attributes\":{},\"id\":\"ab140eda-ba63-461d-bcd3-4032825855f4\",\"type\":\"BasicTickFormatter\"},{\"attributes\":{\"data_source\":{\"id\":\"4e12a21a-e016-45c9-ac33-65d808dd0725\",\"type\":\"ColumnDataSource\"},\"glyph\":{\"id\":\"3167f15a-c2a0-4ce3-99e1-e57670971f22\",\"type\":\"Rect\"},\"hover_glyph\":null,\"nonselection_glyph\":null,\"selection_glyph\":null},\"id\":\"bc2d8ac2-8e5e-4f72-aa63-64140d99d548\",\"type\":\"GlyphRenderer\"},{\"attributes\":{},\"id\":\"8fc231d5-59ec-4e08-ae0f-8916c8b1f0ca\",\"type\":\"CategoricalTicker\"},{\"attributes\":{\"data_source\":{\"id\":\"116d68af-07c3-41e9-8c95-1411b6dc862d\",\"type\":\"ColumnDataSource\"},\"glyph\":{\"id\":\"b6a8fafa-6dba-493a-ad25-01175ed4d33c\",\"type\":\"Rect\"},\"hover_glyph\":null,\"nonselection_glyph\":null,\"selection_glyph\":null},\"id\":\"15095669-83d9-46dd-b05b-15f9b78f5b12\",\"type\":\"GlyphRenderer\"},{\"attributes\":{\"callback\":null,\"column_names\":[\"height\",\"color\",\"fill_alpha\",\"label\",\"x\",\"line_color\",\"y\",\"line_alpha\",\"width\"],\"data\":{\"Team\":[\"Canada\"],\"caps\":[\"Number of Alternate Captains\"],\"chart_index\":[{\"Team\":\"Canada\",\"caps\":\"Number of Alternate Captains\"}],\"color\":[\"Orange\"],\"fill_alpha\":[0.8],\"height\":[7.0],\"label\":[{\"Team\":\"Canada\",\"caps\":\"Number of Alternate Captains\"}],\"line_alpha\":[1.0],\"line_color\":[\"white\"],\"width\":[0.8],\"x\":[\"Canada\"],\"y\":[10.5]}},\"id\":\"0896fe21-3ef9-4f0b-a628-2346f44f09a9\",\"type\":\"ColumnDataSource\"},{\"attributes\":{\"fill_alpha\":{\"field\":\"fill_alpha\"},\"fill_color\":{\"field\":\"color\"},\"height\":{\"field\":\"height\",\"units\":\"data\"},\"line_color\":{\"field\":\"line_color\"},\"width\":{\"field\":\"width\",\"units\":\"data\"},\"x\":{\"field\":\"x\"},\"y\":{\"field\":\"y\"}},\"id\":\"22488d7b-b0ba-4e1c-9298-ad19c0c141dc\",\"type\":\"Rect\"},{\"attributes\":{\"active_drag\":\"auto\",\"active_scroll\":\"auto\",\"active_tap\":\"auto\",\"tools\":[{\"id\":\"f455728e-3691-42e8-ab06-929e0d5cce7f\",\"type\":\"PanTool\"},{\"id\":\"5791ddcf-ddd1-4770-93e4-070b35347c8a\",\"type\":\"WheelZoomTool\"},{\"id\":\"43f250a7-e95f-410e-9a06-65dcad25724c\",\"type\":\"BoxZoomTool\"},{\"id\":\"66a25d42-6384-4d5d-ac59-8b1f74c90bb2\",\"type\":\"SaveTool\"},{\"id\":\"ee4294b2-474b-4625-95cf-1ceeaf987739\",\"type\":\"ResetTool\"},{\"id\":\"dd692298-a5f1-4deb-ad68-d3b0503ab59b\",\"type\":\"HelpTool\"}]},\"id\":\"7d5abab2-1825-4e7a-9397-05fa740732e9\",\"type\":\"Toolbar\"},{\"attributes\":{\"data_source\":{\"id\":\"08f8ce22-118a-4310-8653-d2012c88d2ff\",\"type\":\"ColumnDataSource\"},\"glyph\":{\"id\":\"23e204d6-92b9-4c59-9dc9-b6198f4e73d7\",\"type\":\"Rect\"},\"hover_glyph\":null,\"nonselection_glyph\":null,\"selection_glyph\":null},\"id\":\"8087b2d3-42d5-41da-9b67-794074bdb4a5\",\"type\":\"GlyphRenderer\"},{\"attributes\":{\"data_source\":{\"id\":\"4ffb6d62-d8f6-41ac-9439-9038b6ea8ca8\",\"type\":\"ColumnDataSource\"},\"glyph\":{\"id\":\"c81f488d-d936-4477-97c1-4c916b21d25c\",\"type\":\"Rect\"},\"hover_glyph\":null,\"nonselection_glyph\":null,\"selection_glyph\":null},\"id\":\"0eb3fbc1-2a99-4a2d-b532-92dd76acd5bc\",\"type\":\"GlyphRenderer\"},{\"attributes\":{\"plot\":{\"id\":\"a2288309-b1b2-4335-9c4e-74ba9594afd3\",\"subtype\":\"Chart\",\"type\":\"Plot\"}},\"id\":\"5791ddcf-ddd1-4770-93e4-070b35347c8a\",\"type\":\"WheelZoomTool\"},{\"attributes\":{\"data_source\":{\"id\":\"ed720cad-4833-4dba-a9ca-b436cf690f29\",\"type\":\"ColumnDataSource\"},\"glyph\":{\"id\":\"56574055-b0f2-41ce-aa78-4d877056e381\",\"type\":\"Rect\"},\"hover_glyph\":null,\"nonselection_glyph\":null,\"selection_glyph\":null},\"id\":\"285cbe67-480e-4434-908a-e16fa11a9097\",\"type\":\"GlyphRenderer\"},{\"attributes\":{\"callback\":null,\"column_names\":[\"height\",\"color\",\"fill_alpha\",\"label\",\"x\",\"line_color\",\"y\",\"line_alpha\",\"width\"],\"data\":{\"Team\":[\"Russia\"],\"caps\":[\"Number of Alternate Captains\"],\"chart_index\":[{\"Team\":\"Russia\",\"caps\":\"Number of Alternate Captains\"}],\"color\":[\"Orange\"],\"fill_alpha\":[0.8],\"height\":[2.0],\"label\":[{\"Team\":\"Russia\",\"caps\":\"Number of Alternate Captains\"}],\"line_alpha\":[1.0],\"line_color\":[\"white\"],\"width\":[0.8],\"x\":[\"Russia\"],\"y\":[2.0]}},\"id\":\"0779fdf5-249f-4d86-b393-4a21fe4d0a2b\",\"type\":\"ColumnDataSource\"},{\"attributes\":{\"plot\":null,\"text\":\"2016 World Cup of Hockey NHL Captains\"},\"id\":\"83d63688-8c96-4e2c-af7d-9f3cb228dc51\",\"type\":\"Title\"},{\"attributes\":{\"callback\":null,\"end\":14.7},\"id\":\"6b5b3d0f-57db-4516-bc6e-cb24d66752b4\",\"type\":\"Range1d\"},{\"attributes\":{\"data_source\":{\"id\":\"af42c848-97e3-44d6-8c16-af638fbdecf8\",\"type\":\"ColumnDataSource\"},\"glyph\":{\"id\":\"349bd60a-8a98-45f7-9aec-6bced374a239\",\"type\":\"Rect\"},\"hover_glyph\":null,\"nonselection_glyph\":null,\"selection_glyph\":null},\"id\":\"ef078836-6dbc-4b0f-aeb9-49f77a8d4cce\",\"type\":\"GlyphRenderer\"},{\"attributes\":{\"callback\":null,\"column_names\":[\"height\",\"color\",\"fill_alpha\",\"label\",\"x\",\"line_color\",\"y\",\"line_alpha\",\"width\"],\"data\":{\"Team\":[\"Czech Republic\"],\"caps\":[\"Number of Alternate Captains\"],\"chart_index\":[{\"Team\":\"Czech Republic\",\"caps\":\"Number of Alternate Captains\"}],\"color\":[\"Orange\"],\"fill_alpha\":[0.8],\"height\":[2.0],\"label\":[{\"Team\":\"Czech Republic\",\"caps\":\"Number of Alternate Captains\"}],\"line_alpha\":[1.0],\"line_color\":[\"white\"],\"width\":[0.8],\"x\":[\"Czech Republic\"],\"y\":[1.0]}},\"id\":\"442fa91d-ab4b-4599-a3f5-f9d1e23404be\",\"type\":\"ColumnDataSource\"},{\"attributes\":{\"callback\":null,\"column_names\":[\"height\",\"color\",\"fill_alpha\",\"label\",\"x\",\"line_color\",\"y\",\"line_alpha\",\"width\"],\"data\":{\"Team\":[\"Russia\"],\"caps\":[\"Number of Captains\"],\"chart_index\":[{\"Team\":\"Russia\",\"caps\":\"Number of Captains\"}],\"color\":[\"OrangeRed\"],\"fill_alpha\":[0.8],\"height\":[1.0],\"label\":[{\"Team\":\"Russia\",\"caps\":\"Number of Captains\"}],\"line_alpha\":[1.0],\"line_color\":[\"white\"],\"width\":[0.8],\"x\":[\"Russia\"],\"y\":[0.5]}},\"id\":\"af42c848-97e3-44d6-8c16-af638fbdecf8\",\"type\":\"ColumnDataSource\"},{\"attributes\":{\"callback\":null,\"factors\":[\"Canada\",\"United States\",\"Sweden\",\"Team Europe\",\"Russia\",\"Czech Republic\",\"Finland\",\"Team North America\"]},\"id\":\"af204f81-bd70-4457-9e87-24edba81aa20\",\"type\":\"FactorRange\"},{\"attributes\":{\"data_source\":{\"id\":\"9a459620-bcee-424d-9d43-84e5978afc4d\",\"type\":\"ColumnDataSource\"},\"glyph\":{\"id\":\"22488d7b-b0ba-4e1c-9298-ad19c0c141dc\",\"type\":\"Rect\"},\"hover_glyph\":null,\"nonselection_glyph\":null,\"selection_glyph\":null},\"id\":\"1dd6f205-be68-4c46-82f4-7587a0316517\",\"type\":\"GlyphRenderer\"},{\"attributes\":{\"plot\":{\"id\":\"a2288309-b1b2-4335-9c4e-74ba9594afd3\",\"subtype\":\"Chart\",\"type\":\"Plot\"}},\"id\":\"dd692298-a5f1-4deb-ad68-d3b0503ab59b\",\"type\":\"HelpTool\"},{\"attributes\":{\"data_source\":{\"id\":\"df1315f6-166d-4df5-8f59-944f3e2193b0\",\"type\":\"ColumnDataSource\"},\"glyph\":{\"id\":\"52d23c1a-7387-438c-9e2d-eb96363aced3\",\"type\":\"Rect\"},\"hover_glyph\":null,\"nonselection_glyph\":null,\"selection_glyph\":null},\"id\":\"ef5c9167-295c-4ae9-a82c-f11cb2ec68f0\",\"type\":\"GlyphRenderer\"},{\"attributes\":{\"data_source\":{\"id\":\"e17bfe47-cc26-4a8e-aa1a-24e42dea6503\",\"type\":\"ColumnDataSource\"},\"glyph\":{\"id\":\"5ecff187-bfaf-411c-9f89-0aebe3063d97\",\"type\":\"Rect\"},\"hover_glyph\":null,\"nonselection_glyph\":null,\"selection_glyph\":null},\"id\":\"197cad7f-d2cf-4709-a916-b7a335ef24cc\",\"type\":\"GlyphRenderer\"},{\"attributes\":{\"fill_alpha\":{\"field\":\"fill_alpha\"},\"fill_color\":{\"field\":\"color\"},\"height\":{\"field\":\"height\",\"units\":\"data\"},\"line_color\":{\"field\":\"line_color\"},\"width\":{\"field\":\"width\",\"units\":\"data\"},\"x\":{\"field\":\"x\"},\"y\":{\"field\":\"y\"}},\"id\":\"a0a6d08e-d3f7-4cc5-b288-18be0e1d1c33\",\"type\":\"Rect\"},{\"attributes\":{\"callback\":null,\"column_names\":[\"height\",\"color\",\"fill_alpha\",\"label\",\"x\",\"line_color\",\"y\",\"line_alpha\",\"width\"],\"data\":{\"Team\":[\"Finland\"],\"caps\":[\"Number of Alternate Captains\"],\"chart_index\":[{\"Team\":\"Finland\",\"caps\":\"Number of Alternate Captains\"}],\"color\":[\"Orange\"],\"fill_alpha\":[0.8],\"height\":[1.0],\"label\":[{\"Team\":\"Finland\",\"caps\":\"Number of Alternate Captains\"}],\"line_alpha\":[1.0],\"line_color\":[\"white\"],\"width\":[0.8],\"x\":[\"Finland\"],\"y\":[1.5]}},\"id\":\"c69d227b-7c21-43ea-9b75-aac34d28c215\",\"type\":\"ColumnDataSource\"},{\"attributes\":{\"callback\":null,\"column_names\":[\"height\",\"color\",\"fill_alpha\",\"label\",\"x\",\"line_color\",\"y\",\"line_alpha\",\"width\"],\"data\":{\"Team\":[\"Sweden\"],\"caps\":[\"Number of Alternate Captains\"],\"chart_index\":[{\"Team\":\"Sweden\",\"caps\":\"Number of Alternate Captains\"}],\"color\":[\"Orange\"],\"fill_alpha\":[0.8],\"height\":[3.0],\"label\":[{\"Team\":\"Sweden\",\"caps\":\"Number of Alternate Captains\"}],\"line_alpha\":[1.0],\"line_color\":[\"white\"],\"width\":[0.8],\"x\":[\"Sweden\"],\"y\":[4.5]}},\"id\":\"9a459620-bcee-424d-9d43-84e5978afc4d\",\"type\":\"ColumnDataSource\"},{\"attributes\":{\"dimension\":1,\"plot\":{\"id\":\"a2288309-b1b2-4335-9c4e-74ba9594afd3\",\"subtype\":\"Chart\",\"type\":\"Plot\"},\"ticker\":{\"id\":\"0f9369c9-5e3a-44b6-b081-913648d3e8d2\",\"type\":\"BasicTicker\"}},\"id\":\"4264d171-b4bd-442a-b6d2-bdd33a252cb6\",\"type\":\"Grid\"},{\"attributes\":{\"callback\":null,\"column_names\":[\"height\",\"color\",\"fill_alpha\",\"label\",\"x\",\"line_color\",\"y\",\"line_alpha\",\"width\"],\"data\":{\"Team\":[\"Team North America\"],\"caps\":[\"Number of Alternate Captains\"],\"chart_index\":[{\"Team\":\"Team North America\",\"caps\":\"Number of Alternate Captains\"}],\"color\":[\"Orange\"],\"fill_alpha\":[0.8],\"height\":[2.0],\"label\":[{\"Team\":\"Team North America\",\"caps\":\"Number of Alternate Captains\"}],\"line_alpha\":[1.0],\"line_color\":[\"white\"],\"width\":[0.8],\"x\":[\"Team North America\"],\"y\":[1.0]}},\"id\":\"e17bfe47-cc26-4a8e-aa1a-24e42dea6503\",\"type\":\"ColumnDataSource\"},{\"attributes\":{\"data_source\":{\"id\":\"f30e7888-499d-44ed-aa0c-a236c1a1302c\",\"type\":\"ColumnDataSource\"},\"glyph\":{\"id\":\"cf072a81-2238-4517-a9a4-9da2f6047595\",\"type\":\"Rect\"},\"hover_glyph\":null,\"nonselection_glyph\":null,\"selection_glyph\":null},\"id\":\"fa415f1f-2ecf-4142-a7f8-ba5893457fae\",\"type\":\"GlyphRenderer\"},{\"attributes\":{\"data_source\":{\"id\":\"442fa91d-ab4b-4599-a3f5-f9d1e23404be\",\"type\":\"ColumnDataSource\"},\"glyph\":{\"id\":\"4c6bd54a-18d4-42e4-b070-862a7989c3e0\",\"type\":\"Rect\"},\"hover_glyph\":null,\"nonselection_glyph\":null,\"selection_glyph\":null},\"id\":\"eb059fca-51f3-4c27-b5b9-2cca0c2e6a86\",\"type\":\"GlyphRenderer\"},{\"attributes\":{\"fill_alpha\":{\"field\":\"fill_alpha\"},\"fill_color\":{\"field\":\"color\"},\"height\":{\"field\":\"height\",\"units\":\"data\"},\"line_color\":{\"field\":\"line_color\"},\"width\":{\"field\":\"width\",\"units\":\"data\"},\"x\":{\"field\":\"x\"},\"y\":{\"field\":\"y\"}},\"id\":\"91f2e7b7-aabe-4ed3-9e88-dc64a732a5a8\",\"type\":\"Rect\"},{\"attributes\":{\"fill_alpha\":{\"field\":\"fill_alpha\"},\"fill_color\":{\"field\":\"color\"},\"height\":{\"field\":\"height\",\"units\":\"data\"},\"line_color\":{\"field\":\"line_color\"},\"width\":{\"field\":\"width\",\"units\":\"data\"},\"x\":{\"field\":\"x\"},\"y\":{\"field\":\"y\"}},\"id\":\"52d23c1a-7387-438c-9e2d-eb96363aced3\",\"type\":\"Rect\"},{\"attributes\":{\"plot\":{\"id\":\"a2288309-b1b2-4335-9c4e-74ba9594afd3\",\"subtype\":\"Chart\",\"type\":\"Plot\"}},\"id\":\"f455728e-3691-42e8-ab06-929e0d5cce7f\",\"type\":\"PanTool\"},{\"attributes\":{},\"id\":\"0f9369c9-5e3a-44b6-b081-913648d3e8d2\",\"type\":\"BasicTicker\"}],\"root_ids\":[\"a2288309-b1b2-4335-9c4e-74ba9594afd3\"]},\"title\":\"Bokeh Application\",\"version\":\"0.12.1\"}};\n",
       "            var render_items = [{\"docid\":\"ec5470b4-26ff-4857-ad51-7a53ca304fa2\",\"elementid\":\"0bb4f58e-1a17-43de-969a-e84eea458d3a\",\"modelid\":\"a2288309-b1b2-4335-9c4e-74ba9594afd3\",\"notebook_comms_target\":\"f6847d23-b05f-4dcb-8ef9-2b49aa589179\"}];\n",
       "            \n",
       "            Bokeh.embed.embed_items(docs_json, render_items);\n",
       "        });\n",
       "      },\n",
       "      function(Bokeh) {\n",
       "      }\n",
       "    ];\n",
       "  \n",
       "    function run_inline_js() {\n",
       "      for (var i = 0; i < inline_js.length; i++) {\n",
       "        inline_js[i](window.Bokeh);\n",
       "      }\n",
       "    }\n",
       "  \n",
       "    if (window._bokeh_is_loading === 0) {\n",
       "      console.log(\"Bokeh: BokehJS loaded, going straight to plotting\");\n",
       "      run_inline_js();\n",
       "    } else {\n",
       "      load_libs(js_urls, function() {\n",
       "        console.log(\"Bokeh: BokehJS plotting callback run at\", now());\n",
       "        run_inline_js();\n",
       "      });\n",
       "    }\n",
       "  }(this));\n",
       "</script>"
      ]
     },
     "metadata": {},
     "output_type": "display_data"
    },
    {
     "data": {
      "text/html": [
       "<p><code>&lt;Bokeh Notebook handle for <strong>In[80]</strong>&gt;</code></p>"
      ],
      "text/plain": [
       "<bokeh.io._CommsHandle at 0x21e358dc5f8>"
      ]
     },
     "execution_count": 80,
     "metadata": {},
     "output_type": "execute_result"
    }
   ],
   "source": [
    "bar = Bar(df,\n",
    "          values=blend('Number of Captains', 'Number of Alternate Captains',\n",
    "                       name='Number of Captains', labels_name='caps'),\n",
    "          stack=cat(columns='caps', sort=False),\n",
    "          label=cat(columns='Team', sort=False),\n",
    "          color=color(columns='caps', palette=['OrangeRed', 'Orange'], sort=False),\n",
    "          title='2016 World Cup of Hockey NHL Captains',\n",
    "          legend='top_right', plot_width=1000, plot_height=1000)\n",
    "#           tools='hover')\n",
    "\n",
    "# hover = bar.select(dict(type=HoverTool))\n",
    "# hover.tooltips = [('Number' ,'@x')]\n",
    "bar.yaxis[0].ticker=FixedTicker(ticks=np.arange(1, 15, 1))\n",
    "show(bar)"
   ]
  },
  {
   "cell_type": "markdown",
   "metadata": {},
   "source": [
    "### List of captains"
   ]
  },
  {
   "cell_type": "code",
   "execution_count": 79,
   "metadata": {
    "collapsed": false
   },
   "outputs": [
    {
     "name": "stdout",
     "output_type": "stream",
     "text": [
      "Canada \n",
      "C - Alex Pietrangelo, Sidney Crosby, Ryan Getzlaf, Claude Giroux, Steven Stamkos, John Tavares, Jonathan Toews \n",
      "A - Drew Doughty, Shea Weber, Patrice Bergeron, Logan Couture, Ryan O'Reilly, Corey Perry, Joe Thornton \n",
      "\n",
      "United States \n",
      "C - Ryan McDonagh, Max Pacioretty, Joe Pavelski, Blake Wheeler \n",
      "A - Dustin Byfuglien, Ryan Suter, Brandon Dubinsky, Ryan Kesler, Zach Parise, Derek Stepan \n",
      "\n",
      "Sweden \n",
      "C - Erik Karlsson, Gabriel Landeskog, Henrik Sedin \n",
      "A - Oliver Ekman-Larsson, Nicklas Backstrom, Daniel Sedin \n",
      "\n",
      "Team Europe \n",
      "C - Zdeno Chara, Anze Kopitar \n",
      "A - Roman Josi, Mark Streit \n",
      "\n",
      "Russia \n",
      "C - Alexander Ovechkin \n",
      "A - Andrei Markov, Evgeni Malkin \n",
      "\n",
      "Czech Republic \n",
      "C -  \n",
      "A - Martin Hanzal, Tomas Plekanec \n",
      "\n",
      "Finland \n",
      "C - Mikko Koivu \n",
      "A - Jussi Jokinen \n",
      "\n",
      "Team North America \n",
      "C -  \n",
      "A - Ryan Nugent-Hopkins, Mark Scheifele \n",
      "\n"
     ]
    }
   ],
   "source": [
    "for T, C, A in zip(df.Team, df.C, df.A):\n",
    "    print(T, '\\nC -', C, '\\nA -', A, '\\n')"
   ]
  },
  {
   "cell_type": "code",
   "execution_count": null,
   "metadata": {
    "collapsed": true
   },
   "outputs": [],
   "source": []
  },
  {
   "cell_type": "code",
   "execution_count": null,
   "metadata": {
    "collapsed": true
   },
   "outputs": [],
   "source": []
  },
  {
   "cell_type": "code",
   "execution_count": null,
   "metadata": {
    "collapsed": true
   },
   "outputs": [],
   "source": []
  },
  {
   "cell_type": "code",
   "execution_count": null,
   "metadata": {
    "collapsed": true
   },
   "outputs": [],
   "source": []
  },
  {
   "cell_type": "markdown",
   "metadata": {},
   "source": [
    "### Testing bokeh tooltips"
   ]
  },
  {
   "cell_type": "code",
   "execution_count": 64,
   "metadata": {
    "collapsed": false
   },
   "outputs": [
    {
     "data": {
      "text/plain": [
       "[7, 0, 2, 4, 1, 0, 1, 3, 7, 2, 2, 6, 1, 2, 2, 3]"
      ]
     },
     "execution_count": 64,
     "metadata": {},
     "output_type": "execute_result"
    }
   ],
   "source": [
    "[c[0] for c in N_captains] + [c[1] for c in N_captains]"
   ]
  },
  {
   "cell_type": "code",
   "execution_count": 65,
   "metadata": {
    "collapsed": false
   },
   "outputs": [
    {
     "data": {
      "text/html": [
       "<div>\n",
       "<table border=\"1\" class=\"dataframe\">\n",
       "  <thead>\n",
       "    <tr style=\"text-align: right;\">\n",
       "      <th></th>\n",
       "      <th>Names</th>\n",
       "      <th>Number</th>\n",
       "      <th>Teams</th>\n",
       "      <th>Type</th>\n",
       "    </tr>\n",
       "  </thead>\n",
       "  <tbody>\n",
       "    <tr>\n",
       "      <th>0</th>\n",
       "      <td>Alex Pietrangelo, Sidney Crosby, Ryan Getzlaf,...</td>\n",
       "      <td>7</td>\n",
       "      <td>Canada</td>\n",
       "      <td>Captains</td>\n",
       "    </tr>\n",
       "    <tr>\n",
       "      <th>1</th>\n",
       "      <td>Drew Doughty, Patrice Bergeron, Logan Couture,...</td>\n",
       "      <td>6</td>\n",
       "      <td>Canada</td>\n",
       "      <td>Alternates</td>\n",
       "    </tr>\n",
       "    <tr>\n",
       "      <th>2</th>\n",
       "      <td>Ryan McDonagh, Max Pacioretty, Joe Pavelski, B...</td>\n",
       "      <td>4</td>\n",
       "      <td>USA</td>\n",
       "      <td>Captains</td>\n",
       "    </tr>\n",
       "    <tr>\n",
       "      <th>3</th>\n",
       "      <td>Dustin Byfuglien, Ryan Suter, Brandon Dubinsky...</td>\n",
       "      <td>6</td>\n",
       "      <td>USA</td>\n",
       "      <td>Alternates</td>\n",
       "    </tr>\n",
       "  </tbody>\n",
       "</table>\n",
       "</div>"
      ],
      "text/plain": [
       "                                               Names  Number   Teams  \\\n",
       "0  Alex Pietrangelo, Sidney Crosby, Ryan Getzlaf,...       7  Canada   \n",
       "1  Drew Doughty, Patrice Bergeron, Logan Couture,...       6  Canada   \n",
       "2  Ryan McDonagh, Max Pacioretty, Joe Pavelski, B...       4     USA   \n",
       "3  Dustin Byfuglien, Ryan Suter, Brandon Dubinsky...       6     USA   \n",
       "\n",
       "         Type  \n",
       "0    Captains  \n",
       "1  Alternates  \n",
       "2    Captains  \n",
       "3  Alternates  "
      ]
     },
     "execution_count": 65,
     "metadata": {},
     "output_type": "execute_result"
    }
   ],
   "source": [
    "df = pd.DataFrame({'Teams': ['Canada', 'Canada', 'USA', 'USA'],\n",
    "                   'Number': [7, 6, 4, 6],\n",
    "                   'Type': ['Captains', 'Alternates', 'Captains', 'Alternates'],\n",
    "                   'Names': ['Alex Pietrangelo, Sidney Crosby, Ryan Getzlaf, Claude Giroux, Steven Stamkos, John Tavares, Jonathan Toews',\n",
    "                             \"Drew Doughty, Patrice Bergeron, Logan Couture, Ryan O'Reilly, Corey Perry, Joe Thornton\",\n",
    "                             'Ryan McDonagh, Max Pacioretty, Joe Pavelski, Blake Wheeler',\n",
    "                             'Dustin Byfuglien, Ryan Suter, Brandon Dubinsky, Ryan Kesler, Zach Parise, Derek Stepan']})\n",
    "df"
   ]
  },
  {
   "cell_type": "code",
   "execution_count": 66,
   "metadata": {
    "collapsed": false
   },
   "outputs": [
    {
     "data": {
      "text/html": [
       "<div>\n",
       "<table border=\"1\" class=\"dataframe\">\n",
       "  <thead>\n",
       "    <tr style=\"text-align: right;\">\n",
       "      <th></th>\n",
       "      <th>Teams</th>\n",
       "      <th>Number</th>\n",
       "      <th>Type</th>\n",
       "      <th>Names</th>\n",
       "      <th>Total</th>\n",
       "    </tr>\n",
       "  </thead>\n",
       "  <tbody>\n",
       "    <tr>\n",
       "      <th>0</th>\n",
       "      <td>Canada</td>\n",
       "      <td>7</td>\n",
       "      <td>Captains</td>\n",
       "      <td>Alex Pietrangelo, Sidney Crosby, Ryan Getzlaf,...</td>\n",
       "      <td>14</td>\n",
       "    </tr>\n",
       "    <tr>\n",
       "      <th>8</th>\n",
       "      <td>Canada</td>\n",
       "      <td>7</td>\n",
       "      <td>Alternates</td>\n",
       "      <td>Drew Doughty, Shea Weber, Patrice Bergeron, Lo...</td>\n",
       "      <td>14</td>\n",
       "    </tr>\n",
       "    <tr>\n",
       "      <th>3</th>\n",
       "      <td>United States</td>\n",
       "      <td>4</td>\n",
       "      <td>Captains</td>\n",
       "      <td>Ryan McDonagh, Max Pacioretty, Joe Pavelski, B...</td>\n",
       "      <td>10</td>\n",
       "    </tr>\n",
       "    <tr>\n",
       "      <th>11</th>\n",
       "      <td>United States</td>\n",
       "      <td>6</td>\n",
       "      <td>Alternates</td>\n",
       "      <td>Dustin Byfuglien, Ryan Suter, Brandon Dubinsky...</td>\n",
       "      <td>10</td>\n",
       "    </tr>\n",
       "    <tr>\n",
       "      <th>7</th>\n",
       "      <td>Sweden</td>\n",
       "      <td>3</td>\n",
       "      <td>Captains</td>\n",
       "      <td>Erik Karlsson, Gabriel Landeskog, Henrik Sedin</td>\n",
       "      <td>6</td>\n",
       "    </tr>\n",
       "    <tr>\n",
       "      <th>15</th>\n",
       "      <td>Sweden</td>\n",
       "      <td>3</td>\n",
       "      <td>Alternates</td>\n",
       "      <td>Oliver Ekman-Larsson, Nicklas Backstrom, Danie...</td>\n",
       "      <td>6</td>\n",
       "    </tr>\n",
       "    <tr>\n",
       "      <th>2</th>\n",
       "      <td>Team Europe</td>\n",
       "      <td>2</td>\n",
       "      <td>Captains</td>\n",
       "      <td>Zdeno Chara, Anze Kopitar</td>\n",
       "      <td>4</td>\n",
       "    </tr>\n",
       "    <tr>\n",
       "      <th>10</th>\n",
       "      <td>Team Europe</td>\n",
       "      <td>2</td>\n",
       "      <td>Alternates</td>\n",
       "      <td>Roman Josi, Mark Streit</td>\n",
       "      <td>4</td>\n",
       "    </tr>\n",
       "    <tr>\n",
       "      <th>6</th>\n",
       "      <td>Russia</td>\n",
       "      <td>1</td>\n",
       "      <td>Captains</td>\n",
       "      <td>Alexander Ovechkin</td>\n",
       "      <td>3</td>\n",
       "    </tr>\n",
       "    <tr>\n",
       "      <th>14</th>\n",
       "      <td>Russia</td>\n",
       "      <td>2</td>\n",
       "      <td>Alternates</td>\n",
       "      <td>Andrei Markov, Evgeni Malkin</td>\n",
       "      <td>3</td>\n",
       "    </tr>\n",
       "    <tr>\n",
       "      <th>1</th>\n",
       "      <td>Czech Republic</td>\n",
       "      <td>0</td>\n",
       "      <td>Captains</td>\n",
       "      <td></td>\n",
       "      <td>2</td>\n",
       "    </tr>\n",
       "    <tr>\n",
       "      <th>4</th>\n",
       "      <td>Finland</td>\n",
       "      <td>1</td>\n",
       "      <td>Captains</td>\n",
       "      <td>Mikko Koivu</td>\n",
       "      <td>2</td>\n",
       "    </tr>\n",
       "    <tr>\n",
       "      <th>5</th>\n",
       "      <td>Team North America</td>\n",
       "      <td>0</td>\n",
       "      <td>Captains</td>\n",
       "      <td></td>\n",
       "      <td>2</td>\n",
       "    </tr>\n",
       "    <tr>\n",
       "      <th>9</th>\n",
       "      <td>Czech Republic</td>\n",
       "      <td>2</td>\n",
       "      <td>Alternates</td>\n",
       "      <td>Martin Hanzal, Tomas Plekanec</td>\n",
       "      <td>2</td>\n",
       "    </tr>\n",
       "    <tr>\n",
       "      <th>12</th>\n",
       "      <td>Finland</td>\n",
       "      <td>1</td>\n",
       "      <td>Alternates</td>\n",
       "      <td>Jussi Jokinen</td>\n",
       "      <td>2</td>\n",
       "    </tr>\n",
       "    <tr>\n",
       "      <th>13</th>\n",
       "      <td>Team North America</td>\n",
       "      <td>2</td>\n",
       "      <td>Alternates</td>\n",
       "      <td>Ryan Nugent-Hopkins, Mark Scheifele</td>\n",
       "      <td>2</td>\n",
       "    </tr>\n",
       "  </tbody>\n",
       "</table>\n",
       "</div>"
      ],
      "text/plain": [
       "                 Teams  Number        Type  \\\n",
       "0               Canada       7    Captains   \n",
       "8               Canada       7  Alternates   \n",
       "3        United States       4    Captains   \n",
       "11       United States       6  Alternates   \n",
       "7               Sweden       3    Captains   \n",
       "15              Sweden       3  Alternates   \n",
       "2          Team Europe       2    Captains   \n",
       "10         Team Europe       2  Alternates   \n",
       "6               Russia       1    Captains   \n",
       "14              Russia       2  Alternates   \n",
       "1       Czech Republic       0    Captains   \n",
       "4              Finland       1    Captains   \n",
       "5   Team North America       0    Captains   \n",
       "9       Czech Republic       2  Alternates   \n",
       "12             Finland       1  Alternates   \n",
       "13  Team North America       2  Alternates   \n",
       "\n",
       "                                                Names  Total  \n",
       "0   Alex Pietrangelo, Sidney Crosby, Ryan Getzlaf,...     14  \n",
       "8   Drew Doughty, Shea Weber, Patrice Bergeron, Lo...     14  \n",
       "3   Ryan McDonagh, Max Pacioretty, Joe Pavelski, B...     10  \n",
       "11  Dustin Byfuglien, Ryan Suter, Brandon Dubinsky...     10  \n",
       "7      Erik Karlsson, Gabriel Landeskog, Henrik Sedin      6  \n",
       "15  Oliver Ekman-Larsson, Nicklas Backstrom, Danie...      6  \n",
       "2                           Zdeno Chara, Anze Kopitar      4  \n",
       "10                            Roman Josi, Mark Streit      4  \n",
       "6                                  Alexander Ovechkin      3  \n",
       "14                       Andrei Markov, Evgeni Malkin      3  \n",
       "1                                                          2  \n",
       "4                                         Mikko Koivu      2  \n",
       "5                                                          2  \n",
       "9                       Martin Hanzal, Tomas Plekanec      2  \n",
       "12                                      Jussi Jokinen      2  \n",
       "13                Ryan Nugent-Hopkins, Mark Scheifele      2  "
      ]
     },
     "execution_count": 66,
     "metadata": {},
     "output_type": "execute_result"
    }
   ],
   "source": [
    "df = pd.DataFrame()\n",
    "df['Teams'] = teams * 2\n",
    "df['Number'] = [c[0] for c in N_captains] + [c[1] for c in N_captains]\n",
    "df['Type'] = ['Captains'] * 8 + ['Alternates'] * 8\n",
    "df['Names'] = [', '.join(c[0]) for c in captains] +\\\n",
    "              [', '.join(c[1]) for c in captains]\n",
    "totals = df.groupby('Teams').sum()\n",
    "totals = dict(zip(totals.index, totals.Number))\n",
    "df['Total'] = df.Teams.map(totals)\n",
    "df.sort_values(by='Total', ascending=False, inplace=True)\n",
    "df"
   ]
  },
  {
   "cell_type": "code",
   "execution_count": 67,
   "metadata": {
    "collapsed": false
   },
   "outputs": [
    {
     "data": {
      "text/html": [
       "\n",
       "\n",
       "    <div class=\"bk-root\">\n",
       "        <div class=\"plotdiv\" id=\"941b7741-0e20-4258-b24f-49e21c03903a\"></div>\n",
       "    </div>\n",
       "<script type=\"text/javascript\">\n",
       "  \n",
       "  (function(global) {\n",
       "    function now() {\n",
       "      return new Date();\n",
       "    }\n",
       "  \n",
       "    var force = \"\";\n",
       "  \n",
       "    if (typeof (window._bokeh_onload_callbacks) === \"undefined\" || force !== \"\") {\n",
       "      window._bokeh_onload_callbacks = [];\n",
       "      window._bokeh_is_loading = undefined;\n",
       "    }\n",
       "  \n",
       "    function run_callbacks() {\n",
       "      window._bokeh_onload_callbacks.forEach(function(callback) { callback() });\n",
       "      delete window._bokeh_onload_callbacks\n",
       "      console.info(\"Bokeh: all callbacks have finished\");\n",
       "    }\n",
       "  \n",
       "    function load_libs(js_urls, callback) {\n",
       "      window._bokeh_onload_callbacks.push(callback);\n",
       "      if (window._bokeh_is_loading > 0) {\n",
       "        console.log(\"Bokeh: BokehJS is being loaded, scheduling callback at\", now());\n",
       "        return null;\n",
       "      }\n",
       "      if (js_urls == null || js_urls.length === 0) {\n",
       "        run_callbacks();\n",
       "        return null;\n",
       "      }\n",
       "      console.log(\"Bokeh: BokehJS not loaded, scheduling load and callback at\", now());\n",
       "      window._bokeh_is_loading = js_urls.length;\n",
       "      for (var i = 0; i < js_urls.length; i++) {\n",
       "        var url = js_urls[i];\n",
       "        var s = document.createElement('script');\n",
       "        s.src = url;\n",
       "        s.async = false;\n",
       "        s.onreadystatechange = s.onload = function() {\n",
       "          window._bokeh_is_loading--;\n",
       "          if (window._bokeh_is_loading === 0) {\n",
       "            console.log(\"Bokeh: all BokehJS libraries loaded\");\n",
       "            run_callbacks()\n",
       "          }\n",
       "        };\n",
       "        s.onerror = function() {\n",
       "          console.warn(\"failed to load library \" + url);\n",
       "        };\n",
       "        console.log(\"Bokeh: injecting script tag for BokehJS library: \", url);\n",
       "        document.getElementsByTagName(\"head\")[0].appendChild(s);\n",
       "      }\n",
       "    };var element = document.getElementById(\"941b7741-0e20-4258-b24f-49e21c03903a\");\n",
       "    if (element == null) {\n",
       "      console.log(\"Bokeh: ERROR: autoload.js configured with elementid '941b7741-0e20-4258-b24f-49e21c03903a' but no matching script tag was found. \")\n",
       "      return false;\n",
       "    }\n",
       "  \n",
       "    var js_urls = [];\n",
       "  \n",
       "    var inline_js = [\n",
       "      function(Bokeh) {\n",
       "        Bokeh.$(function() {\n",
       "            var docs_json = {\"27d99ea6-df21-4816-bd68-f1feb23ac2cb\":{\"roots\":{\"references\":[{\"attributes\":{\"fill_alpha\":{\"field\":\"fill_alpha\"},\"fill_color\":{\"field\":\"color\"},\"height\":{\"field\":\"height\",\"units\":\"data\"},\"line_color\":{\"field\":\"line_color\"},\"width\":{\"field\":\"width\",\"units\":\"data\"},\"x\":{\"field\":\"x\"},\"y\":{\"field\":\"y\"}},\"id\":\"ce86fa19-0c34-47d3-9767-81baf4ee509d\",\"type\":\"Rect\"},{\"attributes\":{\"data_source\":{\"id\":\"fa489166-648b-4c32-900c-8323fb94c420\",\"type\":\"ColumnDataSource\"},\"glyph\":{\"id\":\"2ee57787-28a0-4750-adce-1e3842bc7a2b\",\"type\":\"Rect\"},\"hover_glyph\":null,\"nonselection_glyph\":null,\"selection_glyph\":null},\"id\":\"accadd02-8287-487b-8d40-a19c1511692f\",\"type\":\"GlyphRenderer\"},{\"attributes\":{\"data_source\":{\"id\":\"845184a6-24e0-440f-b3fa-d844df0dd61d\",\"type\":\"ColumnDataSource\"},\"glyph\":{\"id\":\"41211695-99db-40e4-b587-11ab9da47a21\",\"type\":\"Rect\"},\"hover_glyph\":null,\"nonselection_glyph\":null,\"selection_glyph\":null},\"id\":\"367def60-988f-404a-8621-81920742d0cf\",\"type\":\"GlyphRenderer\"},{\"attributes\":{\"fill_alpha\":{\"field\":\"fill_alpha\"},\"fill_color\":{\"field\":\"color\"},\"height\":{\"field\":\"height\",\"units\":\"data\"},\"line_color\":{\"field\":\"line_color\"},\"width\":{\"field\":\"width\",\"units\":\"data\"},\"x\":{\"field\":\"x\"},\"y\":{\"field\":\"y\"}},\"id\":\"9c713998-d923-485f-8f87-daf9c8e8bd23\",\"type\":\"Rect\"},{\"attributes\":{\"callback\":null,\"column_names\":[\"height\",\"color\",\"fill_alpha\",\"label\",\"x\",\"line_color\",\"y\",\"line_alpha\",\"width\"],\"data\":{\"Teams\":[\"Team North America\"],\"Type\":[\"Alternates\"],\"chart_index\":[{\"Teams\":\"Team North America\",\"Type\":\"Alternates\"}],\"color\":[\"Orange\"],\"fill_alpha\":[0.8],\"height\":[2.0],\"label\":[{\"Teams\":\"Team North America\",\"Type\":\"Alternates\"}],\"line_alpha\":[1.0],\"line_color\":[\"white\"],\"width\":[0.8],\"x\":[\"Team North America\"],\"y\":[1.0]}},\"id\":\"845184a6-24e0-440f-b3fa-d844df0dd61d\",\"type\":\"ColumnDataSource\"},{\"attributes\":{\"fill_alpha\":{\"field\":\"fill_alpha\"},\"fill_color\":{\"field\":\"color\"},\"height\":{\"field\":\"height\",\"units\":\"data\"},\"line_color\":{\"field\":\"line_color\"},\"width\":{\"field\":\"width\",\"units\":\"data\"},\"x\":{\"field\":\"x\"},\"y\":{\"field\":\"y\"}},\"id\":\"9ee7956a-5d37-44e8-a949-6b4ec1fa7696\",\"type\":\"Rect\"},{\"attributes\":{\"callback\":null,\"column_names\":[\"height\",\"color\",\"fill_alpha\",\"label\",\"x\",\"line_color\",\"y\",\"line_alpha\",\"width\"],\"data\":{\"Teams\":[\"Russia\"],\"Type\":[\"Alternates\"],\"chart_index\":[{\"Teams\":\"Russia\",\"Type\":\"Alternates\"}],\"color\":[\"Orange\"],\"fill_alpha\":[0.8],\"height\":[2.0],\"label\":[{\"Teams\":\"Russia\",\"Type\":\"Alternates\"}],\"line_alpha\":[1.0],\"line_color\":[\"white\"],\"width\":[0.8],\"x\":[\"Russia\"],\"y\":[2.0]}},\"id\":\"adb02ced-a09d-4532-8bfd-1232239aaeaf\",\"type\":\"ColumnDataSource\"},{\"attributes\":{\"fill_alpha\":{\"field\":\"fill_alpha\"},\"fill_color\":{\"field\":\"color\"},\"height\":{\"field\":\"height\",\"units\":\"data\"},\"line_color\":{\"field\":\"line_color\"},\"width\":{\"field\":\"width\",\"units\":\"data\"},\"x\":{\"field\":\"x\"},\"y\":{\"field\":\"y\"}},\"id\":\"b707c337-dec5-4721-ad95-27364d9be465\",\"type\":\"Rect\"},{\"attributes\":{\"data_source\":{\"id\":\"430b9721-9b38-4e08-a34d-25ecd91507cf\",\"type\":\"ColumnDataSource\"},\"glyph\":{\"id\":\"6aeac391-e2ab-4bf7-99c0-b1232f4cccde\",\"type\":\"Rect\"},\"hover_glyph\":null,\"nonselection_glyph\":null,\"selection_glyph\":null},\"id\":\"6b280d10-7534-4516-9058-e8fe68c60e7e\",\"type\":\"GlyphRenderer\"},{\"attributes\":{\"fill_alpha\":{\"field\":\"fill_alpha\"},\"fill_color\":{\"field\":\"color\"},\"height\":{\"field\":\"height\",\"units\":\"data\"},\"line_color\":{\"field\":\"line_color\"},\"width\":{\"field\":\"width\",\"units\":\"data\"},\"x\":{\"field\":\"x\"},\"y\":{\"field\":\"y\"}},\"id\":\"15bc47dc-7f52-4aa5-8344-13fb041e78b7\",\"type\":\"Rect\"},{\"attributes\":{\"data_source\":{\"id\":\"adb02ced-a09d-4532-8bfd-1232239aaeaf\",\"type\":\"ColumnDataSource\"},\"glyph\":{\"id\":\"62b20cff-318f-488d-bfff-19e24165e88c\",\"type\":\"Rect\"},\"hover_glyph\":null,\"nonselection_glyph\":null,\"selection_glyph\":null},\"id\":\"c6694f07-a58b-4204-b33a-eb7737a1d309\",\"type\":\"GlyphRenderer\"},{\"attributes\":{\"callback\":null,\"column_names\":[\"height\",\"color\",\"fill_alpha\",\"label\",\"x\",\"line_color\",\"y\",\"line_alpha\",\"width\"],\"data\":{\"Teams\":[\"Russia\"],\"Type\":[\"Captains\"],\"chart_index\":[{\"Teams\":\"Russia\",\"Type\":\"Captains\"}],\"color\":[\"OrangeRed\"],\"fill_alpha\":[0.8],\"height\":[1.0],\"label\":[{\"Teams\":\"Russia\",\"Type\":\"Captains\"}],\"line_alpha\":[1.0],\"line_color\":[\"white\"],\"width\":[0.8],\"x\":[\"Russia\"],\"y\":[0.5]}},\"id\":\"74aeb70c-efe7-4bcc-b5dd-74643d103967\",\"type\":\"ColumnDataSource\"},{\"attributes\":{\"callback\":null,\"column_names\":[\"height\",\"color\",\"fill_alpha\",\"label\",\"x\",\"line_color\",\"y\",\"line_alpha\",\"width\"],\"data\":{\"Teams\":[\"United States\"],\"Type\":[\"Captains\"],\"chart_index\":[{\"Teams\":\"United States\",\"Type\":\"Captains\"}],\"color\":[\"OrangeRed\"],\"fill_alpha\":[0.8],\"height\":[4.0],\"label\":[{\"Teams\":\"United States\",\"Type\":\"Captains\"}],\"line_alpha\":[1.0],\"line_color\":[\"white\"],\"width\":[0.8],\"x\":[\"United States\"],\"y\":[2.0]}},\"id\":\"b4c8f816-585b-4510-baf7-4501b655d91b\",\"type\":\"ColumnDataSource\"},{\"attributes\":{\"fill_alpha\":{\"field\":\"fill_alpha\"},\"fill_color\":{\"field\":\"color\"},\"height\":{\"field\":\"height\",\"units\":\"data\"},\"line_color\":{\"field\":\"line_color\"},\"width\":{\"field\":\"width\",\"units\":\"data\"},\"x\":{\"field\":\"x\"},\"y\":{\"field\":\"y\"}},\"id\":\"9b018b4a-2cdc-4621-84ab-6bf2ebaadd7c\",\"type\":\"Rect\"},{\"attributes\":{\"bottom_units\":\"screen\",\"fill_alpha\":{\"value\":0.5},\"fill_color\":{\"value\":\"lightgrey\"},\"left_units\":\"screen\",\"level\":\"overlay\",\"line_alpha\":{\"value\":1.0},\"line_color\":{\"value\":\"black\"},\"line_dash\":[4,4],\"line_width\":{\"value\":2},\"plot\":null,\"render_mode\":\"css\",\"right_units\":\"screen\",\"top_units\":\"screen\"},\"id\":\"da7c26ba-4c0f-4017-81fe-2a28cd1afe64\",\"type\":\"BoxAnnotation\"},{\"attributes\":{\"callback\":null,\"column_names\":[\"height\",\"color\",\"fill_alpha\",\"label\",\"x\",\"line_color\",\"y\",\"line_alpha\",\"width\"],\"data\":{\"Teams\":[\"Finland\"],\"Type\":[\"Captains\"],\"chart_index\":[{\"Teams\":\"Finland\",\"Type\":\"Captains\"}],\"color\":[\"OrangeRed\"],\"fill_alpha\":[0.8],\"height\":[1.0],\"label\":[{\"Teams\":\"Finland\",\"Type\":\"Captains\"}],\"line_alpha\":[1.0],\"line_color\":[\"white\"],\"width\":[0.8],\"x\":[\"Finland\"],\"y\":[0.5]}},\"id\":\"9cc029c4-63aa-433d-a626-148728a3d79e\",\"type\":\"ColumnDataSource\"},{\"attributes\":{\"callback\":null,\"end\":14.7},\"id\":\"e9b4d101-87f7-4d55-8fbf-2e5aa5ae9587\",\"type\":\"Range1d\"},{\"attributes\":{},\"id\":\"765bb0ba-1754-4a05-991a-5020df1f4995\",\"type\":\"BasicTicker\"},{\"attributes\":{\"data_source\":{\"id\":\"73a593d5-7833-4ce0-aabe-4f0f4d98c1e8\",\"type\":\"ColumnDataSource\"},\"glyph\":{\"id\":\"cf81e834-f7d5-4215-8846-705a77f5b8f0\",\"type\":\"Rect\"},\"hover_glyph\":null,\"nonselection_glyph\":null,\"selection_glyph\":null},\"id\":\"a5b8866a-4ee1-478b-a88f-7c83682d07d0\",\"type\":\"GlyphRenderer\"},{\"attributes\":{\"data_source\":{\"id\":\"52f05624-342b-4577-a48a-8baabaf25e5f\",\"type\":\"ColumnDataSource\"},\"glyph\":{\"id\":\"26293a65-69cc-400a-840a-c7d624472248\",\"type\":\"Rect\"},\"hover_glyph\":null,\"nonselection_glyph\":null,\"selection_glyph\":null},\"id\":\"fe6b6008-8405-485e-9c8e-28ab7e41d2f8\",\"type\":\"GlyphRenderer\"},{\"attributes\":{},\"id\":\"be5a027b-bb0d-4c84-956d-95623b5afca1\",\"type\":\"BasicTickFormatter\"},{\"attributes\":{\"fill_alpha\":{\"field\":\"fill_alpha\"},\"fill_color\":{\"field\":\"color\"},\"height\":{\"field\":\"height\",\"units\":\"data\"},\"line_color\":{\"field\":\"line_color\"},\"width\":{\"field\":\"width\",\"units\":\"data\"},\"x\":{\"field\":\"x\"},\"y\":{\"field\":\"y\"}},\"id\":\"8817a722-7016-4891-9800-e7a498b38413\",\"type\":\"Rect\"},{\"attributes\":{\"plot\":{\"id\":\"c1ef9d2e-47d6-44cb-8c90-9fc3a8655703\",\"subtype\":\"Chart\",\"type\":\"Plot\"}},\"id\":\"1f66860f-123f-4f66-9e64-384ee7cced09\",\"type\":\"PanTool\"},{\"attributes\":{\"fill_alpha\":{\"field\":\"fill_alpha\"},\"fill_color\":{\"field\":\"color\"},\"height\":{\"field\":\"height\",\"units\":\"data\"},\"line_color\":{\"field\":\"line_color\"},\"width\":{\"field\":\"width\",\"units\":\"data\"},\"x\":{\"field\":\"x\"},\"y\":{\"field\":\"y\"}},\"id\":\"0488f85b-77d6-4f12-a1a5-6fdc5253a6ed\",\"type\":\"Rect\"},{\"attributes\":{\"callback\":null,\"column_names\":[\"height\",\"color\",\"fill_alpha\",\"label\",\"x\",\"line_color\",\"y\",\"line_alpha\",\"width\"],\"data\":{\"Teams\":[\"Sweden\"],\"Type\":[\"Alternates\"],\"chart_index\":[{\"Teams\":\"Sweden\",\"Type\":\"Alternates\"}],\"color\":[\"Orange\"],\"fill_alpha\":[0.8],\"height\":[3.0],\"label\":[{\"Teams\":\"Sweden\",\"Type\":\"Alternates\"}],\"line_alpha\":[1.0],\"line_color\":[\"white\"],\"width\":[0.8],\"x\":[\"Sweden\"],\"y\":[4.5]}},\"id\":\"52f05624-342b-4577-a48a-8baabaf25e5f\",\"type\":\"ColumnDataSource\"},{\"attributes\":{\"dimension\":1,\"plot\":{\"id\":\"c1ef9d2e-47d6-44cb-8c90-9fc3a8655703\",\"subtype\":\"Chart\",\"type\":\"Plot\"},\"ticker\":{\"id\":\"765bb0ba-1754-4a05-991a-5020df1f4995\",\"type\":\"BasicTicker\"}},\"id\":\"dc8b0124-f930-427c-9ce1-fcdfdfe58173\",\"type\":\"Grid\"},{\"attributes\":{\"data_source\":{\"id\":\"9cc029c4-63aa-433d-a626-148728a3d79e\",\"type\":\"ColumnDataSource\"},\"glyph\":{\"id\":\"ce86fa19-0c34-47d3-9767-81baf4ee509d\",\"type\":\"Rect\"},\"hover_glyph\":null,\"nonselection_glyph\":null,\"selection_glyph\":null},\"id\":\"5fd2e60c-e6aa-4bd3-9b18-30992d104a77\",\"type\":\"GlyphRenderer\"},{\"attributes\":{\"plot\":{\"id\":\"c1ef9d2e-47d6-44cb-8c90-9fc3a8655703\",\"subtype\":\"Chart\",\"type\":\"Plot\"}},\"id\":\"290c7c9e-39a2-44af-9c72-c64629f4ee7b\",\"type\":\"SaveTool\"},{\"attributes\":{\"data_source\":{\"id\":\"82bf0163-4c4f-487f-9557-76d6c43cb6ea\",\"type\":\"ColumnDataSource\"},\"glyph\":{\"id\":\"9ee7956a-5d37-44e8-a949-6b4ec1fa7696\",\"type\":\"Rect\"},\"hover_glyph\":null,\"nonselection_glyph\":null,\"selection_glyph\":null},\"id\":\"0798ed74-457d-478a-a567-3fdd09e0c5e2\",\"type\":\"GlyphRenderer\"},{\"attributes\":{\"plot\":{\"id\":\"c1ef9d2e-47d6-44cb-8c90-9fc3a8655703\",\"subtype\":\"Chart\",\"type\":\"Plot\"}},\"id\":\"4fb9b973-d73b-4735-8ac2-48f37bc1518c\",\"type\":\"HelpTool\"},{\"attributes\":{\"fill_alpha\":{\"field\":\"fill_alpha\"},\"fill_color\":{\"field\":\"color\"},\"height\":{\"field\":\"height\",\"units\":\"data\"},\"line_color\":{\"field\":\"line_color\"},\"width\":{\"field\":\"width\",\"units\":\"data\"},\"x\":{\"field\":\"x\"},\"y\":{\"field\":\"y\"}},\"id\":\"41211695-99db-40e4-b587-11ab9da47a21\",\"type\":\"Rect\"},{\"attributes\":{\"callback\":null,\"column_names\":[\"height\",\"color\",\"fill_alpha\",\"label\",\"x\",\"line_color\",\"y\",\"line_alpha\",\"width\"],\"data\":{\"Teams\":[\"Team Europe\"],\"Type\":[\"Captains\"],\"chart_index\":[{\"Teams\":\"Team Europe\",\"Type\":\"Captains\"}],\"color\":[\"OrangeRed\"],\"fill_alpha\":[0.8],\"height\":[2.0],\"label\":[{\"Teams\":\"Team Europe\",\"Type\":\"Captains\"}],\"line_alpha\":[1.0],\"line_color\":[\"white\"],\"width\":[0.8],\"x\":[\"Team Europe\"],\"y\":[1.0]}},\"id\":\"e4445bdf-68fa-40b7-94c7-7b9ee439a13d\",\"type\":\"ColumnDataSource\"},{\"attributes\":{\"active_drag\":\"auto\",\"active_scroll\":\"auto\",\"active_tap\":\"auto\",\"tools\":[{\"id\":\"1f66860f-123f-4f66-9e64-384ee7cced09\",\"type\":\"PanTool\"},{\"id\":\"6977ca3e-ea90-4c3e-84fe-40bc869e511b\",\"type\":\"WheelZoomTool\"},{\"id\":\"973e7ccb-2a41-425a-8ddc-d2d7b98f379b\",\"type\":\"BoxZoomTool\"},{\"id\":\"290c7c9e-39a2-44af-9c72-c64629f4ee7b\",\"type\":\"SaveTool\"},{\"id\":\"7a8d5820-7610-4e63-bcf8-b8c9dd717557\",\"type\":\"ResetTool\"},{\"id\":\"4fb9b973-d73b-4735-8ac2-48f37bc1518c\",\"type\":\"HelpTool\"},{\"id\":\"0773bebc-4880-4111-b36c-6688165a7079\",\"type\":\"HoverTool\"}]},\"id\":\"cd7609d4-e4d4-4672-b511-d51fb6cf8098\",\"type\":\"Toolbar\"},{\"attributes\":{},\"id\":\"35870702-f9c7-4229-9abe-02b176e953fb\",\"type\":\"ToolEvents\"},{\"attributes\":{\"data_source\":{\"id\":\"9ea6f26e-e734-4f7c-92b0-84a1bc757429\",\"type\":\"ColumnDataSource\"},\"glyph\":{\"id\":\"8817a722-7016-4891-9800-e7a498b38413\",\"type\":\"Rect\"},\"hover_glyph\":null,\"nonselection_glyph\":null,\"selection_glyph\":null},\"id\":\"0edc3be5-5d15-4c3d-acca-440ae7040055\",\"type\":\"GlyphRenderer\"},{\"attributes\":{\"plot\":{\"id\":\"c1ef9d2e-47d6-44cb-8c90-9fc3a8655703\",\"subtype\":\"Chart\",\"type\":\"Plot\"}},\"id\":\"6977ca3e-ea90-4c3e-84fe-40bc869e511b\",\"type\":\"WheelZoomTool\"},{\"attributes\":{\"callback\":null,\"column_names\":[\"height\",\"color\",\"fill_alpha\",\"label\",\"x\",\"line_color\",\"y\",\"line_alpha\",\"width\"],\"data\":{\"Teams\":[\"Czech Republic\"],\"Type\":[\"Captains\"],\"chart_index\":[{\"Teams\":\"Czech Republic\",\"Type\":\"Captains\"}],\"color\":[\"OrangeRed\"],\"fill_alpha\":[0.8],\"height\":[0.0],\"label\":[{\"Teams\":\"Czech Republic\",\"Type\":\"Captains\"}],\"line_alpha\":[1.0],\"line_color\":[\"white\"],\"width\":[0.8],\"x\":[\"Czech Republic\"],\"y\":[0.0]}},\"id\":\"fa489166-648b-4c32-900c-8323fb94c420\",\"type\":\"ColumnDataSource\"},{\"attributes\":{\"callback\":null,\"column_names\":[\"height\",\"color\",\"fill_alpha\",\"label\",\"x\",\"line_color\",\"y\",\"line_alpha\",\"width\"],\"data\":{\"Teams\":[\"Canada\"],\"Type\":[\"Alternates\"],\"chart_index\":[{\"Teams\":\"Canada\",\"Type\":\"Alternates\"}],\"color\":[\"Orange\"],\"fill_alpha\":[0.8],\"height\":[7.0],\"label\":[{\"Teams\":\"Canada\",\"Type\":\"Alternates\"}],\"line_alpha\":[1.0],\"line_color\":[\"white\"],\"width\":[0.8],\"x\":[\"Canada\"],\"y\":[10.5]}},\"id\":\"12baeca4-677c-4c14-8376-c2700d85f791\",\"type\":\"ColumnDataSource\"},{\"attributes\":{\"below\":[{\"id\":\"706d56d1-21cc-44d6-84c9-f0d9e19b05ba\",\"type\":\"CategoricalAxis\"}],\"left\":[{\"id\":\"d766b05b-1724-4fdd-b5a0-2e2568c5f2fb\",\"type\":\"LinearAxis\"}],\"renderers\":[{\"id\":\"da7c26ba-4c0f-4017-81fe-2a28cd1afe64\",\"type\":\"BoxAnnotation\"},{\"id\":\"6b280d10-7534-4516-9058-e8fe68c60e7e\",\"type\":\"GlyphRenderer\"},{\"id\":\"52a8b7d3-04be-4e21-ac06-d26e5911cb1e\",\"type\":\"GlyphRenderer\"},{\"id\":\"8148a799-0bdb-45c2-bbcf-5f1245159e58\",\"type\":\"GlyphRenderer\"},{\"id\":\"0edc3be5-5d15-4c3d-acca-440ae7040055\",\"type\":\"GlyphRenderer\"},{\"id\":\"0798ed74-457d-478a-a567-3fdd09e0c5e2\",\"type\":\"GlyphRenderer\"},{\"id\":\"fe6b6008-8405-485e-9c8e-28ab7e41d2f8\",\"type\":\"GlyphRenderer\"},{\"id\":\"098eb9f8-8927-4ace-94d6-71dbf29bcac3\",\"type\":\"GlyphRenderer\"},{\"id\":\"a5b8866a-4ee1-478b-a88f-7c83682d07d0\",\"type\":\"GlyphRenderer\"},{\"id\":\"b2798170-73f5-484e-9797-bed8f447ff78\",\"type\":\"GlyphRenderer\"},{\"id\":\"c6694f07-a58b-4204-b33a-eb7737a1d309\",\"type\":\"GlyphRenderer\"},{\"id\":\"accadd02-8287-487b-8d40-a19c1511692f\",\"type\":\"GlyphRenderer\"},{\"id\":\"5fd2e60c-e6aa-4bd3-9b18-30992d104a77\",\"type\":\"GlyphRenderer\"},{\"id\":\"690979a5-4b64-4a15-99ca-8d4a358207d7\",\"type\":\"GlyphRenderer\"},{\"id\":\"3f4035e3-7f50-4a29-805f-3b1c6b577eaf\",\"type\":\"GlyphRenderer\"},{\"id\":\"9115ab62-b0ef-4dd6-a84e-7cdae7d2d868\",\"type\":\"GlyphRenderer\"},{\"id\":\"367def60-988f-404a-8621-81920742d0cf\",\"type\":\"GlyphRenderer\"},{\"id\":\"83579c16-06ca-42cc-bea0-15ba2edaec10\",\"type\":\"Legend\"},{\"id\":\"706d56d1-21cc-44d6-84c9-f0d9e19b05ba\",\"type\":\"CategoricalAxis\"},{\"id\":\"d766b05b-1724-4fdd-b5a0-2e2568c5f2fb\",\"type\":\"LinearAxis\"},{\"id\":\"dc8b0124-f930-427c-9ce1-fcdfdfe58173\",\"type\":\"Grid\"}],\"title\":{\"id\":\"bb47b33b-92ae-4a95-b035-667ad916eed2\",\"type\":\"Title\"},\"tool_events\":{\"id\":\"35870702-f9c7-4229-9abe-02b176e953fb\",\"type\":\"ToolEvents\"},\"toolbar\":{\"id\":\"cd7609d4-e4d4-4672-b511-d51fb6cf8098\",\"type\":\"Toolbar\"},\"x_mapper_type\":\"auto\",\"x_range\":{\"id\":\"0a28b60a-ffae-45c7-81b9-3d8138de351c\",\"type\":\"FactorRange\"},\"y_mapper_type\":\"auto\",\"y_range\":{\"id\":\"e9b4d101-87f7-4d55-8fbf-2e5aa5ae9587\",\"type\":\"Range1d\"}},\"id\":\"c1ef9d2e-47d6-44cb-8c90-9fc3a8655703\",\"subtype\":\"Chart\",\"type\":\"Plot\"},{\"attributes\":{\"axis_label\":\"Sum( Number )\",\"formatter\":{\"id\":\"be5a027b-bb0d-4c84-956d-95623b5afca1\",\"type\":\"BasicTickFormatter\"},\"plot\":{\"id\":\"c1ef9d2e-47d6-44cb-8c90-9fc3a8655703\",\"subtype\":\"Chart\",\"type\":\"Plot\"},\"ticker\":{\"id\":\"765bb0ba-1754-4a05-991a-5020df1f4995\",\"type\":\"BasicTicker\"}},\"id\":\"d766b05b-1724-4fdd-b5a0-2e2568c5f2fb\",\"type\":\"LinearAxis\"},{\"attributes\":{\"data_source\":{\"id\":\"07fd88f8-2eb2-4dab-a078-2c921daa4fbd\",\"type\":\"ColumnDataSource\"},\"glyph\":{\"id\":\"b707c337-dec5-4721-ad95-27364d9be465\",\"type\":\"Rect\"},\"hover_glyph\":null,\"nonselection_glyph\":null,\"selection_glyph\":null},\"id\":\"9115ab62-b0ef-4dd6-a84e-7cdae7d2d868\",\"type\":\"GlyphRenderer\"},{\"attributes\":{\"axis_label\":\"Teams\",\"formatter\":{\"id\":\"b93aca82-a0ab-4cb5-a352-501c20e268ff\",\"type\":\"CategoricalTickFormatter\"},\"major_label_orientation\":0.7853981633974483,\"plot\":{\"id\":\"c1ef9d2e-47d6-44cb-8c90-9fc3a8655703\",\"subtype\":\"Chart\",\"type\":\"Plot\"},\"ticker\":{\"id\":\"bea794e5-34fe-4daa-8e55-aa143132243d\",\"type\":\"CategoricalTicker\"}},\"id\":\"706d56d1-21cc-44d6-84c9-f0d9e19b05ba\",\"type\":\"CategoricalAxis\"},{\"attributes\":{\"data_source\":{\"id\":\"b2841560-8868-4d58-bf35-148061f88db9\",\"type\":\"ColumnDataSource\"},\"glyph\":{\"id\":\"f634ac3f-8544-4884-91e7-c34202cd0ea2\",\"type\":\"Rect\"},\"hover_glyph\":null,\"nonselection_glyph\":null,\"selection_glyph\":null},\"id\":\"3f4035e3-7f50-4a29-805f-3b1c6b577eaf\",\"type\":\"GlyphRenderer\"},{\"attributes\":{\"plot\":{\"id\":\"c1ef9d2e-47d6-44cb-8c90-9fc3a8655703\",\"subtype\":\"Chart\",\"type\":\"Plot\"}},\"id\":\"7a8d5820-7610-4e63-bcf8-b8c9dd717557\",\"type\":\"ResetTool\"},{\"attributes\":{\"fill_alpha\":{\"field\":\"fill_alpha\"},\"fill_color\":{\"field\":\"color\"},\"height\":{\"field\":\"height\",\"units\":\"data\"},\"line_color\":{\"field\":\"line_color\"},\"width\":{\"field\":\"width\",\"units\":\"data\"},\"x\":{\"field\":\"x\"},\"y\":{\"field\":\"y\"}},\"id\":\"26293a65-69cc-400a-840a-c7d624472248\",\"type\":\"Rect\"},{\"attributes\":{\"fill_alpha\":{\"field\":\"fill_alpha\"},\"fill_color\":{\"field\":\"color\"},\"height\":{\"field\":\"height\",\"units\":\"data\"},\"line_color\":{\"field\":\"line_color\"},\"width\":{\"field\":\"width\",\"units\":\"data\"},\"x\":{\"field\":\"x\"},\"y\":{\"field\":\"y\"}},\"id\":\"cf81e834-f7d5-4215-8846-705a77f5b8f0\",\"type\":\"Rect\"},{\"attributes\":{\"callback\":null,\"column_names\":[\"height\",\"color\",\"fill_alpha\",\"label\",\"x\",\"line_color\",\"y\",\"line_alpha\",\"width\"],\"data\":{\"Teams\":[\"Sweden\"],\"Type\":[\"Captains\"],\"chart_index\":[{\"Teams\":\"Sweden\",\"Type\":\"Captains\"}],\"color\":[\"OrangeRed\"],\"fill_alpha\":[0.8],\"height\":[3.0],\"label\":[{\"Teams\":\"Sweden\",\"Type\":\"Captains\"}],\"line_alpha\":[1.0],\"line_color\":[\"white\"],\"width\":[0.8],\"x\":[\"Sweden\"],\"y\":[1.5]}},\"id\":\"82bf0163-4c4f-487f-9557-76d6c43cb6ea\",\"type\":\"ColumnDataSource\"},{\"attributes\":{},\"id\":\"b93aca82-a0ab-4cb5-a352-501c20e268ff\",\"type\":\"CategoricalTickFormatter\"},{\"attributes\":{\"fill_alpha\":{\"field\":\"fill_alpha\"},\"fill_color\":{\"field\":\"color\"},\"height\":{\"field\":\"height\",\"units\":\"data\"},\"line_color\":{\"field\":\"line_color\"},\"width\":{\"field\":\"width\",\"units\":\"data\"},\"x\":{\"field\":\"x\"},\"y\":{\"field\":\"y\"}},\"id\":\"62b20cff-318f-488d-bfff-19e24165e88c\",\"type\":\"Rect\"},{\"attributes\":{\"fill_alpha\":{\"field\":\"fill_alpha\"},\"fill_color\":{\"field\":\"color\"},\"height\":{\"field\":\"height\",\"units\":\"data\"},\"line_color\":{\"field\":\"line_color\"},\"width\":{\"field\":\"width\",\"units\":\"data\"},\"x\":{\"field\":\"x\"},\"y\":{\"field\":\"y\"}},\"id\":\"2ee57787-28a0-4750-adce-1e3842bc7a2b\",\"type\":\"Rect\"},{\"attributes\":{\"callback\":null,\"column_names\":[\"height\",\"color\",\"fill_alpha\",\"label\",\"x\",\"line_color\",\"y\",\"line_alpha\",\"width\"],\"data\":{\"Teams\":[\"Team North America\"],\"Type\":[\"Captains\"],\"chart_index\":[{\"Teams\":\"Team North America\",\"Type\":\"Captains\"}],\"color\":[\"OrangeRed\"],\"fill_alpha\":[0.8],\"height\":[0.0],\"label\":[{\"Teams\":\"Team North America\",\"Type\":\"Captains\"}],\"line_alpha\":[1.0],\"line_color\":[\"white\"],\"width\":[0.8],\"x\":[\"Team North America\"],\"y\":[0.0]}},\"id\":\"e4b66d89-7a7c-4203-80a3-76a2e7694aed\",\"type\":\"ColumnDataSource\"},{\"attributes\":{\"fill_alpha\":{\"field\":\"fill_alpha\"},\"fill_color\":{\"field\":\"color\"},\"height\":{\"field\":\"height\",\"units\":\"data\"},\"line_color\":{\"field\":\"line_color\"},\"width\":{\"field\":\"width\",\"units\":\"data\"},\"x\":{\"field\":\"x\"},\"y\":{\"field\":\"y\"}},\"id\":\"6aeac391-e2ab-4bf7-99c0-b1232f4cccde\",\"type\":\"Rect\"},{\"attributes\":{\"callback\":null,\"factors\":[\"Canada\",\"Czech Republic\",\"Finland\",\"Russia\",\"Sweden\",\"Team Europe\",\"Team North America\",\"United States\"]},\"id\":\"0a28b60a-ffae-45c7-81b9-3d8138de351c\",\"type\":\"FactorRange\"},{\"attributes\":{\"data_source\":{\"id\":\"e4b66d89-7a7c-4203-80a3-76a2e7694aed\",\"type\":\"ColumnDataSource\"},\"glyph\":{\"id\":\"9b018b4a-2cdc-4621-84ab-6bf2ebaadd7c\",\"type\":\"Rect\"},\"hover_glyph\":null,\"nonselection_glyph\":null,\"selection_glyph\":null},\"id\":\"690979a5-4b64-4a15-99ca-8d4a358207d7\",\"type\":\"GlyphRenderer\"},{\"attributes\":{\"fill_alpha\":{\"field\":\"fill_alpha\"},\"fill_color\":{\"field\":\"color\"},\"height\":{\"field\":\"height\",\"units\":\"data\"},\"line_color\":{\"field\":\"line_color\"},\"width\":{\"field\":\"width\",\"units\":\"data\"},\"x\":{\"field\":\"x\"},\"y\":{\"field\":\"y\"}},\"id\":\"f634ac3f-8544-4884-91e7-c34202cd0ea2\",\"type\":\"Rect\"},{\"attributes\":{\"legends\":[[\"Captains\",[{\"id\":\"6b280d10-7534-4516-9058-e8fe68c60e7e\",\"type\":\"GlyphRenderer\"}]],[\"Alternates\",[{\"id\":\"52a8b7d3-04be-4e21-ac06-d26e5911cb1e\",\"type\":\"GlyphRenderer\"}]]],\"plot\":{\"id\":\"c1ef9d2e-47d6-44cb-8c90-9fc3a8655703\",\"subtype\":\"Chart\",\"type\":\"Plot\"}},\"id\":\"83579c16-06ca-42cc-bea0-15ba2edaec10\",\"type\":\"Legend\"},{\"attributes\":{\"overlay\":{\"id\":\"da7c26ba-4c0f-4017-81fe-2a28cd1afe64\",\"type\":\"BoxAnnotation\"},\"plot\":{\"id\":\"c1ef9d2e-47d6-44cb-8c90-9fc3a8655703\",\"subtype\":\"Chart\",\"type\":\"Plot\"}},\"id\":\"973e7ccb-2a41-425a-8ddc-d2d7b98f379b\",\"type\":\"BoxZoomTool\"},{\"attributes\":{\"fill_alpha\":{\"field\":\"fill_alpha\"},\"fill_color\":{\"field\":\"color\"},\"height\":{\"field\":\"height\",\"units\":\"data\"},\"line_color\":{\"field\":\"line_color\"},\"width\":{\"field\":\"width\",\"units\":\"data\"},\"x\":{\"field\":\"x\"},\"y\":{\"field\":\"y\"}},\"id\":\"34e3c538-976b-433e-8055-4cbdfda4ad5a\",\"type\":\"Rect\"},{\"attributes\":{\"callback\":null,\"column_names\":[\"height\",\"color\",\"fill_alpha\",\"label\",\"x\",\"line_color\",\"y\",\"line_alpha\",\"width\"],\"data\":{\"Teams\":[\"Team Europe\"],\"Type\":[\"Alternates\"],\"chart_index\":[{\"Teams\":\"Team Europe\",\"Type\":\"Alternates\"}],\"color\":[\"Orange\"],\"fill_alpha\":[0.8],\"height\":[2.0],\"label\":[{\"Teams\":\"Team Europe\",\"Type\":\"Alternates\"}],\"line_alpha\":[1.0],\"line_color\":[\"white\"],\"width\":[0.8],\"x\":[\"Team Europe\"],\"y\":[3.0]}},\"id\":\"73a593d5-7833-4ce0-aabe-4f0f4d98c1e8\",\"type\":\"ColumnDataSource\"},{\"attributes\":{\"callback\":null,\"column_names\":[\"height\",\"color\",\"fill_alpha\",\"label\",\"x\",\"line_color\",\"y\",\"line_alpha\",\"width\"],\"data\":{\"Teams\":[\"United States\"],\"Type\":[\"Alternates\"],\"chart_index\":[{\"Teams\":\"United States\",\"Type\":\"Alternates\"}],\"color\":[\"Orange\"],\"fill_alpha\":[0.8],\"height\":[6.0],\"label\":[{\"Teams\":\"United States\",\"Type\":\"Alternates\"}],\"line_alpha\":[1.0],\"line_color\":[\"white\"],\"width\":[0.8],\"x\":[\"United States\"],\"y\":[7.0]}},\"id\":\"9ea6f26e-e734-4f7c-92b0-84a1bc757429\",\"type\":\"ColumnDataSource\"},{\"attributes\":{\"data_source\":{\"id\":\"74aeb70c-efe7-4bcc-b5dd-74643d103967\",\"type\":\"ColumnDataSource\"},\"glyph\":{\"id\":\"9c713998-d923-485f-8f87-daf9c8e8bd23\",\"type\":\"Rect\"},\"hover_glyph\":null,\"nonselection_glyph\":null,\"selection_glyph\":null},\"id\":\"b2798170-73f5-484e-9797-bed8f447ff78\",\"type\":\"GlyphRenderer\"},{\"attributes\":{\"data_source\":{\"id\":\"e4445bdf-68fa-40b7-94c7-7b9ee439a13d\",\"type\":\"ColumnDataSource\"},\"glyph\":{\"id\":\"34e3c538-976b-433e-8055-4cbdfda4ad5a\",\"type\":\"Rect\"},\"hover_glyph\":null,\"nonselection_glyph\":null,\"selection_glyph\":null},\"id\":\"098eb9f8-8927-4ace-94d6-71dbf29bcac3\",\"type\":\"GlyphRenderer\"},{\"attributes\":{\"callback\":null,\"column_names\":[\"height\",\"color\",\"fill_alpha\",\"label\",\"x\",\"line_color\",\"y\",\"line_alpha\",\"width\"],\"data\":{\"Teams\":[\"Czech Republic\"],\"Type\":[\"Alternates\"],\"chart_index\":[{\"Teams\":\"Czech Republic\",\"Type\":\"Alternates\"}],\"color\":[\"Orange\"],\"fill_alpha\":[0.8],\"height\":[2.0],\"label\":[{\"Teams\":\"Czech Republic\",\"Type\":\"Alternates\"}],\"line_alpha\":[1.0],\"line_color\":[\"white\"],\"width\":[0.8],\"x\":[\"Czech Republic\"],\"y\":[1.0]}},\"id\":\"b2841560-8868-4d58-bf35-148061f88db9\",\"type\":\"ColumnDataSource\"},{\"attributes\":{\"plot\":null,\"text\":\"2016 World Cup of Hockey NHL Captains\"},\"id\":\"bb47b33b-92ae-4a95-b035-667ad916eed2\",\"type\":\"Title\"},{\"attributes\":{\"data_source\":{\"id\":\"b4c8f816-585b-4510-baf7-4501b655d91b\",\"type\":\"ColumnDataSource\"},\"glyph\":{\"id\":\"15bc47dc-7f52-4aa5-8344-13fb041e78b7\",\"type\":\"Rect\"},\"hover_glyph\":null,\"nonselection_glyph\":null,\"selection_glyph\":null},\"id\":\"8148a799-0bdb-45c2-bbcf-5f1245159e58\",\"type\":\"GlyphRenderer\"},{\"attributes\":{\"callback\":null,\"plot\":{\"id\":\"c1ef9d2e-47d6-44cb-8c90-9fc3a8655703\",\"subtype\":\"Chart\",\"type\":\"Plot\"},\"tooltips\":[[\"Players\",\"@Names\"]]},\"id\":\"0773bebc-4880-4111-b36c-6688165a7079\",\"type\":\"HoverTool\"},{\"attributes\":{\"callback\":null,\"column_names\":[\"height\",\"color\",\"fill_alpha\",\"label\",\"x\",\"line_color\",\"y\",\"line_alpha\",\"width\"],\"data\":{\"Teams\":[\"Canada\"],\"Type\":[\"Captains\"],\"chart_index\":[{\"Teams\":\"Canada\",\"Type\":\"Captains\"}],\"color\":[\"OrangeRed\"],\"fill_alpha\":[0.8],\"height\":[7.0],\"label\":[{\"Teams\":\"Canada\",\"Type\":\"Captains\"}],\"line_alpha\":[1.0],\"line_color\":[\"white\"],\"width\":[0.8],\"x\":[\"Canada\"],\"y\":[3.5]}},\"id\":\"430b9721-9b38-4e08-a34d-25ecd91507cf\",\"type\":\"ColumnDataSource\"},{\"attributes\":{\"data_source\":{\"id\":\"12baeca4-677c-4c14-8376-c2700d85f791\",\"type\":\"ColumnDataSource\"},\"glyph\":{\"id\":\"0488f85b-77d6-4f12-a1a5-6fdc5253a6ed\",\"type\":\"Rect\"},\"hover_glyph\":null,\"nonselection_glyph\":null,\"selection_glyph\":null},\"id\":\"52a8b7d3-04be-4e21-ac06-d26e5911cb1e\",\"type\":\"GlyphRenderer\"},{\"attributes\":{},\"id\":\"bea794e5-34fe-4daa-8e55-aa143132243d\",\"type\":\"CategoricalTicker\"},{\"attributes\":{\"callback\":null,\"column_names\":[\"height\",\"color\",\"fill_alpha\",\"label\",\"x\",\"line_color\",\"y\",\"line_alpha\",\"width\"],\"data\":{\"Teams\":[\"Finland\"],\"Type\":[\"Alternates\"],\"chart_index\":[{\"Teams\":\"Finland\",\"Type\":\"Alternates\"}],\"color\":[\"Orange\"],\"fill_alpha\":[0.8],\"height\":[1.0],\"label\":[{\"Teams\":\"Finland\",\"Type\":\"Alternates\"}],\"line_alpha\":[1.0],\"line_color\":[\"white\"],\"width\":[0.8],\"x\":[\"Finland\"],\"y\":[1.5]}},\"id\":\"07fd88f8-2eb2-4dab-a078-2c921daa4fbd\",\"type\":\"ColumnDataSource\"}],\"root_ids\":[\"c1ef9d2e-47d6-44cb-8c90-9fc3a8655703\"]},\"title\":\"Bokeh Application\",\"version\":\"0.12.1\"}};\n",
       "            var render_items = [{\"docid\":\"27d99ea6-df21-4816-bd68-f1feb23ac2cb\",\"elementid\":\"941b7741-0e20-4258-b24f-49e21c03903a\",\"modelid\":\"c1ef9d2e-47d6-44cb-8c90-9fc3a8655703\",\"notebook_comms_target\":\"ece52381-addd-4fc4-b587-880493f23386\"}];\n",
       "            \n",
       "            Bokeh.embed.embed_items(docs_json, render_items);\n",
       "        });\n",
       "      },\n",
       "      function(Bokeh) {\n",
       "      }\n",
       "    ];\n",
       "  \n",
       "    function run_inline_js() {\n",
       "      for (var i = 0; i < inline_js.length; i++) {\n",
       "        inline_js[i](window.Bokeh);\n",
       "      }\n",
       "    }\n",
       "  \n",
       "    if (window._bokeh_is_loading === 0) {\n",
       "      console.log(\"Bokeh: BokehJS loaded, going straight to plotting\");\n",
       "      run_inline_js();\n",
       "    } else {\n",
       "      load_libs(js_urls, function() {\n",
       "        console.log(\"Bokeh: BokehJS plotting callback run at\", now());\n",
       "        run_inline_js();\n",
       "      });\n",
       "    }\n",
       "  }(this));\n",
       "</script>"
      ]
     },
     "metadata": {},
     "output_type": "display_data"
    },
    {
     "data": {
      "text/html": [
       "<p><code>&lt;Bokeh Notebook handle for <strong>In[67]</strong>&gt;</code></p>"
      ],
      "text/plain": [
       "<bokeh.io._CommsHandle at 0x21e347c4c50>"
      ]
     },
     "execution_count": 67,
     "metadata": {},
     "output_type": "execute_result"
    }
   ],
   "source": [
    "# source = ColumnDataSource(df)\n",
    "\n",
    "bar = Bar(df, label='Teams', values='Number',\n",
    "          agg='sum', stack='Type',\n",
    "          color=color(columns='Type', palette=['OrangeRed', 'Orange'], sort=False),\n",
    "          title='2016 World Cup of Hockey NHL Captains',\n",
    "          legend='top_right',\n",
    "          tooltips = [('Players', '@Names')])\n",
    "# bar.select(dict(type=GlyphRenderer))\n",
    "# hover = bar.select(dict(type=HoverTool))\n",
    "# hover.tooltips = [('Names', '$Names')]\n",
    "show(bar)"
   ]
  }
 ],
 "metadata": {
  "kernelspec": {
   "display_name": "Python 3",
   "language": "python",
   "name": "python3"
  },
  "language_info": {
   "codemirror_mode": {
    "name": "ipython",
    "version": 3
   },
   "file_extension": ".py",
   "mimetype": "text/x-python",
   "name": "python",
   "nbconvert_exporter": "python",
   "pygments_lexer": "ipython3",
   "version": "3.5.1"
  }
 },
 "nbformat": 4,
 "nbformat_minor": 0
}
