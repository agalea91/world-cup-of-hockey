{
 "cells": [
  {
   "cell_type": "code",
   "execution_count": 1,
   "metadata": {
    "collapsed": false
   },
   "outputs": [],
   "source": [
    "import sys\n",
    "sys.path.append('C:\\Anaconda3\\Lib\\site-packages')\n",
    "\n",
    "#import warnings\n",
    "#warnings.filterwarnings('ignore')"
   ]
  },
  {
   "cell_type": "markdown",
   "metadata": {},
   "source": [
    "Getting the current NHL captains (including assistants) for each team."
   ]
  },
  {
   "cell_type": "code",
   "execution_count": 2,
   "metadata": {
    "collapsed": false
   },
   "outputs": [
    {
     "name": "stderr",
     "output_type": "stream",
     "text": [
      "C:\\Anaconda3\\Lib\\site-packages\\pandas\\computation\\__init__.py:19: UserWarning: The installed version of numexpr 2.4.4 is not supported in pandas and will be not be used\n",
      "\n",
      "  UserWarning)\n"
     ]
    }
   ],
   "source": [
    "import matplotlib.pyplot as plt\n",
    "import numpy as np\n",
    "import pandas as pd\n",
    "import requests\n",
    "from bs4 import BeautifulSoup"
   ]
  },
  {
   "cell_type": "markdown",
   "metadata": {},
   "source": [
    "### Scrape data from wiki-pages"
   ]
  },
  {
   "cell_type": "code",
   "execution_count": 3,
   "metadata": {
    "collapsed": false
   },
   "outputs": [
    {
     "name": "stdout",
     "output_type": "stream",
     "text": [
      "Got <class 'requests.models.Response'> type object of url using the requests library\n"
     ]
    }
   ],
   "source": [
    "url = 'https://en.wikipedia.org/wiki/List_of_current_NHL_captains_and_alternate_captains'\n",
    "page = requests.get(url)\n",
    "print('Got %s type object of url using the requests library' % str(type(page)))"
   ]
  },
  {
   "cell_type": "code",
   "execution_count": 5,
   "metadata": {
    "collapsed": false
   },
   "outputs": [
    {
     "name": "stdout",
     "output_type": "stream",
     "text": [
      "Fed <class 'bytes'> type object into BeautifulSoup to create a <class 'bs4.BeautifulSoup'> type object\n"
     ]
    }
   ],
   "source": [
    "soup = BeautifulSoup(page.content, 'html.parser')\n",
    "print('Fed %s type object into BeautifulSoup to create a %s type object' % (str(type(page.content)), str(type(soup))))"
   ]
  },
  {
   "cell_type": "code",
   "execution_count": 6,
   "metadata": {
    "collapsed": false
   },
   "outputs": [
    {
     "name": "stdout",
     "output_type": "stream",
     "text": [
      "Got <class 'bs4.element.ResultSet'> type object of length 11\n"
     ]
    }
   ],
   "source": [
    "page_tables = soup.findAll('table')\n",
    "print('Got %s type object of length %d' % (str(type(page_tables)), len(page_tables)))"
   ]
  },
  {
   "cell_type": "markdown",
   "metadata": {},
   "source": [
    "Each table is an object and they can be iterated over."
   ]
  },
  {
   "cell_type": "code",
   "execution_count": 7,
   "metadata": {
    "collapsed": false
   },
   "outputs": [
    {
     "name": "stdout",
     "output_type": "stream",
     "text": [
      "<caption>Position abbreviations</caption>\n",
      "<caption>List of current NHL Captains</caption>\n",
      "<caption>List of current NHL Alternate Captains</caption>\n",
      "None\n",
      "None\n",
      "None\n",
      "None\n",
      "None\n",
      "None\n",
      "None\n",
      "None\n"
     ]
    }
   ],
   "source": [
    "for table in page_tables:\n",
    "    print(table.find('caption'))"
   ]
  },
  {
   "cell_type": "code",
   "execution_count": 8,
   "metadata": {
    "collapsed": false
   },
   "outputs": [
    {
     "name": "stdout",
     "output_type": "stream",
     "text": [
      "Skipping entry: ['\\n', <p><i>Vacant</i></p>, '\\n']\n",
      "Skipping entry: ['\\n', <p><i>Vacant</i></p>, '\\n']\n",
      "Skipping entry: ['\\n', <p><i>Vacant</i></p>, '\\n']\n",
      "Skipping entry: ['\\n', <p><i>Vacant</i></p>, '\\n']\n"
     ]
    },
    {
     "data": {
      "text/plain": [
       "['Ryan Getzlaf',\n",
       " 'Shane Doan',\n",
       " 'Zdeno Chara',\n",
       " 'Brian Gionta',\n",
       " 'Mark Giordano',\n",
       " 'Jonathan Toews',\n",
       " 'Gabriel Landeskog',\n",
       " 'Nick Foligno',\n",
       " 'Jamie Benn',\n",
       " 'Henrik Zetterberg',\n",
       " 'Anze Kopitar',\n",
       " 'Mikko Koivu',\n",
       " 'Max Pacioretty',\n",
       " 'Mike Fisher',\n",
       " 'Andy Greene',\n",
       " 'John Tavares',\n",
       " 'Ryan McDonagh',\n",
       " 'Erik Karlsson',\n",
       " 'Claude Giroux',\n",
       " 'Sidney Crosby',\n",
       " 'Alex Pietrangelo',\n",
       " 'Joe Pavelski',\n",
       " 'Steven Stamkos',\n",
       " 'Henrik Sedin',\n",
       " 'Alexander Ovechkin',\n",
       " 'Blake Wheeler']"
      ]
     },
     "execution_count": 8,
     "metadata": {},
     "output_type": "execute_result"
    }
   ],
   "source": [
    "# Get the captains\n",
    "C_players = []\n",
    "for i, n in enumerate(page_tables[1].findAll('td')):\n",
    "    if i % 3 == 0:\n",
    "        try:\n",
    "            C_players.append(n.findAll('a')[0].text)\n",
    "        except:\n",
    "            # N/A entry\n",
    "            print('Skipping entry:', n.contents)\n",
    "        \n",
    "C_players"
   ]
  },
  {
   "cell_type": "code",
   "execution_count": 11,
   "metadata": {
    "collapsed": false
   },
   "outputs": [
    {
     "name": "stdout",
     "output_type": "stream",
     "text": [
      "Skipping entry: [<i>Vacant</i>]\n",
      "Skipping entry: ['rotating', <sup class=\"reference\" id=\"cite_ref-Rotating_63-0\"><a href=\"#cite_note-Rotating-63\">[a]</a></sup>, <sup class=\"reference\" id=\"cite_ref-blues_64-0\"><a href=\"#cite_note-blues-64\">[63]</a></sup>]\n",
      "Skipping entry: ['rotating', <sup class=\"reference\" id=\"cite_ref-Rotating_63-1\"><a href=\"#cite_note-Rotating-63\">[a]</a></sup>]\n"
     ]
    },
    {
     "data": {
      "text/plain": [
       "['Corey Perry',\n",
       " 'Ryan Kesler',\n",
       " 'Oliver Ekman-Larsson',\n",
       " 'Martin Hanzal',\n",
       " 'Patrice Bergeron',\n",
       " 'David Krejci',\n",
       " 'Tyler Ennis',\n",
       " 'Josh Gorges',\n",
       " \"Ryan O'Reilly\",\n",
       " 'Sean Monahan',\n",
       " 'Dennis Wideman',\n",
       " 'Justin Faulk',\n",
       " 'Jordan Staal',\n",
       " 'Duncan Keith',\n",
       " 'Brent Seabrook',\n",
       " 'Jarome Iginla',\n",
       " 'Cody McLeod',\n",
       " 'Brandon Dubinsky',\n",
       " 'Boone Jenner',\n",
       " 'Tyler Seguin',\n",
       " 'Niklas Kronwall',\n",
       " 'Jordan Eberle',\n",
       " 'Andrew Ference',\n",
       " 'Ryan Nugent-Hopkins',\n",
       " 'Jussi Jokinen',\n",
       " 'Derek MacKenzie',\n",
       " 'Drew Doughty',\n",
       " 'Zach Parise',\n",
       " 'Ryan Suter',\n",
       " 'Brendan Gallagher',\n",
       " 'Andrei Markov',\n",
       " 'Tomas Plekanec',\n",
       " 'Roman Josi',\n",
       " 'James Neal',\n",
       " 'Michael Cammalleri',\n",
       " 'Patrik Elias',\n",
       " 'Adam Henrique',\n",
       " 'Travis Zajac',\n",
       " 'Daniel Girardi',\n",
       " 'Marc Staal',\n",
       " 'Derek Stepan',\n",
       " 'Chris Neil',\n",
       " 'Kyle Turris',\n",
       " 'Wayne Simmonds',\n",
       " 'Mark Streit',\n",
       " 'Chris Kunitz',\n",
       " 'Evgeni Malkin',\n",
       " 'Logan Couture',\n",
       " 'Joe Thornton',\n",
       " 'Ryan Callahan',\n",
       " 'Tyler Bozak',\n",
       " 'Matt Hunwick',\n",
       " 'Alexandre Burrows',\n",
       " 'Daniel Sedin',\n",
       " 'Nicklas Backstrom',\n",
       " 'Brooks Orpik',\n",
       " 'Mark Scheifele',\n",
       " 'Dustin Byfuglien']"
      ]
     },
     "execution_count": 11,
     "metadata": {},
     "output_type": "execute_result"
    }
   ],
   "source": [
    "# Get the assistants\n",
    "A_players = []\n",
    "for i, n in enumerate(page_tables[2].findAll('td')):\n",
    "    if i % 3 == 0:\n",
    "        try:\n",
    "            A_players.append(n.findAll('a')[0].text)\n",
    "        except:\n",
    "            # N/A entry\n",
    "            print('Skipping entry:', n.contents)\n",
    "        if A_players[-1] == '[a]':\n",
    "            # N/A entry\n",
    "            print('Skipping entry:', n.contents)\n",
    "            A_players.pop()\n",
    "            \n",
    "A_players"
   ]
  },
  {
   "cell_type": "code",
   "execution_count": 13,
   "metadata": {
    "collapsed": false
   },
   "outputs": [
    {
     "data": {
      "text/plain": [
       "84"
      ]
     },
     "execution_count": 13,
     "metadata": {},
     "output_type": "execute_result"
    }
   ],
   "source": [
    "len(C_players) + len(A_players)"
   ]
  },
  {
   "cell_type": "markdown",
   "metadata": {},
   "source": [
    "Getting the world cup rosters"
   ]
  },
  {
   "cell_type": "code",
   "execution_count": 14,
   "metadata": {
    "collapsed": true
   },
   "outputs": [],
   "source": [
    "url = 'https://en.wikipedia.org/wiki/2016_World_Cup_of_Hockey_rosters'\n",
    "page = requests.get(url)\n",
    "soup = BeautifulSoup(page.content, 'html.parser')"
   ]
  },
  {
   "cell_type": "code",
   "execution_count": 15,
   "metadata": {
    "collapsed": true
   },
   "outputs": [],
   "source": [
    "page_tables = soup.findAll('table')"
   ]
  },
  {
   "cell_type": "code",
   "execution_count": 16,
   "metadata": {
    "collapsed": false
   },
   "outputs": [
    {
     "data": {
      "text/plain": [
       "['Canada',\n",
       " 'Czech Republic',\n",
       " 'Team Europe',\n",
       " 'United States',\n",
       " 'Finland',\n",
       " 'Team North America',\n",
       " 'Russia',\n",
       " 'Sweden']"
      ]
     },
     "execution_count": 16,
     "metadata": {},
     "output_type": "execute_result"
    }
   ],
   "source": [
    "teams = [' '.join(soup.findAll('ul')[1].findAll('li')[i].text.split()[1:])\n",
    "         for i in range(4)]\n",
    "teams = teams + [' '.join(soup.findAll('ul')[2].findAll('li')[i].text.split()[1:])\n",
    "                 for i in range(4)]\n",
    "teams"
   ]
  },
  {
   "cell_type": "code",
   "execution_count": 17,
   "metadata": {
    "collapsed": false
   },
   "outputs": [
    {
     "data": {
      "text/plain": [
       "'John Gibson'"
      ]
     },
     "execution_count": 17,
     "metadata": {},
     "output_type": "execute_result"
    }
   ],
   "source": [
    "page_tables[5].findAll('tr')[1].findAll('a')[1].text"
   ]
  },
  {
   "cell_type": "code",
   "execution_count": 18,
   "metadata": {
    "collapsed": false
   },
   "outputs": [
    {
     "name": "stdout",
     "output_type": "stream",
     "text": [
      "Skipping entry: ['\\n', <th style=\"width: 4%;\">No.</th>, '\\n', <th style=\"width: 4%;\">Pos.</th>, '\\n', <th style=\"width: 14%;\">Name</th>, '\\n', <th style=\"width: 12%;\">Height</th>, '\\n', <th style=\"width: 11%;\">Weight</th>, '\\n', <th style=\"width: 14%;\">Birthdate</th>, '\\n', <th style=\"width: 16%;\">Team</th>, '\\n']\n",
      "Skipping entry: ['\\n', <th style=\"width: 4%;\">No.</th>, '\\n', <th style=\"width: 4%;\">Pos.</th>, '\\n', <th style=\"width: 14%;\">Name</th>, '\\n', <th style=\"width: 12%;\">Height</th>, '\\n', <th style=\"width: 11%;\">Weight</th>, '\\n', <th style=\"width: 14%;\">Birthdate</th>, '\\n', <th style=\"width: 16%;\">Team</th>, '\\n']\n",
      "Skipping entry: ['\\n', <th style=\"width: 4%;\">No.</th>, '\\n', <th style=\"width: 4%;\">Pos.</th>, '\\n', <th style=\"width: 14%;\">Name</th>, '\\n', <th style=\"width: 12%;\">Height</th>, '\\n', <th style=\"width: 11%;\">Weight</th>, '\\n', <th style=\"width: 14%;\">Birthdate</th>, '\\n', <th style=\"width: 16%;\">Team</th>, '\\n']\n",
      "Skipping entry: ['\\n', <th style=\"width: 4%;\">No.</th>, '\\n', <th style=\"width: 4%;\">Pos.</th>, '\\n', <th style=\"width: 14%;\">Name</th>, '\\n', <th style=\"width: 12%;\">Height</th>, '\\n', <th style=\"width: 11%;\">Weight</th>, '\\n', <th style=\"width: 14%;\">Birthdate</th>, '\\n', <th style=\"width: 16%;\">Team</th>, '\\n']\n",
      "Skipping entry: ['\\n', <th style=\"width: 4%;\">No.</th>, '\\n', <th style=\"width: 4%;\">Pos.</th>, '\\n', <th style=\"width: 14%;\">Name</th>, '\\n', <th style=\"width: 12%;\">Height</th>, '\\n', <th style=\"width: 11%;\">Weight</th>, '\\n', <th style=\"width: 14%;\">Birthdate</th>, '\\n', <th style=\"width: 16%;\">Team</th>, '\\n']\n",
      "Skipping entry: ['\\n', <th style=\"width: 4%;\">No.</th>, '\\n', <th style=\"width: 4%;\">Pos.</th>, '\\n', <th style=\"width: 14%;\">Name</th>, '\\n', <th style=\"width: 12%;\">Height</th>, '\\n', <th style=\"width: 11%;\">Weight</th>, '\\n', <th style=\"width: 14%;\">Birthdate</th>, '\\n', <th style=\"width: 16%;\">Team</th>, '\\n']\n",
      "Skipping entry: ['\\n', <th style=\"width: 4%;\">No.</th>, '\\n', <th style=\"width: 4%;\">Pos.</th>, '\\n', <th style=\"width: 14%;\">Name</th>, '\\n', <th style=\"width: 12%;\">Height</th>, '\\n', <th style=\"width: 11%;\">Weight</th>, '\\n', <th style=\"width: 14%;\">Birthdate</th>, '\\n', <th style=\"width: 16%;\">Team</th>, '\\n']\n",
      "Skipping entry: ['\\n', <th style=\"width: 4%;\">No.</th>, '\\n', <th style=\"width: 4%;\">Pos.</th>, '\\n', <th style=\"width: 14%;\">Name</th>, '\\n', <th style=\"width: 12%;\">Height</th>, '\\n', <th style=\"width: 11%;\">Weight</th>, '\\n', <th style=\"width: 14%;\">Birthdate</th>, '\\n', <th style=\"width: 16%;\">Team</th>, '\\n']\n"
     ]
    },
    {
     "data": {
      "text/plain": [
       "[['Corey Crawford',\n",
       "  'Braden Holtby',\n",
       "  'Carey Price',\n",
       "  'Jay Bouwmeester',\n",
       "  'Brent Burns',\n",
       "  'Drew Doughty',\n",
       "  'Jake Muzzin',\n",
       "  'Alex Pietrangelo',\n",
       "  'Marc-Édouard Vlasic',\n",
       "  'Shea Weber',\n",
       "  'Patrice Bergeron',\n",
       "  'Logan Couture',\n",
       "  'Sidney Crosby',\n",
       "  'Matt Duchene',\n",
       "  'Ryan Getzlaf',\n",
       "  'Claude Giroux',\n",
       "  'Brad Marchand',\n",
       "  \"Ryan O'Reilly\",\n",
       "  'Corey Perry',\n",
       "  'Steven Stamkos',\n",
       "  'John Tavares',\n",
       "  'Joe Thornton',\n",
       "  'Jonathan Toews'],\n",
       " ['Petr Mrázek',\n",
       "  'Michal Neuvirth',\n",
       "  'Ondřej Pavelec',\n",
       "  'Michal Jordán',\n",
       "  'Michal Kempný',\n",
       "  'Tomáš Kundrátek',\n",
       "  'Zbyněk Michálek',\n",
       "  'Jakub Nakládal',\n",
       "  'Roman Polák',\n",
       "  'Andrej Šustr',\n",
       "  'Michal Birner',\n",
       "  'Roman Červenka',\n",
       "  'Radek Faksa',\n",
       "  'Michael Frolík',\n",
       "  'Martin Hanzal',\n",
       "  'Aleš Hemský',\n",
       "  'Dmitri Jaškin',\n",
       "  'Milan Michálek',\n",
       "  'Ondřej Palát',\n",
       "  'David Pastrňák',\n",
       "  'Tomáš Plekanec',\n",
       "  'Vladimír Sobotka',\n",
       "  'Jakub Voráček'],\n",
       " ['Thomas Greiss',\n",
       "  'Philipp Grubauer',\n",
       "  'Jaroslav Halák',\n",
       "  'Zdeno Chára',\n",
       "  'Christian Ehrhoff',\n",
       "  'Roman Josi',\n",
       "  'Luca Sbisa',\n",
       "  'Dennis Seidenberg',\n",
       "  'Andrej Sekera',\n",
       "  'Mark Streit',\n",
       "  'Pierre-Édouard Bellemare',\n",
       "  'Mikkel Bødker',\n",
       "  'Leon Draisaitl',\n",
       "  'Marián Gáborík',\n",
       "  'Jannik Hansen',\n",
       "  'Marián Hossa',\n",
       "  'Anže Kopitar',\n",
       "  'Nino Niederreiter',\n",
       "  'Frans Nielsen',\n",
       "  'Tobias Rieder',\n",
       "  'Tomáš Tatar',\n",
       "  'Thomas Vanek',\n",
       "  'Mats Zuccarello'],\n",
       " ['Ben Bishop',\n",
       "  'Jonathan Quick',\n",
       "  'Cory Schneider',\n",
       "  'Dustin Byfuglien',\n",
       "  'John Carlson',\n",
       "  'Erik Johnson',\n",
       "  'Jack Johnson',\n",
       "  'Ryan McDonagh',\n",
       "  'Matt Niskanen',\n",
       "  'Ryan Suter',\n",
       "  'Justin Abdelkader',\n",
       "  'David Backes',\n",
       "  'Brandon Dubinsky',\n",
       "  'Patrick Kane',\n",
       "  'Ryan Kesler',\n",
       "  'T. J. Oshie',\n",
       "  'Max Pacioretty',\n",
       "  'Kyle Palmieri',\n",
       "  'Zach Parise',\n",
       "  'Joe Pavelski',\n",
       "  'Derek Stepan',\n",
       "  'James van Riemsdyk',\n",
       "  'Blake Wheeler'],\n",
       " ['Mikko Koskinen',\n",
       "  'Tuukka Rask',\n",
       "  'Pekka Rinne',\n",
       "  'Jyrki Jokipakka',\n",
       "  'Sami Lepistö',\n",
       "  'Esa Lindell',\n",
       "  'Olli Määttä',\n",
       "  'Ville Pokka',\n",
       "  'Rasmus Ristolainen',\n",
       "  'Sami Vatanen',\n",
       "  'Sebastian Aho',\n",
       "  'Aleksander Barkov',\n",
       "  'Joonas Donskoi',\n",
       "  'Valtteri Filppula',\n",
       "  'Mikael Granlund',\n",
       "  'Erik Haula',\n",
       "  'Jussi Jokinen',\n",
       "  'Mikko Koivu',\n",
       "  'Leo Komarov',\n",
       "  'Lauri Korpikoski',\n",
       "  'Patrik Laine',\n",
       "  'Jori Lehterä',\n",
       "  'Teuvo Teräväinen'],\n",
       " ['John Gibson',\n",
       "  'Connor Hellebuyck',\n",
       "  'Matt Murray',\n",
       "  'Aaron Ekblad',\n",
       "  'Shayne Gostisbehere',\n",
       "  'Seth Jones',\n",
       "  'Ryan Murray',\n",
       "  'Colton Parayko',\n",
       "  'Morgan Rielly',\n",
       "  'Jacob Trouba',\n",
       "  'Sean Couturier',\n",
       "  'Jonathan Drouin',\n",
       "  'Jack Eichel',\n",
       "  'Johnny Gaudreau',\n",
       "  'Dylan Larkin',\n",
       "  'Nathan MacKinnon',\n",
       "  'Auston Matthews',\n",
       "  'Connor McDavid',\n",
       "  'J. T. Miller',\n",
       "  'Ryan Nugent-Hopkins',\n",
       "  'Brandon Saad',\n",
       "  'Mark Scheifele',\n",
       "  'Vincent Trocheck'],\n",
       " ['Sergei Bobrovsky',\n",
       "  'Semyon Varlamov',\n",
       "  'Andrei Vasilevskiy',\n",
       "  'Alexei Emelin',\n",
       "  'Dmitri Kulikov',\n",
       "  'Alexei Marchenko',\n",
       "  'Andrei Markov',\n",
       "  'Nikita Nesterov',\n",
       "  'Dmitry Orlov',\n",
       "  'Nikita Zaitsev',\n",
       "  'Artem Anisimov',\n",
       "  'Evgenii Dadonov',\n",
       "  'Pavel Datsyuk',\n",
       "  'Nikita Kucherov',\n",
       "  'Nikolay Kulemin',\n",
       "  'Evgeny Kuznetsov',\n",
       "  'Evgeni Malkin',\n",
       "  'Vladislav Namestnikov',\n",
       "  'Alexander Ovechkin',\n",
       "  'Artemi Panarin',\n",
       "  'Vadim Shipachyov',\n",
       "  'Vladimir Tarasenko',\n",
       "  'Ivan Telegin'],\n",
       " ['Jhonas Enroth',\n",
       "  'Henrik Lundqvist',\n",
       "  'Jacob Markström',\n",
       "  'Mattias Ekholm',\n",
       "  'Oliver Ekman-Larsson',\n",
       "  'Victor Hedman',\n",
       "  'Niklas Hjalmarsson',\n",
       "  'Erik Karlsson',\n",
       "  'Hampus Lindholm',\n",
       "  'Anton Strålman',\n",
       "  'Mikael Backlund',\n",
       "  'Patrik Berglund',\n",
       "  'Nicklas Bäckström',\n",
       "  'Loui Eriksson',\n",
       "  'Filip Forsberg',\n",
       "  'Carl Hagelin',\n",
       "  'Patric Hörnqvist',\n",
       "  'Marcus Krüger',\n",
       "  'Gabriel Landeskog',\n",
       "  'Daniel Sedin',\n",
       "  'Henrik Sedin',\n",
       "  'Jakob Silfverberg',\n",
       "  'Carl Söderberg']]"
      ]
     },
     "execution_count": 18,
     "metadata": {},
     "output_type": "execute_result"
    }
   ],
   "source": [
    "players = []\n",
    "\n",
    "for i, table in enumerate(page_tables):\n",
    "    \n",
    "    p = []\n",
    "    rows = table.findAll('tr')\n",
    "    \n",
    "    if i in (0, 1, 3, 4, 6, 7):\n",
    "        index = 0\n",
    "    elif i in (2, 5):\n",
    "        index = 1\n",
    "    else:\n",
    "        # Skip to the next table\n",
    "        continue\n",
    "\n",
    "    for row in rows:\n",
    "        try:\n",
    "            p.append(row.findAll('a')[index].text)\n",
    "        except:\n",
    "            # N/A entry\n",
    "            print('Skipping entry:', row.contents)\n",
    "            \n",
    "    players.append(p)\n",
    "    \n",
    "players"
   ]
  },
  {
   "cell_type": "code",
   "execution_count": 19,
   "metadata": {
    "collapsed": false
   },
   "outputs": [
    {
     "name": "stdout",
     "output_type": "stream",
     "text": [
      "Canada ['Corey Crawford', 'Braden Holtby'] ...\n",
      "Czech Republic ['Petr Mrázek', 'Michal Neuvirth'] ...\n",
      "Team Europe ['Thomas Greiss', 'Philipp Grubauer'] ...\n",
      "United States ['Ben Bishop', 'Jonathan Quick'] ...\n",
      "Finland ['Mikko Koskinen', 'Tuukka Rask'] ...\n",
      "Team North America ['John Gibson', 'Connor Hellebuyck'] ...\n",
      "Russia ['Sergei Bobrovsky', 'Semyon Varlamov'] ...\n",
      "Sweden ['Jhonas Enroth', 'Henrik Lundqvist'] ...\n"
     ]
    }
   ],
   "source": [
    "# We can pair them up like this\n",
    "for t, p in zip(teams, players):\n",
    "    print(t, p[:2], '...')"
   ]
  },
  {
   "cell_type": "markdown",
   "metadata": {},
   "source": [
    "### Determine the number of captains per team"
   ]
  },
  {
   "cell_type": "code",
   "execution_count": 20,
   "metadata": {
    "collapsed": false
   },
   "outputs": [],
   "source": [
    "def get_captain_number(team):\n",
    "    ''' Returns the number of captains & assistant\n",
    "    captains in a given set of players.'''\n",
    "    \n",
    "    N_C, N_A = 0, 0\n",
    "    for player in team:\n",
    "        if player in C_players:\n",
    "            N_C += 1\n",
    "        elif player in A_players:\n",
    "            N_A += 1\n",
    "            \n",
    "    return N_C, N_A\n",
    "\n",
    "def get_captain_names(team):\n",
    "    ''' Returns the number of captains & assistant\n",
    "    captains in a given set of players.'''\n",
    "    \n",
    "    N_C, N_A = [], []\n",
    "    for player in team:\n",
    "        if player in C_players:\n",
    "            N_C.append(player)\n",
    "        elif player in A_players:\n",
    "            N_A.append(player)\n",
    "            \n",
    "    return N_C, N_A"
   ]
  },
  {
   "cell_type": "markdown",
   "metadata": {},
   "source": [
    "How many in the entire tournament?"
   ]
  },
  {
   "cell_type": "code",
   "execution_count": 21,
   "metadata": {
    "collapsed": false
   },
   "outputs": [
    {
     "name": "stdout",
     "output_type": "stream",
     "text": [
      "(#C, #A)\n",
      "(16, 22)\n",
      "\n",
      "(%C, %A)\n",
      "0.62 0.38\n"
     ]
    }
   ],
   "source": [
    "# Flatten player list and feed into the function\n",
    "all_players = [p for p_list in players for p in p_list]\n",
    "print('(#C, #A)')\n",
    "print(get_captain_number(all_players))\n",
    "print('')\n",
    "print('(%C, %A)')\n",
    "print('%.2f %.2f' %\n",
    "     (get_captain_number(all_players)[0] / len(C_players),\n",
    "      get_captain_number(all_players)[1] / len(A_players)))"
   ]
  },
  {
   "cell_type": "code",
   "execution_count": 22,
   "metadata": {
    "collapsed": false
   },
   "outputs": [
    {
     "data": {
      "text/plain": [
       "[('Canada', (7, 6)),\n",
       " ('Czech Republic', (0, 1)),\n",
       " ('Team Europe', (0, 2)),\n",
       " ('United States', (4, 6)),\n",
       " ('Finland', (1, 1)),\n",
       " ('Team North America', (0, 2)),\n",
       " ('Russia', (1, 2)),\n",
       " ('Sweden', (3, 2))]"
      ]
     },
     "execution_count": 22,
     "metadata": {},
     "output_type": "execute_result"
    }
   ],
   "source": [
    "N_captains = list(map(get_captain_number, players))\n",
    "list(zip(teams, N_captains))"
   ]
  },
  {
   "cell_type": "code",
   "execution_count": 23,
   "metadata": {
    "collapsed": false
   },
   "outputs": [
    {
     "data": {
      "text/plain": [
       "[('Canada',\n",
       "  (['Alex Pietrangelo',\n",
       "    'Sidney Crosby',\n",
       "    'Ryan Getzlaf',\n",
       "    'Claude Giroux',\n",
       "    'Steven Stamkos',\n",
       "    'John Tavares',\n",
       "    'Jonathan Toews'],\n",
       "   ['Drew Doughty',\n",
       "    'Patrice Bergeron',\n",
       "    'Logan Couture',\n",
       "    \"Ryan O'Reilly\",\n",
       "    'Corey Perry',\n",
       "    'Joe Thornton'])),\n",
       " ('Czech Republic', ([], ['Martin Hanzal'])),\n",
       " ('Team Europe', ([], ['Roman Josi', 'Mark Streit'])),\n",
       " ('United States',\n",
       "  (['Ryan McDonagh', 'Max Pacioretty', 'Joe Pavelski', 'Blake Wheeler'],\n",
       "   ['Dustin Byfuglien',\n",
       "    'Ryan Suter',\n",
       "    'Brandon Dubinsky',\n",
       "    'Ryan Kesler',\n",
       "    'Zach Parise',\n",
       "    'Derek Stepan'])),\n",
       " ('Finland', (['Mikko Koivu'], ['Jussi Jokinen'])),\n",
       " ('Team North America', ([], ['Ryan Nugent-Hopkins', 'Mark Scheifele'])),\n",
       " ('Russia', (['Alexander Ovechkin'], ['Andrei Markov', 'Evgeni Malkin'])),\n",
       " ('Sweden',\n",
       "  (['Erik Karlsson', 'Gabriel Landeskog', 'Henrik Sedin'],\n",
       "   ['Oliver Ekman-Larsson', 'Daniel Sedin']))]"
      ]
     },
     "execution_count": 23,
     "metadata": {},
     "output_type": "execute_result"
    }
   ],
   "source": [
    "captains = list(map(get_captain_names, players))\n",
    "list(zip(teams, captains))"
   ]
  },
  {
   "cell_type": "markdown",
   "metadata": {},
   "source": [
    "### Make bar plot"
   ]
  },
  {
   "cell_type": "code",
   "execution_count": 29,
   "metadata": {
    "collapsed": false
   },
   "outputs": [
    {
     "data": {
      "text/plain": [
       "[7, 0, 0, 4, 1, 0, 1, 3, 6, 1, 2, 6, 1, 2, 2, 2]"
      ]
     },
     "execution_count": 29,
     "metadata": {},
     "output_type": "execute_result"
    }
   ],
   "source": [
    "[c[0] for c in N_captains] + [c[1] for c in N_captains]"
   ]
  },
  {
   "cell_type": "code",
   "execution_count": 115,
   "metadata": {
    "collapsed": false
   },
   "outputs": [
    {
     "data": {
      "text/html": [
       "<div>\n",
       "<table border=\"1\" class=\"dataframe\">\n",
       "  <thead>\n",
       "    <tr style=\"text-align: right;\">\n",
       "      <th></th>\n",
       "      <th>Names</th>\n",
       "      <th>Number</th>\n",
       "      <th>Teams</th>\n",
       "      <th>Type</th>\n",
       "    </tr>\n",
       "  </thead>\n",
       "  <tbody>\n",
       "    <tr>\n",
       "      <th>0</th>\n",
       "      <td>Alex Pietrangelo, Sidney Crosby, Ryan Getzlaf,...</td>\n",
       "      <td>7</td>\n",
       "      <td>Canada</td>\n",
       "      <td>Captains</td>\n",
       "    </tr>\n",
       "    <tr>\n",
       "      <th>1</th>\n",
       "      <td>Drew Doughty, Patrice Bergeron, Logan Couture,...</td>\n",
       "      <td>6</td>\n",
       "      <td>Canada</td>\n",
       "      <td>Assistants</td>\n",
       "    </tr>\n",
       "    <tr>\n",
       "      <th>2</th>\n",
       "      <td>Ryan McDonagh, Max Pacioretty, Joe Pavelski, B...</td>\n",
       "      <td>4</td>\n",
       "      <td>USA</td>\n",
       "      <td>Captains</td>\n",
       "    </tr>\n",
       "    <tr>\n",
       "      <th>3</th>\n",
       "      <td>Dustin Byfuglien, Ryan Suter, Brandon Dubinsky...</td>\n",
       "      <td>6</td>\n",
       "      <td>USA</td>\n",
       "      <td>Assistants</td>\n",
       "    </tr>\n",
       "  </tbody>\n",
       "</table>\n",
       "</div>"
      ],
      "text/plain": [
       "                                               Names  Number   Teams  \\\n",
       "0  Alex Pietrangelo, Sidney Crosby, Ryan Getzlaf,...       7  Canada   \n",
       "1  Drew Doughty, Patrice Bergeron, Logan Couture,...       6  Canada   \n",
       "2  Ryan McDonagh, Max Pacioretty, Joe Pavelski, B...       4     USA   \n",
       "3  Dustin Byfuglien, Ryan Suter, Brandon Dubinsky...       6     USA   \n",
       "\n",
       "         Type  \n",
       "0    Captains  \n",
       "1  Assistants  \n",
       "2    Captains  \n",
       "3  Assistants  "
      ]
     },
     "execution_count": 115,
     "metadata": {},
     "output_type": "execute_result"
    }
   ],
   "source": [
    "df = pd.DataFrame({'Teams': ['Canada', 'Canada', 'USA', 'USA'],\n",
    "                   'Number': [7, 6, 4, 6],\n",
    "                   'Type': ['Captains', 'Assistants', 'Captains', 'Assistants'],\n",
    "                   'Names': ['Alex Pietrangelo, Sidney Crosby, Ryan Getzlaf, Claude Giroux, Steven Stamkos, John Tavares, Jonathan Toews',\n",
    "                             \"Drew Doughty, Patrice Bergeron, Logan Couture, Ryan O'Reilly, Corey Perry, Joe Thornton\",\n",
    "                             'Ryan McDonagh, Max Pacioretty, Joe Pavelski, Blake Wheeler',\n",
    "                             'Dustin Byfuglien, Ryan Suter, Brandon Dubinsky, Ryan Kesler, Zach Parise, Derek Stepan']})\n",
    "df"
   ]
  },
  {
   "cell_type": "code",
   "execution_count": 113,
   "metadata": {
    "collapsed": false
   },
   "outputs": [
    {
     "data": {
      "text/plain": [
       "['Alex Pietrangelo, Sidney Crosby, Ryan Getzlaf, Claude Giroux, Steven Stamkos, John Tavares, Jonathan Toews',\n",
       " \"Drew Doughty, Patrice Bergeron, Logan Couture, Ryan O'Reilly, Corey Perry, Joe Thornton\",\n",
       " 'Ryan McDonagh, Max Pacioretty, Joe Pavelski, Blake Wheeler',\n",
       " 'Dustin Byfuglien, Ryan Suter, Brandon Dubinsky, Ryan Kesler, Zach Parise, Derek Stepan']"
      ]
     },
     "execution_count": 113,
     "metadata": {},
     "output_type": "execute_result"
    }
   ],
   "source": [
    "df = pd.DataFrame()\n",
    "df['Teams'] = teams * 2\n",
    "df['Number'] = [c[0] for c in N_captains] + [c[1] for c in N_captains]\n",
    "df['Type'] = ['Captains'] * 8 + ['Assistants'] * 8\n",
    "df['Names'] = [', '.join(c[0]) for c in captains] +\\\n",
    "              [', '.join(c[1]) for c in captains]\n",
    "totals = df.groupby('Teams').sum()\n",
    "totals = dict(zip(totals.index, totals.Number))\n",
    "df['Total'] = df.Teams.map(totals)\n",
    "df.sort_values(by='Total', ascending=False, inplace=True)\n",
    "df"
   ]
  },
  {
   "cell_type": "code",
   "execution_count": 107,
   "metadata": {
    "collapsed": false
   },
   "outputs": [
    {
     "data": {
      "text/html": [
       "\n",
       "    <div class=\"bk-root\">\n",
       "        <a href=\"http://bokeh.pydata.org\" target=\"_blank\" class=\"bk-logo bk-logo-small bk-logo-notebook\"></a>\n",
       "        <span id=\"111e54d6-d7d5-450b-b9f0-4755b51c356b\">Loading BokehJS ...</span>\n",
       "    </div>"
      ]
     },
     "metadata": {},
     "output_type": "display_data"
    },
    {
     "data": {
      "application/javascript": [
       "\n",
       "(function(global) {\n",
       "  function now() {\n",
       "    return new Date();\n",
       "  }\n",
       "\n",
       "  var force = \"1\";\n",
       "\n",
       "  if (typeof (window._bokeh_onload_callbacks) === \"undefined\" || force !== \"\") {\n",
       "    window._bokeh_onload_callbacks = [];\n",
       "    window._bokeh_is_loading = undefined;\n",
       "  }\n",
       "\n",
       "  function run_callbacks() {\n",
       "    window._bokeh_onload_callbacks.forEach(function(callback) { callback() });\n",
       "    delete window._bokeh_onload_callbacks\n",
       "    console.info(\"Bokeh: all callbacks have finished\");\n",
       "  }\n",
       "\n",
       "  function load_libs(js_urls, callback) {\n",
       "    window._bokeh_onload_callbacks.push(callback);\n",
       "    if (window._bokeh_is_loading > 0) {\n",
       "      console.log(\"Bokeh: BokehJS is being loaded, scheduling callback at\", now());\n",
       "      return null;\n",
       "    }\n",
       "    if (js_urls == null || js_urls.length === 0) {\n",
       "      run_callbacks();\n",
       "      return null;\n",
       "    }\n",
       "    console.log(\"Bokeh: BokehJS not loaded, scheduling load and callback at\", now());\n",
       "    window._bokeh_is_loading = js_urls.length;\n",
       "    for (var i = 0; i < js_urls.length; i++) {\n",
       "      var url = js_urls[i];\n",
       "      var s = document.createElement('script');\n",
       "      s.src = url;\n",
       "      s.async = false;\n",
       "      s.onreadystatechange = s.onload = function() {\n",
       "        window._bokeh_is_loading--;\n",
       "        if (window._bokeh_is_loading === 0) {\n",
       "          console.log(\"Bokeh: all BokehJS libraries loaded\");\n",
       "          run_callbacks()\n",
       "        }\n",
       "      };\n",
       "      s.onerror = function() {\n",
       "        console.warn(\"failed to load library \" + url);\n",
       "      };\n",
       "      console.log(\"Bokeh: injecting script tag for BokehJS library: \", url);\n",
       "      document.getElementsByTagName(\"head\")[0].appendChild(s);\n",
       "    }\n",
       "  };\n",
       "\n",
       "  var js_urls = ['https://cdn.pydata.org/bokeh/release/bokeh-0.12.1.min.js', 'https://cdn.pydata.org/bokeh/release/bokeh-widgets-0.12.1.min.js', 'https://cdn.pydata.org/bokeh/release/bokeh-compiler-0.12.1.min.js'];\n",
       "\n",
       "  var inline_js = [\n",
       "    function(Bokeh) {\n",
       "      Bokeh.set_log_level(\"info\");\n",
       "    },\n",
       "    \n",
       "    function(Bokeh) {\n",
       "      \n",
       "      Bokeh.$(\"#111e54d6-d7d5-450b-b9f0-4755b51c356b\").text(\"BokehJS successfully loaded\");\n",
       "      var kernel = Jupyter.notebook.kernel\n",
       "      if (kernel.execute !== undefined) {\n",
       "          kernel.execute(\"import bokeh.io; bokeh.io._nb_loaded = True\");\n",
       "      }\n",
       "    },\n",
       "    function(Bokeh) {\n",
       "      console.log(\"Bokeh: injecting CSS: https://cdn.pydata.org/bokeh/release/bokeh-0.12.1.min.css\");\n",
       "      Bokeh.embed.inject_css(\"https://cdn.pydata.org/bokeh/release/bokeh-0.12.1.min.css\");\n",
       "      console.log(\"Bokeh: injecting CSS: https://cdn.pydata.org/bokeh/release/bokeh-widgets-0.12.1.min.css\");\n",
       "      Bokeh.embed.inject_css(\"https://cdn.pydata.org/bokeh/release/bokeh-widgets-0.12.1.min.css\");\n",
       "    }\n",
       "  ];\n",
       "\n",
       "  function run_inline_js() {\n",
       "    for (var i = 0; i < inline_js.length; i++) {\n",
       "      inline_js[i](window.Bokeh);\n",
       "    }\n",
       "  }\n",
       "\n",
       "  if (window._bokeh_is_loading === 0) {\n",
       "    console.log(\"Bokeh: BokehJS loaded, going straight to plotting\");\n",
       "    run_inline_js();\n",
       "  } else {\n",
       "    load_libs(js_urls, function() {\n",
       "      console.log(\"Bokeh: BokehJS plotting callback run at\", now());\n",
       "      run_inline_js();\n",
       "    });\n",
       "  }\n",
       "}(this));"
      ]
     },
     "metadata": {},
     "output_type": "display_data"
    }
   ],
   "source": [
    "from bokeh.charts import Bar\n",
    "from bokeh.charts.attributes import color, cat\n",
    "from bokeh.charts.operations import blend\n",
    "from bokeh.models import HoverTool, ColumnDataSource\n",
    "from bokeh.plotting import figure\n",
    "from bokeh.io import output_notebook, show\n",
    "from bokeh.models.renderers import GlyphRenderer\n",
    "output_notebook()"
   ]
  },
  {
   "cell_type": "code",
   "execution_count": 116,
   "metadata": {
    "collapsed": false
   },
   "outputs": [
    {
     "data": {
      "text/html": [
       "\n",
       "\n",
       "    <div class=\"bk-root\">\n",
       "        <div class=\"plotdiv\" id=\"4b052b9e-f32f-446f-b71e-75ff1597bff6\"></div>\n",
       "    </div>\n",
       "<script type=\"text/javascript\">\n",
       "  \n",
       "  (function(global) {\n",
       "    function now() {\n",
       "      return new Date();\n",
       "    }\n",
       "  \n",
       "    var force = \"\";\n",
       "  \n",
       "    if (typeof (window._bokeh_onload_callbacks) === \"undefined\" || force !== \"\") {\n",
       "      window._bokeh_onload_callbacks = [];\n",
       "      window._bokeh_is_loading = undefined;\n",
       "    }\n",
       "  \n",
       "    function run_callbacks() {\n",
       "      window._bokeh_onload_callbacks.forEach(function(callback) { callback() });\n",
       "      delete window._bokeh_onload_callbacks\n",
       "      console.info(\"Bokeh: all callbacks have finished\");\n",
       "    }\n",
       "  \n",
       "    function load_libs(js_urls, callback) {\n",
       "      window._bokeh_onload_callbacks.push(callback);\n",
       "      if (window._bokeh_is_loading > 0) {\n",
       "        console.log(\"Bokeh: BokehJS is being loaded, scheduling callback at\", now());\n",
       "        return null;\n",
       "      }\n",
       "      if (js_urls == null || js_urls.length === 0) {\n",
       "        run_callbacks();\n",
       "        return null;\n",
       "      }\n",
       "      console.log(\"Bokeh: BokehJS not loaded, scheduling load and callback at\", now());\n",
       "      window._bokeh_is_loading = js_urls.length;\n",
       "      for (var i = 0; i < js_urls.length; i++) {\n",
       "        var url = js_urls[i];\n",
       "        var s = document.createElement('script');\n",
       "        s.src = url;\n",
       "        s.async = false;\n",
       "        s.onreadystatechange = s.onload = function() {\n",
       "          window._bokeh_is_loading--;\n",
       "          if (window._bokeh_is_loading === 0) {\n",
       "            console.log(\"Bokeh: all BokehJS libraries loaded\");\n",
       "            run_callbacks()\n",
       "          }\n",
       "        };\n",
       "        s.onerror = function() {\n",
       "          console.warn(\"failed to load library \" + url);\n",
       "        };\n",
       "        console.log(\"Bokeh: injecting script tag for BokehJS library: \", url);\n",
       "        document.getElementsByTagName(\"head\")[0].appendChild(s);\n",
       "      }\n",
       "    };var element = document.getElementById(\"4b052b9e-f32f-446f-b71e-75ff1597bff6\");\n",
       "    if (element == null) {\n",
       "      console.log(\"Bokeh: ERROR: autoload.js configured with elementid '4b052b9e-f32f-446f-b71e-75ff1597bff6' but no matching script tag was found. \")\n",
       "      return false;\n",
       "    }\n",
       "  \n",
       "    var js_urls = [];\n",
       "  \n",
       "    var inline_js = [\n",
       "      function(Bokeh) {\n",
       "        Bokeh.$(function() {\n",
       "            var docs_json = {\"772838cf-cbab-45c3-a42f-9ab43793f88f\":{\"roots\":{\"references\":[{\"attributes\":{\"data_source\":{\"id\":\"f3000ec1-5ac7-477b-bd58-3880eceb574c\",\"type\":\"ColumnDataSource\"},\"glyph\":{\"id\":\"1bd70a9c-cc2b-4a45-8a18-90cd6e9e81ec\",\"type\":\"Rect\"},\"hover_glyph\":null,\"nonselection_glyph\":null,\"selection_glyph\":null},\"id\":\"6b29d0c0-1395-4938-a9af-4064111a08d2\",\"type\":\"GlyphRenderer\"},{\"attributes\":{\"plot\":{\"id\":\"0ecb5c64-b6c9-4882-bc21-6a65e5b2c37b\",\"subtype\":\"Chart\",\"type\":\"Plot\"}},\"id\":\"0af7ad7e-5aa5-42e8-8238-2c595e559ab1\",\"type\":\"WheelZoomTool\"},{\"attributes\":{},\"id\":\"88306954-b486-48fb-9293-32a5b96661b2\",\"type\":\"CategoricalTickFormatter\"},{\"attributes\":{\"legends\":[[\"Captains\",[{\"id\":\"6b29d0c0-1395-4938-a9af-4064111a08d2\",\"type\":\"GlyphRenderer\"}]],[\"Assistants\",[{\"id\":\"cf1fd9a2-a60e-4570-8dc9-682e32d4d5f4\",\"type\":\"GlyphRenderer\"}]]],\"plot\":{\"id\":\"0ecb5c64-b6c9-4882-bc21-6a65e5b2c37b\",\"subtype\":\"Chart\",\"type\":\"Plot\"}},\"id\":\"bd8c0ef9-2670-4031-9230-02206f8755b5\",\"type\":\"Legend\"},{\"attributes\":{\"plot\":null,\"text\":\"2016 World Cup of Hockey NHL Captains\"},\"id\":\"c22e80a5-606b-4200-ad65-576d25ae4dea\",\"type\":\"Title\"},{\"attributes\":{\"callback\":null,\"column_names\":[\"height\",\"y\",\"line_alpha\",\"line_color\",\"width\",\"fill_alpha\",\"x\",\"label\",\"color\"],\"data\":{\"Teams\":[\"Canada\"],\"Type\":[\"Captains\"],\"chart_index\":[{\"Teams\":\"Canada\",\"Type\":\"Captains\"}],\"color\":[\"OrangeRed\"],\"fill_alpha\":[0.8],\"height\":[7.0],\"label\":[{\"Teams\":\"Canada\",\"Type\":\"Captains\"}],\"line_alpha\":[1.0],\"line_color\":[\"white\"],\"width\":[0.8],\"x\":[\"Canada\"],\"y\":[3.5]}},\"id\":\"f3000ec1-5ac7-477b-bd58-3880eceb574c\",\"type\":\"ColumnDataSource\"},{\"attributes\":{\"callback\":null,\"column_names\":[\"height\",\"y\",\"line_alpha\",\"line_color\",\"width\",\"fill_alpha\",\"x\",\"label\",\"color\"],\"data\":{\"Teams\":[\"USA\"],\"Type\":[\"Captains\"],\"chart_index\":[{\"Teams\":\"USA\",\"Type\":\"Captains\"}],\"color\":[\"OrangeRed\"],\"fill_alpha\":[0.8],\"height\":[4.0],\"label\":[{\"Teams\":\"USA\",\"Type\":\"Captains\"}],\"line_alpha\":[1.0],\"line_color\":[\"white\"],\"width\":[0.8],\"x\":[\"USA\"],\"y\":[2.0]}},\"id\":\"fba7ad37-65fd-4e40-b59c-fc731308b2c4\",\"type\":\"ColumnDataSource\"},{\"attributes\":{\"data_source\":{\"id\":\"fba7ad37-65fd-4e40-b59c-fc731308b2c4\",\"type\":\"ColumnDataSource\"},\"glyph\":{\"id\":\"c4969a09-61b3-4484-be99-aa41fdb382fc\",\"type\":\"Rect\"},\"hover_glyph\":null,\"nonselection_glyph\":null,\"selection_glyph\":null},\"id\":\"6bac537e-6164-4c66-a929-a758019f0db2\",\"type\":\"GlyphRenderer\"},{\"attributes\":{\"callback\":null,\"column_names\":[\"height\",\"y\",\"line_alpha\",\"line_color\",\"width\",\"fill_alpha\",\"x\",\"label\",\"color\"],\"data\":{\"Teams\":[\"Canada\"],\"Type\":[\"Assistants\"],\"chart_index\":[{\"Teams\":\"Canada\",\"Type\":\"Assistants\"}],\"color\":[\"Orange\"],\"fill_alpha\":[0.8],\"height\":[6.0],\"label\":[{\"Teams\":\"Canada\",\"Type\":\"Assistants\"}],\"line_alpha\":[1.0],\"line_color\":[\"white\"],\"width\":[0.8],\"x\":[\"Canada\"],\"y\":[10.0]}},\"id\":\"f2fad33d-5d45-4d31-ad08-b94b57a01960\",\"type\":\"ColumnDataSource\"},{\"attributes\":{\"plot\":{\"id\":\"0ecb5c64-b6c9-4882-bc21-6a65e5b2c37b\",\"subtype\":\"Chart\",\"type\":\"Plot\"}},\"id\":\"a33082dc-a033-45ca-8f98-176567e639ae\",\"type\":\"HelpTool\"},{\"attributes\":{},\"id\":\"ae280ce3-8855-4439-b6b6-1a572de952c8\",\"type\":\"CategoricalTicker\"},{\"attributes\":{},\"id\":\"f0826d6b-c349-4071-a15b-54e4539f1b98\",\"type\":\"BasicTicker\"},{\"attributes\":{},\"id\":\"9b45bdfd-2293-43e9-abd0-6325f396d37b\",\"type\":\"BasicTickFormatter\"},{\"attributes\":{\"active_drag\":\"auto\",\"active_scroll\":\"auto\",\"active_tap\":\"auto\",\"tools\":[{\"id\":\"a8460507-f861-4df1-a21f-464798f25bf2\",\"type\":\"PanTool\"},{\"id\":\"0af7ad7e-5aa5-42e8-8238-2c595e559ab1\",\"type\":\"WheelZoomTool\"},{\"id\":\"84c91f18-9c3d-4a19-a36e-d4b38628ac99\",\"type\":\"BoxZoomTool\"},{\"id\":\"17407383-fde3-4bee-81f9-828e5967a09b\",\"type\":\"SaveTool\"},{\"id\":\"9c9969e4-22b9-4fd5-b64d-e92e0f64487e\",\"type\":\"ResetTool\"},{\"id\":\"a33082dc-a033-45ca-8f98-176567e639ae\",\"type\":\"HelpTool\"},{\"id\":\"9487eab7-78bc-40b7-8af5-e578cb5b5d1c\",\"type\":\"HoverTool\"}]},\"id\":\"1c315d99-46f5-4502-b349-f1de0ca14570\",\"type\":\"Toolbar\"},{\"attributes\":{\"plot\":{\"id\":\"0ecb5c64-b6c9-4882-bc21-6a65e5b2c37b\",\"subtype\":\"Chart\",\"type\":\"Plot\"}},\"id\":\"9c9969e4-22b9-4fd5-b64d-e92e0f64487e\",\"type\":\"ResetTool\"},{\"attributes\":{\"axis_label\":\"Teams\",\"formatter\":{\"id\":\"88306954-b486-48fb-9293-32a5b96661b2\",\"type\":\"CategoricalTickFormatter\"},\"major_label_orientation\":0.7853981633974483,\"plot\":{\"id\":\"0ecb5c64-b6c9-4882-bc21-6a65e5b2c37b\",\"subtype\":\"Chart\",\"type\":\"Plot\"},\"ticker\":{\"id\":\"ae280ce3-8855-4439-b6b6-1a572de952c8\",\"type\":\"CategoricalTicker\"}},\"id\":\"1c133f2d-e86c-4ed4-a3b3-4917bc576bfb\",\"type\":\"CategoricalAxis\"},{\"attributes\":{\"fill_alpha\":{\"field\":\"fill_alpha\"},\"fill_color\":{\"field\":\"color\"},\"height\":{\"field\":\"height\",\"units\":\"data\"},\"line_color\":{\"field\":\"line_color\"},\"width\":{\"field\":\"width\",\"units\":\"data\"},\"x\":{\"field\":\"x\"},\"y\":{\"field\":\"y\"}},\"id\":\"c4969a09-61b3-4484-be99-aa41fdb382fc\",\"type\":\"Rect\"},{\"attributes\":{\"axis_label\":\"Sum( Number )\",\"formatter\":{\"id\":\"9b45bdfd-2293-43e9-abd0-6325f396d37b\",\"type\":\"BasicTickFormatter\"},\"plot\":{\"id\":\"0ecb5c64-b6c9-4882-bc21-6a65e5b2c37b\",\"subtype\":\"Chart\",\"type\":\"Plot\"},\"ticker\":{\"id\":\"f0826d6b-c349-4071-a15b-54e4539f1b98\",\"type\":\"BasicTicker\"}},\"id\":\"aa2ba5a3-809d-4a8a-8132-0b963fdc932d\",\"type\":\"LinearAxis\"},{\"attributes\":{\"plot\":{\"id\":\"0ecb5c64-b6c9-4882-bc21-6a65e5b2c37b\",\"subtype\":\"Chart\",\"type\":\"Plot\"}},\"id\":\"17407383-fde3-4bee-81f9-828e5967a09b\",\"type\":\"SaveTool\"},{\"attributes\":{\"plot\":{\"id\":\"0ecb5c64-b6c9-4882-bc21-6a65e5b2c37b\",\"subtype\":\"Chart\",\"type\":\"Plot\"}},\"id\":\"a8460507-f861-4df1-a21f-464798f25bf2\",\"type\":\"PanTool\"},{\"attributes\":{\"overlay\":{\"id\":\"e8db73c3-7530-4dbc-82f0-e2f59095b66b\",\"type\":\"BoxAnnotation\"},\"plot\":{\"id\":\"0ecb5c64-b6c9-4882-bc21-6a65e5b2c37b\",\"subtype\":\"Chart\",\"type\":\"Plot\"}},\"id\":\"84c91f18-9c3d-4a19-a36e-d4b38628ac99\",\"type\":\"BoxZoomTool\"},{\"attributes\":{\"dimension\":1,\"plot\":{\"id\":\"0ecb5c64-b6c9-4882-bc21-6a65e5b2c37b\",\"subtype\":\"Chart\",\"type\":\"Plot\"},\"ticker\":{\"id\":\"f0826d6b-c349-4071-a15b-54e4539f1b98\",\"type\":\"BasicTicker\"}},\"id\":\"7add2248-9201-4edf-9bf9-b4888da8d676\",\"type\":\"Grid\"},{\"attributes\":{\"callback\":null,\"plot\":{\"id\":\"0ecb5c64-b6c9-4882-bc21-6a65e5b2c37b\",\"subtype\":\"Chart\",\"type\":\"Plot\"},\"tooltips\":[[\"Players\",\"@Names\"]]},\"id\":\"9487eab7-78bc-40b7-8af5-e578cb5b5d1c\",\"type\":\"HoverTool\"},{\"attributes\":{\"fill_alpha\":{\"field\":\"fill_alpha\"},\"fill_color\":{\"field\":\"color\"},\"height\":{\"field\":\"height\",\"units\":\"data\"},\"line_color\":{\"field\":\"line_color\"},\"width\":{\"field\":\"width\",\"units\":\"data\"},\"x\":{\"field\":\"x\"},\"y\":{\"field\":\"y\"}},\"id\":\"1bd70a9c-cc2b-4a45-8a18-90cd6e9e81ec\",\"type\":\"Rect\"},{\"attributes\":{\"data_source\":{\"id\":\"f2fad33d-5d45-4d31-ad08-b94b57a01960\",\"type\":\"ColumnDataSource\"},\"glyph\":{\"id\":\"b2f6b985-dd9f-4116-80c3-0508cf7762aa\",\"type\":\"Rect\"},\"hover_glyph\":null,\"nonselection_glyph\":null,\"selection_glyph\":null},\"id\":\"cf1fd9a2-a60e-4570-8dc9-682e32d4d5f4\",\"type\":\"GlyphRenderer\"},{\"attributes\":{\"callback\":null,\"end\":13.65},\"id\":\"caf4a7bc-8ce2-4235-9c8f-51d062c77b2a\",\"type\":\"Range1d\"},{\"attributes\":{\"fill_alpha\":{\"field\":\"fill_alpha\"},\"fill_color\":{\"field\":\"color\"},\"height\":{\"field\":\"height\",\"units\":\"data\"},\"line_color\":{\"field\":\"line_color\"},\"width\":{\"field\":\"width\",\"units\":\"data\"},\"x\":{\"field\":\"x\"},\"y\":{\"field\":\"y\"}},\"id\":\"b2f6b985-dd9f-4116-80c3-0508cf7762aa\",\"type\":\"Rect\"},{\"attributes\":{},\"id\":\"a81aab4a-3072-4479-8e29-b18298dba7e9\",\"type\":\"ToolEvents\"},{\"attributes\":{\"callback\":null,\"factors\":[\"Canada\",\"USA\"]},\"id\":\"5bbec55d-b24b-46ac-be4f-ca242756ac7c\",\"type\":\"FactorRange\"},{\"attributes\":{\"callback\":null,\"column_names\":[\"height\",\"y\",\"line_alpha\",\"line_color\",\"width\",\"fill_alpha\",\"x\",\"label\",\"color\"],\"data\":{\"Teams\":[\"USA\"],\"Type\":[\"Assistants\"],\"chart_index\":[{\"Teams\":\"USA\",\"Type\":\"Assistants\"}],\"color\":[\"Orange\"],\"fill_alpha\":[0.8],\"height\":[6.0],\"label\":[{\"Teams\":\"USA\",\"Type\":\"Assistants\"}],\"line_alpha\":[1.0],\"line_color\":[\"white\"],\"width\":[0.8],\"x\":[\"USA\"],\"y\":[7.0]}},\"id\":\"91b38760-fd33-4d3b-9810-fc260ac52cd5\",\"type\":\"ColumnDataSource\"},{\"attributes\":{\"fill_alpha\":{\"field\":\"fill_alpha\"},\"fill_color\":{\"field\":\"color\"},\"height\":{\"field\":\"height\",\"units\":\"data\"},\"line_color\":{\"field\":\"line_color\"},\"width\":{\"field\":\"width\",\"units\":\"data\"},\"x\":{\"field\":\"x\"},\"y\":{\"field\":\"y\"}},\"id\":\"12991741-385d-422f-b330-df430d7b1702\",\"type\":\"Rect\"},{\"attributes\":{\"below\":[{\"id\":\"1c133f2d-e86c-4ed4-a3b3-4917bc576bfb\",\"type\":\"CategoricalAxis\"}],\"left\":[{\"id\":\"aa2ba5a3-809d-4a8a-8132-0b963fdc932d\",\"type\":\"LinearAxis\"}],\"renderers\":[{\"id\":\"e8db73c3-7530-4dbc-82f0-e2f59095b66b\",\"type\":\"BoxAnnotation\"},{\"id\":\"6b29d0c0-1395-4938-a9af-4064111a08d2\",\"type\":\"GlyphRenderer\"},{\"id\":\"cf1fd9a2-a60e-4570-8dc9-682e32d4d5f4\",\"type\":\"GlyphRenderer\"},{\"id\":\"6bac537e-6164-4c66-a929-a758019f0db2\",\"type\":\"GlyphRenderer\"},{\"id\":\"8330d772-347d-4655-9a8d-72701ee88fb6\",\"type\":\"GlyphRenderer\"},{\"id\":\"bd8c0ef9-2670-4031-9230-02206f8755b5\",\"type\":\"Legend\"},{\"id\":\"1c133f2d-e86c-4ed4-a3b3-4917bc576bfb\",\"type\":\"CategoricalAxis\"},{\"id\":\"aa2ba5a3-809d-4a8a-8132-0b963fdc932d\",\"type\":\"LinearAxis\"},{\"id\":\"7add2248-9201-4edf-9bf9-b4888da8d676\",\"type\":\"Grid\"}],\"title\":{\"id\":\"c22e80a5-606b-4200-ad65-576d25ae4dea\",\"type\":\"Title\"},\"tool_events\":{\"id\":\"a81aab4a-3072-4479-8e29-b18298dba7e9\",\"type\":\"ToolEvents\"},\"toolbar\":{\"id\":\"1c315d99-46f5-4502-b349-f1de0ca14570\",\"type\":\"Toolbar\"},\"x_mapper_type\":\"auto\",\"x_range\":{\"id\":\"5bbec55d-b24b-46ac-be4f-ca242756ac7c\",\"type\":\"FactorRange\"},\"y_mapper_type\":\"auto\",\"y_range\":{\"id\":\"caf4a7bc-8ce2-4235-9c8f-51d062c77b2a\",\"type\":\"Range1d\"}},\"id\":\"0ecb5c64-b6c9-4882-bc21-6a65e5b2c37b\",\"subtype\":\"Chart\",\"type\":\"Plot\"},{\"attributes\":{\"bottom_units\":\"screen\",\"fill_alpha\":{\"value\":0.5},\"fill_color\":{\"value\":\"lightgrey\"},\"left_units\":\"screen\",\"level\":\"overlay\",\"line_alpha\":{\"value\":1.0},\"line_color\":{\"value\":\"black\"},\"line_dash\":[4,4],\"line_width\":{\"value\":2},\"plot\":null,\"render_mode\":\"css\",\"right_units\":\"screen\",\"top_units\":\"screen\"},\"id\":\"e8db73c3-7530-4dbc-82f0-e2f59095b66b\",\"type\":\"BoxAnnotation\"},{\"attributes\":{\"data_source\":{\"id\":\"91b38760-fd33-4d3b-9810-fc260ac52cd5\",\"type\":\"ColumnDataSource\"},\"glyph\":{\"id\":\"12991741-385d-422f-b330-df430d7b1702\",\"type\":\"Rect\"},\"hover_glyph\":null,\"nonselection_glyph\":null,\"selection_glyph\":null},\"id\":\"8330d772-347d-4655-9a8d-72701ee88fb6\",\"type\":\"GlyphRenderer\"}],\"root_ids\":[\"0ecb5c64-b6c9-4882-bc21-6a65e5b2c37b\"]},\"title\":\"Bokeh Application\",\"version\":\"0.12.1\"}};\n",
       "            var render_items = [{\"docid\":\"772838cf-cbab-45c3-a42f-9ab43793f88f\",\"elementid\":\"4b052b9e-f32f-446f-b71e-75ff1597bff6\",\"modelid\":\"0ecb5c64-b6c9-4882-bc21-6a65e5b2c37b\",\"notebook_comms_target\":\"d30f4a33-851f-40d0-bd61-4a6c1cda6ea2\"}];\n",
       "            \n",
       "            Bokeh.embed.embed_items(docs_json, render_items);\n",
       "        });\n",
       "      },\n",
       "      function(Bokeh) {\n",
       "      }\n",
       "    ];\n",
       "  \n",
       "    function run_inline_js() {\n",
       "      for (var i = 0; i < inline_js.length; i++) {\n",
       "        inline_js[i](window.Bokeh);\n",
       "      }\n",
       "    }\n",
       "  \n",
       "    if (window._bokeh_is_loading === 0) {\n",
       "      console.log(\"Bokeh: BokehJS loaded, going straight to plotting\");\n",
       "      run_inline_js();\n",
       "    } else {\n",
       "      load_libs(js_urls, function() {\n",
       "        console.log(\"Bokeh: BokehJS plotting callback run at\", now());\n",
       "        run_inline_js();\n",
       "      });\n",
       "    }\n",
       "  }(this));\n",
       "</script>"
      ]
     },
     "metadata": {},
     "output_type": "display_data"
    },
    {
     "data": {
      "text/html": [
       "<p><code>&lt;Bokeh Notebook handle for <strong>In[116]</strong>&gt;</code></p>"
      ],
      "text/plain": [
       "<bokeh.io._CommsHandle at 0x21b29f2ae48>"
      ]
     },
     "execution_count": 116,
     "metadata": {},
     "output_type": "execute_result"
    }
   ],
   "source": [
    "# source = ColumnDataSource(df)\n",
    "\n",
    "bar = Bar(df, label='Teams', values='Number',\n",
    "          agg='sum', stack='Type',\n",
    "          color=color(columns='Type', palette=['OrangeRed', 'Orange'], sort=False),\n",
    "          title='2016 World Cup of Hockey NHL Captains',\n",
    "          legend='top_right',\n",
    "          tooltips = [('Players', '@Names')])\n",
    "# bar.select(dict(type=GlyphRenderer))\n",
    "# hover = bar.select(dict(type=HoverTool))\n",
    "# hover.tooltips = [('Names', '$Names')]\n",
    "show(bar)"
   ]
  },
  {
   "cell_type": "code",
   "execution_count": null,
   "metadata": {
    "collapsed": true
   },
   "outputs": [],
   "source": []
  },
  {
   "cell_type": "code",
   "execution_count": null,
   "metadata": {
    "collapsed": true
   },
   "outputs": [],
   "source": []
  },
  {
   "cell_type": "code",
   "execution_count": 122,
   "metadata": {
    "collapsed": true
   },
   "outputs": [],
   "source": [
    "df = pd.DataFrame(dict(zip(teams, N_captains)),\n",
    "                  index=['Number of Captains', 'Number of Assistant Captains'])"
   ]
  },
  {
   "cell_type": "code",
   "execution_count": 123,
   "metadata": {
    "collapsed": false
   },
   "outputs": [
    {
     "data": {
      "text/html": [
       "<div>\n",
       "<table border=\"1\" class=\"dataframe\">\n",
       "  <thead>\n",
       "    <tr style=\"text-align: right;\">\n",
       "      <th></th>\n",
       "      <th>Number of Captains</th>\n",
       "      <th>Number of Assistant Captains</th>\n",
       "      <th>Total Number of Captains</th>\n",
       "      <th>Team</th>\n",
       "      <th>C</th>\n",
       "      <th>A</th>\n",
       "    </tr>\n",
       "  </thead>\n",
       "  <tbody>\n",
       "    <tr>\n",
       "      <th>Canada</th>\n",
       "      <td>7</td>\n",
       "      <td>6</td>\n",
       "      <td>13</td>\n",
       "      <td>Canada</td>\n",
       "      <td>Alex Pietrangelo, Sidney Crosby, Ryan Getzlaf,...</td>\n",
       "      <td>Drew Doughty, Patrice Bergeron, Logan Couture,...</td>\n",
       "    </tr>\n",
       "    <tr>\n",
       "      <th>United States</th>\n",
       "      <td>4</td>\n",
       "      <td>6</td>\n",
       "      <td>10</td>\n",
       "      <td>United States</td>\n",
       "      <td>Erik Karlsson, Gabriel Landeskog, Henrik Sedin</td>\n",
       "      <td>Oliver Ekman-Larsson, Daniel Sedin</td>\n",
       "    </tr>\n",
       "    <tr>\n",
       "      <th>Sweden</th>\n",
       "      <td>3</td>\n",
       "      <td>2</td>\n",
       "      <td>5</td>\n",
       "      <td>Sweden</td>\n",
       "      <td>Mikko Koivu</td>\n",
       "      <td>Jussi Jokinen</td>\n",
       "    </tr>\n",
       "    <tr>\n",
       "      <th>Russia</th>\n",
       "      <td>1</td>\n",
       "      <td>2</td>\n",
       "      <td>3</td>\n",
       "      <td>Russia</td>\n",
       "      <td>Ryan McDonagh, Max Pacioretty, Joe Pavelski, B...</td>\n",
       "      <td>Dustin Byfuglien, Ryan Suter, Brandon Dubinsky...</td>\n",
       "    </tr>\n",
       "    <tr>\n",
       "      <th>Finland</th>\n",
       "      <td>1</td>\n",
       "      <td>1</td>\n",
       "      <td>2</td>\n",
       "      <td>Finland</td>\n",
       "      <td></td>\n",
       "      <td>Roman Josi, Mark Streit</td>\n",
       "    </tr>\n",
       "    <tr>\n",
       "      <th>Team Europe</th>\n",
       "      <td>0</td>\n",
       "      <td>2</td>\n",
       "      <td>2</td>\n",
       "      <td>Team Europe</td>\n",
       "      <td></td>\n",
       "      <td>Ryan Nugent-Hopkins, Mark Scheifele</td>\n",
       "    </tr>\n",
       "    <tr>\n",
       "      <th>Team North America</th>\n",
       "      <td>0</td>\n",
       "      <td>2</td>\n",
       "      <td>2</td>\n",
       "      <td>Team North America</td>\n",
       "      <td>Alexander Ovechkin</td>\n",
       "      <td>Andrei Markov, Evgeni Malkin</td>\n",
       "    </tr>\n",
       "    <tr>\n",
       "      <th>Czech Republic</th>\n",
       "      <td>0</td>\n",
       "      <td>1</td>\n",
       "      <td>1</td>\n",
       "      <td>Czech Republic</td>\n",
       "      <td></td>\n",
       "      <td>Martin Hanzal</td>\n",
       "    </tr>\n",
       "  </tbody>\n",
       "</table>\n",
       "</div>"
      ],
      "text/plain": [
       "                    Number of Captains  Number of Assistant Captains  \\\n",
       "Canada                               7                             6   \n",
       "United States                        4                             6   \n",
       "Sweden                               3                             2   \n",
       "Russia                               1                             2   \n",
       "Finland                              1                             1   \n",
       "Team Europe                          0                             2   \n",
       "Team North America                   0                             2   \n",
       "Czech Republic                       0                             1   \n",
       "\n",
       "                    Total Number of Captains                Team  \\\n",
       "Canada                                    13              Canada   \n",
       "United States                             10       United States   \n",
       "Sweden                                     5              Sweden   \n",
       "Russia                                     3              Russia   \n",
       "Finland                                    2             Finland   \n",
       "Team Europe                                2         Team Europe   \n",
       "Team North America                         2  Team North America   \n",
       "Czech Republic                             1      Czech Republic   \n",
       "\n",
       "                                                                    C  \\\n",
       "Canada              Alex Pietrangelo, Sidney Crosby, Ryan Getzlaf,...   \n",
       "United States          Erik Karlsson, Gabriel Landeskog, Henrik Sedin   \n",
       "Sweden                                                    Mikko Koivu   \n",
       "Russia              Ryan McDonagh, Max Pacioretty, Joe Pavelski, B...   \n",
       "Finland                                                                 \n",
       "Team Europe                                                             \n",
       "Team North America                                 Alexander Ovechkin   \n",
       "Czech Republic                                                          \n",
       "\n",
       "                                                                    A  \n",
       "Canada              Drew Doughty, Patrice Bergeron, Logan Couture,...  \n",
       "United States                      Oliver Ekman-Larsson, Daniel Sedin  \n",
       "Sweden                                                  Jussi Jokinen  \n",
       "Russia              Dustin Byfuglien, Ryan Suter, Brandon Dubinsky...  \n",
       "Finland                                       Roman Josi, Mark Streit  \n",
       "Team Europe                       Ryan Nugent-Hopkins, Mark Scheifele  \n",
       "Team North America                       Andrei Markov, Evgeni Malkin  \n",
       "Czech Republic                                          Martin Hanzal  "
      ]
     },
     "execution_count": 123,
     "metadata": {},
     "output_type": "execute_result"
    }
   ],
   "source": [
    "df = df.T\n",
    "df['Total Number of Captains'] = df.apply(lambda x: x[0] + x[1], axis=1)\n",
    "df['Team'] = df.index\n",
    "df['C'] = [', '.join(c[0]) for c in captains]\n",
    "df['A'] = [', '.join(c[1]) for c in captains]\n",
    "df.sort_values(by='Total Number of Captains', ascending=False, inplace=True)\n",
    "df"
   ]
  },
  {
   "cell_type": "code",
   "execution_count": 147,
   "metadata": {
    "collapsed": false
   },
   "outputs": [
    {
     "data": {
      "text/html": [
       "\n",
       "\n",
       "    <div class=\"bk-root\">\n",
       "        <div class=\"plotdiv\" id=\"b30ed31d-a695-4e2e-bd9c-8cda361c04be\"></div>\n",
       "    </div>\n",
       "<script type=\"text/javascript\">\n",
       "  \n",
       "  (function(global) {\n",
       "    function now() {\n",
       "      return new Date();\n",
       "    }\n",
       "  \n",
       "    var force = \"\";\n",
       "  \n",
       "    if (typeof (window._bokeh_onload_callbacks) === \"undefined\" || force !== \"\") {\n",
       "      window._bokeh_onload_callbacks = [];\n",
       "      window._bokeh_is_loading = undefined;\n",
       "    }\n",
       "  \n",
       "    function run_callbacks() {\n",
       "      window._bokeh_onload_callbacks.forEach(function(callback) { callback() });\n",
       "      delete window._bokeh_onload_callbacks\n",
       "      console.info(\"Bokeh: all callbacks have finished\");\n",
       "    }\n",
       "  \n",
       "    function load_libs(js_urls, callback) {\n",
       "      window._bokeh_onload_callbacks.push(callback);\n",
       "      if (window._bokeh_is_loading > 0) {\n",
       "        console.log(\"Bokeh: BokehJS is being loaded, scheduling callback at\", now());\n",
       "        return null;\n",
       "      }\n",
       "      if (js_urls == null || js_urls.length === 0) {\n",
       "        run_callbacks();\n",
       "        return null;\n",
       "      }\n",
       "      console.log(\"Bokeh: BokehJS not loaded, scheduling load and callback at\", now());\n",
       "      window._bokeh_is_loading = js_urls.length;\n",
       "      for (var i = 0; i < js_urls.length; i++) {\n",
       "        var url = js_urls[i];\n",
       "        var s = document.createElement('script');\n",
       "        s.src = url;\n",
       "        s.async = false;\n",
       "        s.onreadystatechange = s.onload = function() {\n",
       "          window._bokeh_is_loading--;\n",
       "          if (window._bokeh_is_loading === 0) {\n",
       "            console.log(\"Bokeh: all BokehJS libraries loaded\");\n",
       "            run_callbacks()\n",
       "          }\n",
       "        };\n",
       "        s.onerror = function() {\n",
       "          console.warn(\"failed to load library \" + url);\n",
       "        };\n",
       "        console.log(\"Bokeh: injecting script tag for BokehJS library: \", url);\n",
       "        document.getElementsByTagName(\"head\")[0].appendChild(s);\n",
       "      }\n",
       "    };var element = document.getElementById(\"b30ed31d-a695-4e2e-bd9c-8cda361c04be\");\n",
       "    if (element == null) {\n",
       "      console.log(\"Bokeh: ERROR: autoload.js configured with elementid 'b30ed31d-a695-4e2e-bd9c-8cda361c04be' but no matching script tag was found. \")\n",
       "      return false;\n",
       "    }\n",
       "  \n",
       "    var js_urls = [];\n",
       "  \n",
       "    var inline_js = [\n",
       "      function(Bokeh) {\n",
       "        Bokeh.$(function() {\n",
       "            var docs_json = {\"c56691f6-837d-4755-9d2d-b6247eb298fb\":{\"roots\":{\"references\":[{\"attributes\":{},\"id\":\"25802728-fb88-4ab5-8ca2-f2a95ebfeef3\",\"type\":\"CategoricalTicker\"},{\"attributes\":{\"callback\":null,\"factors\":[\"Canada\",\"United States\",\"Sweden\",\"Russia\",\"Finland\",\"Team Europe\",\"Team North America\",\"Czech Republic\"]},\"id\":\"f9b716bb-9f8e-4d2d-b611-c960bf8eb39e\",\"type\":\"FactorRange\"},{\"attributes\":{\"data_source\":{\"id\":\"722f7076-0852-4b16-a866-53aec36b9bcf\",\"type\":\"ColumnDataSource\"},\"glyph\":{\"id\":\"357d7712-bee8-4e1c-a5b6-1d6902402a81\",\"type\":\"Rect\"},\"hover_glyph\":null,\"nonselection_glyph\":null,\"selection_glyph\":null},\"id\":\"ed585662-ee0c-415a-898e-33a14b5b0689\",\"type\":\"GlyphRenderer\"},{\"attributes\":{\"overlay\":{\"id\":\"8d431b11-d5ae-4d26-9d32-28cef3d5644b\",\"type\":\"BoxAnnotation\"},\"plot\":{\"id\":\"92cca4d9-8e1d-497b-8c50-8ceb3214137e\",\"subtype\":\"Chart\",\"type\":\"Plot\"}},\"id\":\"0fc9c975-90c4-4738-96c2-e4accb284f94\",\"type\":\"BoxZoomTool\"},{\"attributes\":{\"callback\":null,\"column_names\":[\"height\",\"y\",\"line_alpha\",\"line_color\",\"width\",\"fill_alpha\",\"x\",\"label\",\"color\"],\"data\":{\"Team\":[\"United States\"],\"caps\":[\"Number of Captains\"],\"chart_index\":[{\"Team\":\"United States\",\"caps\":\"Number of Captains\"}],\"color\":[\"OrangeRed\"],\"fill_alpha\":[0.8],\"height\":[4.0],\"label\":[{\"Team\":\"United States\",\"caps\":\"Number of Captains\"}],\"line_alpha\":[1.0],\"line_color\":[\"white\"],\"width\":[0.8],\"x\":[\"United States\"],\"y\":[2.0]}},\"id\":\"4b451dee-b35c-4611-9cec-cc96d6a20cdb\",\"type\":\"ColumnDataSource\"},{\"attributes\":{\"callback\":null,\"end\":13.65},\"id\":\"025dc9dd-b805-4c30-b0af-d0c9409d5d99\",\"type\":\"Range1d\"},{\"attributes\":{\"below\":[{\"id\":\"a7bade71-aa66-47bd-877b-5b131619ccf3\",\"type\":\"CategoricalAxis\"}],\"left\":[{\"id\":\"f1c8607f-0799-4d84-8326-65d3ba238457\",\"type\":\"LinearAxis\"}],\"renderers\":[{\"id\":\"8d431b11-d5ae-4d26-9d32-28cef3d5644b\",\"type\":\"BoxAnnotation\"},{\"id\":\"2a09d13b-7880-4cc0-b0f1-18d36dc835b9\",\"type\":\"GlyphRenderer\"},{\"id\":\"dcbfd3c8-5da1-4c6a-92d8-4d62864d2741\",\"type\":\"GlyphRenderer\"},{\"id\":\"7fee74d9-dd9b-4ded-9ee8-912c84368e35\",\"type\":\"GlyphRenderer\"},{\"id\":\"ba465df3-0fd8-4a0e-96e5-46e15790987a\",\"type\":\"GlyphRenderer\"},{\"id\":\"d8a801ae-b61b-43b4-b508-8ad781793afe\",\"type\":\"GlyphRenderer\"},{\"id\":\"48b8c46b-59a0-46b7-b447-6ea8042298cf\",\"type\":\"GlyphRenderer\"},{\"id\":\"481e5848-7c69-4399-bcba-1e7cd3d506b3\",\"type\":\"GlyphRenderer\"},{\"id\":\"79d59112-1998-4621-8f61-770f1727133f\",\"type\":\"GlyphRenderer\"},{\"id\":\"f8531353-40bc-4975-82fb-95e67bc5c354\",\"type\":\"GlyphRenderer\"},{\"id\":\"ed585662-ee0c-415a-898e-33a14b5b0689\",\"type\":\"GlyphRenderer\"},{\"id\":\"0e628e5f-212f-4a49-8539-4e7ee7247fb8\",\"type\":\"GlyphRenderer\"},{\"id\":\"9366a4c3-fc52-4826-b989-8d7e0efc652c\",\"type\":\"GlyphRenderer\"},{\"id\":\"433e9e38-f47e-4462-a21a-3e2cb23f06df\",\"type\":\"GlyphRenderer\"},{\"id\":\"f0cf1d8c-ba18-4fcf-9136-12df2b4f7b38\",\"type\":\"GlyphRenderer\"},{\"id\":\"70f5d3cf-0f02-493d-a6f6-8ff98d7a2e11\",\"type\":\"GlyphRenderer\"},{\"id\":\"67ecc4ee-14bc-4f04-aee4-899972222b61\",\"type\":\"GlyphRenderer\"},{\"id\":\"abb006e7-1981-44f9-9c4d-9ea862563ef6\",\"type\":\"Legend\"},{\"id\":\"a7bade71-aa66-47bd-877b-5b131619ccf3\",\"type\":\"CategoricalAxis\"},{\"id\":\"f1c8607f-0799-4d84-8326-65d3ba238457\",\"type\":\"LinearAxis\"},{\"id\":\"3c3f2428-5638-49a6-81a1-e7287b5801c8\",\"type\":\"Grid\"}],\"title\":{\"id\":\"7b863bbb-e97d-4772-b6b3-215913f0de15\",\"type\":\"Title\"},\"tool_events\":{\"id\":\"5b99e4e7-a42f-42b5-b26d-b0dbc051d6a0\",\"type\":\"ToolEvents\"},\"toolbar\":{\"id\":\"e1ad69a5-1b6a-4cd2-9d70-4dec2057f92f\",\"type\":\"Toolbar\"},\"x_mapper_type\":\"auto\",\"x_range\":{\"id\":\"f9b716bb-9f8e-4d2d-b611-c960bf8eb39e\",\"type\":\"FactorRange\"},\"y_mapper_type\":\"auto\",\"y_range\":{\"id\":\"025dc9dd-b805-4c30-b0af-d0c9409d5d99\",\"type\":\"Range1d\"}},\"id\":\"92cca4d9-8e1d-497b-8c50-8ceb3214137e\",\"subtype\":\"Chart\",\"type\":\"Plot\"},{\"attributes\":{\"callback\":null,\"column_names\":[\"height\",\"y\",\"line_alpha\",\"line_color\",\"width\",\"fill_alpha\",\"x\",\"label\",\"color\"],\"data\":{\"Team\":[\"Czech Republic\"],\"caps\":[\"Number of Assistant Captains\"],\"chart_index\":[{\"Team\":\"Czech Republic\",\"caps\":\"Number of Assistant Captains\"}],\"color\":[\"Orange\"],\"fill_alpha\":[0.8],\"height\":[1.0],\"label\":[{\"Team\":\"Czech Republic\",\"caps\":\"Number of Assistant Captains\"}],\"line_alpha\":[1.0],\"line_color\":[\"white\"],\"width\":[0.8],\"x\":[\"Czech Republic\"],\"y\":[0.5]}},\"id\":\"a0c1e488-fb31-404c-8daf-598ffbdde81f\",\"type\":\"ColumnDataSource\"},{\"attributes\":{\"data_source\":{\"id\":\"2d8cf77e-31a9-4292-af97-d3daeb635ecc\",\"type\":\"ColumnDataSource\"},\"glyph\":{\"id\":\"0dc3b804-1f09-4ed0-a52d-cf069e9072e4\",\"type\":\"Rect\"},\"hover_glyph\":null,\"nonselection_glyph\":null,\"selection_glyph\":null},\"id\":\"2a09d13b-7880-4cc0-b0f1-18d36dc835b9\",\"type\":\"GlyphRenderer\"},{\"attributes\":{\"data_source\":{\"id\":\"6c5294f0-9966-481b-ba17-161f73f6ee3d\",\"type\":\"ColumnDataSource\"},\"glyph\":{\"id\":\"fce0be06-eb2a-467b-9d8f-f014b16c64d9\",\"type\":\"Rect\"},\"hover_glyph\":null,\"nonselection_glyph\":null,\"selection_glyph\":null},\"id\":\"433e9e38-f47e-4462-a21a-3e2cb23f06df\",\"type\":\"GlyphRenderer\"},{\"attributes\":{\"plot\":{\"id\":\"92cca4d9-8e1d-497b-8c50-8ceb3214137e\",\"subtype\":\"Chart\",\"type\":\"Plot\"}},\"id\":\"b991d7ce-6949-448b-8a49-47c5575bf071\",\"type\":\"WheelZoomTool\"},{\"attributes\":{\"callback\":null,\"column_names\":[\"height\",\"y\",\"line_alpha\",\"line_color\",\"width\",\"fill_alpha\",\"x\",\"label\",\"color\"],\"data\":{\"Team\":[\"Czech Republic\"],\"caps\":[\"Number of Captains\"],\"chart_index\":[{\"Team\":\"Czech Republic\",\"caps\":\"Number of Captains\"}],\"color\":[\"OrangeRed\"],\"fill_alpha\":[0.8],\"height\":[0.0],\"label\":[{\"Team\":\"Czech Republic\",\"caps\":\"Number of Captains\"}],\"line_alpha\":[1.0],\"line_color\":[\"white\"],\"width\":[0.8],\"x\":[\"Czech Republic\"],\"y\":[0.0]}},\"id\":\"d5574055-cdde-4b3f-88d2-332b17ccae91\",\"type\":\"ColumnDataSource\"},{\"attributes\":{\"data_source\":{\"id\":\"4b451dee-b35c-4611-9cec-cc96d6a20cdb\",\"type\":\"ColumnDataSource\"},\"glyph\":{\"id\":\"a27cdf67-024d-48bf-9b0a-2d4a32089c18\",\"type\":\"Rect\"},\"hover_glyph\":null,\"nonselection_glyph\":null,\"selection_glyph\":null},\"id\":\"dcbfd3c8-5da1-4c6a-92d8-4d62864d2741\",\"type\":\"GlyphRenderer\"},{\"attributes\":{\"fill_alpha\":{\"field\":\"fill_alpha\"},\"fill_color\":{\"field\":\"color\"},\"height\":{\"field\":\"height\",\"units\":\"data\"},\"line_color\":{\"field\":\"line_color\"},\"width\":{\"field\":\"width\",\"units\":\"data\"},\"x\":{\"field\":\"x\"},\"y\":{\"field\":\"y\"}},\"id\":\"778a7f11-8599-44c9-95c8-432b949c11db\",\"type\":\"Rect\"},{\"attributes\":{},\"id\":\"d25e310f-90a3-44cc-901c-3134914dcda5\",\"type\":\"BasicTicker\"},{\"attributes\":{\"fill_alpha\":{\"field\":\"fill_alpha\"},\"fill_color\":{\"field\":\"color\"},\"height\":{\"field\":\"height\",\"units\":\"data\"},\"line_color\":{\"field\":\"line_color\"},\"width\":{\"field\":\"width\",\"units\":\"data\"},\"x\":{\"field\":\"x\"},\"y\":{\"field\":\"y\"}},\"id\":\"09718bb3-924d-48cd-b6e9-041a8a123559\",\"type\":\"Rect\"},{\"attributes\":{\"fill_alpha\":{\"field\":\"fill_alpha\"},\"fill_color\":{\"field\":\"color\"},\"height\":{\"field\":\"height\",\"units\":\"data\"},\"line_color\":{\"field\":\"line_color\"},\"width\":{\"field\":\"width\",\"units\":\"data\"},\"x\":{\"field\":\"x\"},\"y\":{\"field\":\"y\"}},\"id\":\"c51ad85f-cbc4-4235-afd4-1e9506ddc435\",\"type\":\"Rect\"},{\"attributes\":{\"fill_alpha\":{\"field\":\"fill_alpha\"},\"fill_color\":{\"field\":\"color\"},\"height\":{\"field\":\"height\",\"units\":\"data\"},\"line_color\":{\"field\":\"line_color\"},\"width\":{\"field\":\"width\",\"units\":\"data\"},\"x\":{\"field\":\"x\"},\"y\":{\"field\":\"y\"}},\"id\":\"14e0ed39-a0b1-4e6c-9802-2adfd24a29bd\",\"type\":\"Rect\"},{\"attributes\":{\"fill_alpha\":{\"field\":\"fill_alpha\"},\"fill_color\":{\"field\":\"color\"},\"height\":{\"field\":\"height\",\"units\":\"data\"},\"line_color\":{\"field\":\"line_color\"},\"width\":{\"field\":\"width\",\"units\":\"data\"},\"x\":{\"field\":\"x\"},\"y\":{\"field\":\"y\"}},\"id\":\"0ae9cc4b-e80b-423a-9170-7d95c863dcae\",\"type\":\"Rect\"},{\"attributes\":{\"fill_alpha\":{\"field\":\"fill_alpha\"},\"fill_color\":{\"field\":\"color\"},\"height\":{\"field\":\"height\",\"units\":\"data\"},\"line_color\":{\"field\":\"line_color\"},\"width\":{\"field\":\"width\",\"units\":\"data\"},\"x\":{\"field\":\"x\"},\"y\":{\"field\":\"y\"}},\"id\":\"28a25dfd-4fd3-4b80-b57d-32cb4b583952\",\"type\":\"Rect\"},{\"attributes\":{\"plot\":{\"id\":\"92cca4d9-8e1d-497b-8c50-8ceb3214137e\",\"subtype\":\"Chart\",\"type\":\"Plot\"}},\"id\":\"a16dd190-fa3b-4e54-a58f-27fbc1e1b135\",\"type\":\"HelpTool\"},{\"attributes\":{\"fill_alpha\":{\"field\":\"fill_alpha\"},\"fill_color\":{\"field\":\"color\"},\"height\":{\"field\":\"height\",\"units\":\"data\"},\"line_color\":{\"field\":\"line_color\"},\"width\":{\"field\":\"width\",\"units\":\"data\"},\"x\":{\"field\":\"x\"},\"y\":{\"field\":\"y\"}},\"id\":\"fce0be06-eb2a-467b-9d8f-f014b16c64d9\",\"type\":\"Rect\"},{\"attributes\":{\"data_source\":{\"id\":\"166af1c3-b099-40d2-9568-095bc92628af\",\"type\":\"ColumnDataSource\"},\"glyph\":{\"id\":\"50d1a6ec-4e09-46da-b7bf-e20f998342ba\",\"type\":\"Rect\"},\"hover_glyph\":null,\"nonselection_glyph\":null,\"selection_glyph\":null},\"id\":\"0e628e5f-212f-4a49-8539-4e7ee7247fb8\",\"type\":\"GlyphRenderer\"},{\"attributes\":{\"data_source\":{\"id\":\"b6aee6ef-9ba2-45e5-b8e3-7eb94248fcfc\",\"type\":\"ColumnDataSource\"},\"glyph\":{\"id\":\"48011aac-b9e6-4276-9c6e-2ccab61f06ee\",\"type\":\"Rect\"},\"hover_glyph\":null,\"nonselection_glyph\":null,\"selection_glyph\":null},\"id\":\"f0cf1d8c-ba18-4fcf-9136-12df2b4f7b38\",\"type\":\"GlyphRenderer\"},{\"attributes\":{\"fill_alpha\":{\"field\":\"fill_alpha\"},\"fill_color\":{\"field\":\"color\"},\"height\":{\"field\":\"height\",\"units\":\"data\"},\"line_color\":{\"field\":\"line_color\"},\"width\":{\"field\":\"width\",\"units\":\"data\"},\"x\":{\"field\":\"x\"},\"y\":{\"field\":\"y\"}},\"id\":\"a27cdf67-024d-48bf-9b0a-2d4a32089c18\",\"type\":\"Rect\"},{\"attributes\":{\"data_source\":{\"id\":\"bfc24aac-b08c-4dce-86aa-bf7d01ba6c6b\",\"type\":\"ColumnDataSource\"},\"glyph\":{\"id\":\"251106b8-43d8-49d0-9991-fc6b1293a1f2\",\"type\":\"Rect\"},\"hover_glyph\":null,\"nonselection_glyph\":null,\"selection_glyph\":null},\"id\":\"481e5848-7c69-4399-bcba-1e7cd3d506b3\",\"type\":\"GlyphRenderer\"},{\"attributes\":{\"fill_alpha\":{\"field\":\"fill_alpha\"},\"fill_color\":{\"field\":\"color\"},\"height\":{\"field\":\"height\",\"units\":\"data\"},\"line_color\":{\"field\":\"line_color\"},\"width\":{\"field\":\"width\",\"units\":\"data\"},\"x\":{\"field\":\"x\"},\"y\":{\"field\":\"y\"}},\"id\":\"251106b8-43d8-49d0-9991-fc6b1293a1f2\",\"type\":\"Rect\"},{\"attributes\":{\"bottom_units\":\"screen\",\"fill_alpha\":{\"value\":0.5},\"fill_color\":{\"value\":\"lightgrey\"},\"left_units\":\"screen\",\"level\":\"overlay\",\"line_alpha\":{\"value\":1.0},\"line_color\":{\"value\":\"black\"},\"line_dash\":[4,4],\"line_width\":{\"value\":2},\"plot\":null,\"render_mode\":\"css\",\"right_units\":\"screen\",\"top_units\":\"screen\"},\"id\":\"8d431b11-d5ae-4d26-9d32-28cef3d5644b\",\"type\":\"BoxAnnotation\"},{\"attributes\":{\"callback\":null,\"column_names\":[\"height\",\"y\",\"line_alpha\",\"line_color\",\"width\",\"fill_alpha\",\"x\",\"label\",\"color\"],\"data\":{\"Team\":[\"Team Europe\"],\"caps\":[\"Number of Assistant Captains\"],\"chart_index\":[{\"Team\":\"Team Europe\",\"caps\":\"Number of Assistant Captains\"}],\"color\":[\"Orange\"],\"fill_alpha\":[0.8],\"height\":[2.0],\"label\":[{\"Team\":\"Team Europe\",\"caps\":\"Number of Assistant Captains\"}],\"line_alpha\":[1.0],\"line_color\":[\"white\"],\"width\":[0.8],\"x\":[\"Team Europe\"],\"y\":[1.0]}},\"id\":\"b6aee6ef-9ba2-45e5-b8e3-7eb94248fcfc\",\"type\":\"ColumnDataSource\"},{\"attributes\":{\"plot\":null,\"text\":\"2016 World Cup of Hockey NHL Captains\"},\"id\":\"7b863bbb-e97d-4772-b6b3-215913f0de15\",\"type\":\"Title\"},{\"attributes\":{\"axis_label\":\"Sum( Number Of Captains )\",\"formatter\":{\"id\":\"22142b46-806d-492a-9dbf-85da47a1857f\",\"type\":\"BasicTickFormatter\"},\"plot\":{\"id\":\"92cca4d9-8e1d-497b-8c50-8ceb3214137e\",\"subtype\":\"Chart\",\"type\":\"Plot\"},\"ticker\":{\"id\":\"d25e310f-90a3-44cc-901c-3134914dcda5\",\"type\":\"BasicTicker\"}},\"id\":\"f1c8607f-0799-4d84-8326-65d3ba238457\",\"type\":\"LinearAxis\"},{\"attributes\":{\"active_drag\":\"auto\",\"active_scroll\":\"auto\",\"active_tap\":\"auto\",\"tools\":[{\"id\":\"c95b7350-e37a-43f7-8a8b-6e7177761b03\",\"type\":\"PanTool\"},{\"id\":\"b991d7ce-6949-448b-8a49-47c5575bf071\",\"type\":\"WheelZoomTool\"},{\"id\":\"0fc9c975-90c4-4738-96c2-e4accb284f94\",\"type\":\"BoxZoomTool\"},{\"id\":\"1717fa3d-e54a-464d-ba1b-ccc771867346\",\"type\":\"SaveTool\"},{\"id\":\"64569d78-98a0-453a-93bb-ba6119b5a6d9\",\"type\":\"ResetTool\"},{\"id\":\"a16dd190-fa3b-4e54-a58f-27fbc1e1b135\",\"type\":\"HelpTool\"}]},\"id\":\"e1ad69a5-1b6a-4cd2-9d70-4dec2057f92f\",\"type\":\"Toolbar\"},{\"attributes\":{\"data_source\":{\"id\":\"2c15a378-614a-417a-8f19-c80c366710f5\",\"type\":\"ColumnDataSource\"},\"glyph\":{\"id\":\"0ae9cc4b-e80b-423a-9170-7d95c863dcae\",\"type\":\"Rect\"},\"hover_glyph\":null,\"nonselection_glyph\":null,\"selection_glyph\":null},\"id\":\"70f5d3cf-0f02-493d-a6f6-8ff98d7a2e11\",\"type\":\"GlyphRenderer\"},{\"attributes\":{\"callback\":null,\"column_names\":[\"height\",\"y\",\"line_alpha\",\"line_color\",\"width\",\"fill_alpha\",\"x\",\"label\",\"color\"],\"data\":{\"Team\":[\"Russia\"],\"caps\":[\"Number of Assistant Captains\"],\"chart_index\":[{\"Team\":\"Russia\",\"caps\":\"Number of Assistant Captains\"}],\"color\":[\"Orange\"],\"fill_alpha\":[0.8],\"height\":[2.0],\"label\":[{\"Team\":\"Russia\",\"caps\":\"Number of Assistant Captains\"}],\"line_alpha\":[1.0],\"line_color\":[\"white\"],\"width\":[0.8],\"x\":[\"Russia\"],\"y\":[2.0]}},\"id\":\"0f7b491a-53ad-4b73-b3bd-edcdd75a1c6d\",\"type\":\"ColumnDataSource\"},{\"attributes\":{\"fill_alpha\":{\"field\":\"fill_alpha\"},\"fill_color\":{\"field\":\"color\"},\"height\":{\"field\":\"height\",\"units\":\"data\"},\"line_color\":{\"field\":\"line_color\"},\"width\":{\"field\":\"width\",\"units\":\"data\"},\"x\":{\"field\":\"x\"},\"y\":{\"field\":\"y\"}},\"id\":\"b6305333-456f-46b9-a697-f8af3399af70\",\"type\":\"Rect\"},{\"attributes\":{\"callback\":null,\"column_names\":[\"height\",\"y\",\"line_alpha\",\"line_color\",\"width\",\"fill_alpha\",\"x\",\"label\",\"color\"],\"data\":{\"Team\":[\"Russia\"],\"caps\":[\"Number of Captains\"],\"chart_index\":[{\"Team\":\"Russia\",\"caps\":\"Number of Captains\"}],\"color\":[\"OrangeRed\"],\"fill_alpha\":[0.8],\"height\":[1.0],\"label\":[{\"Team\":\"Russia\",\"caps\":\"Number of Captains\"}],\"line_alpha\":[1.0],\"line_color\":[\"white\"],\"width\":[0.8],\"x\":[\"Russia\"],\"y\":[0.5]}},\"id\":\"b73210c8-18d5-418e-81b5-1f2fa53cbbba\",\"type\":\"ColumnDataSource\"},{\"attributes\":{\"legends\":[[\"Number of Captains\",[{\"id\":\"2a09d13b-7880-4cc0-b0f1-18d36dc835b9\",\"type\":\"GlyphRenderer\"}]],[\"Number of Assistant Captains\",[{\"id\":\"f8531353-40bc-4975-82fb-95e67bc5c354\",\"type\":\"GlyphRenderer\"}]]],\"plot\":{\"id\":\"92cca4d9-8e1d-497b-8c50-8ceb3214137e\",\"subtype\":\"Chart\",\"type\":\"Plot\"}},\"id\":\"abb006e7-1981-44f9-9c4d-9ea862563ef6\",\"type\":\"Legend\"},{\"attributes\":{\"data_source\":{\"id\":\"0f7b491a-53ad-4b73-b3bd-edcdd75a1c6d\",\"type\":\"ColumnDataSource\"},\"glyph\":{\"id\":\"778a7f11-8599-44c9-95c8-432b949c11db\",\"type\":\"Rect\"},\"hover_glyph\":null,\"nonselection_glyph\":null,\"selection_glyph\":null},\"id\":\"9366a4c3-fc52-4826-b989-8d7e0efc652c\",\"type\":\"GlyphRenderer\"},{\"attributes\":{\"callback\":null,\"column_names\":[\"height\",\"y\",\"line_alpha\",\"line_color\",\"width\",\"fill_alpha\",\"x\",\"label\",\"color\"],\"data\":{\"Team\":[\"Team North America\"],\"caps\":[\"Number of Captains\"],\"chart_index\":[{\"Team\":\"Team North America\",\"caps\":\"Number of Captains\"}],\"color\":[\"OrangeRed\"],\"fill_alpha\":[0.8],\"height\":[0.0],\"label\":[{\"Team\":\"Team North America\",\"caps\":\"Number of Captains\"}],\"line_alpha\":[1.0],\"line_color\":[\"white\"],\"width\":[0.8],\"x\":[\"Team North America\"],\"y\":[0.0]}},\"id\":\"bfc24aac-b08c-4dce-86aa-bf7d01ba6c6b\",\"type\":\"ColumnDataSource\"},{\"attributes\":{\"data_source\":{\"id\":\"fe268332-d785-44cb-a6e0-d08fea10b555\",\"type\":\"ColumnDataSource\"},\"glyph\":{\"id\":\"14e0ed39-a0b1-4e6c-9802-2adfd24a29bd\",\"type\":\"Rect\"},\"hover_glyph\":null,\"nonselection_glyph\":null,\"selection_glyph\":null},\"id\":\"7fee74d9-dd9b-4ded-9ee8-912c84368e35\",\"type\":\"GlyphRenderer\"},{\"attributes\":{\"plot\":{\"id\":\"92cca4d9-8e1d-497b-8c50-8ceb3214137e\",\"subtype\":\"Chart\",\"type\":\"Plot\"}},\"id\":\"1717fa3d-e54a-464d-ba1b-ccc771867346\",\"type\":\"SaveTool\"},{\"attributes\":{\"plot\":{\"id\":\"92cca4d9-8e1d-497b-8c50-8ceb3214137e\",\"subtype\":\"Chart\",\"type\":\"Plot\"}},\"id\":\"c95b7350-e37a-43f7-8a8b-6e7177761b03\",\"type\":\"PanTool\"},{\"attributes\":{\"callback\":null,\"column_names\":[\"height\",\"y\",\"line_alpha\",\"line_color\",\"width\",\"fill_alpha\",\"x\",\"label\",\"color\"],\"data\":{\"Team\":[\"Team North America\"],\"caps\":[\"Number of Assistant Captains\"],\"chart_index\":[{\"Team\":\"Team North America\",\"caps\":\"Number of Assistant Captains\"}],\"color\":[\"Orange\"],\"fill_alpha\":[0.8],\"height\":[2.0],\"label\":[{\"Team\":\"Team North America\",\"caps\":\"Number of Assistant Captains\"}],\"line_alpha\":[1.0],\"line_color\":[\"white\"],\"width\":[0.8],\"x\":[\"Team North America\"],\"y\":[1.0]}},\"id\":\"2c15a378-614a-417a-8f19-c80c366710f5\",\"type\":\"ColumnDataSource\"},{\"attributes\":{\"callback\":null,\"column_names\":[\"height\",\"y\",\"line_alpha\",\"line_color\",\"width\",\"fill_alpha\",\"x\",\"label\",\"color\"],\"data\":{\"Team\":[\"Finland\"],\"caps\":[\"Number of Assistant Captains\"],\"chart_index\":[{\"Team\":\"Finland\",\"caps\":\"Number of Assistant Captains\"}],\"color\":[\"Orange\"],\"fill_alpha\":[0.8],\"height\":[1.0],\"label\":[{\"Team\":\"Finland\",\"caps\":\"Number of Assistant Captains\"}],\"line_alpha\":[1.0],\"line_color\":[\"white\"],\"width\":[0.8],\"x\":[\"Finland\"],\"y\":[1.5]}},\"id\":\"6c5294f0-9966-481b-ba17-161f73f6ee3d\",\"type\":\"ColumnDataSource\"},{\"attributes\":{\"fill_alpha\":{\"field\":\"fill_alpha\"},\"fill_color\":{\"field\":\"color\"},\"height\":{\"field\":\"height\",\"units\":\"data\"},\"line_color\":{\"field\":\"line_color\"},\"width\":{\"field\":\"width\",\"units\":\"data\"},\"x\":{\"field\":\"x\"},\"y\":{\"field\":\"y\"}},\"id\":\"e96b6486-5db4-479e-b35e-53b89e3c3bb2\",\"type\":\"Rect\"},{\"attributes\":{\"fill_alpha\":{\"field\":\"fill_alpha\"},\"fill_color\":{\"field\":\"color\"},\"height\":{\"field\":\"height\",\"units\":\"data\"},\"line_color\":{\"field\":\"line_color\"},\"width\":{\"field\":\"width\",\"units\":\"data\"},\"x\":{\"field\":\"x\"},\"y\":{\"field\":\"y\"}},\"id\":\"357d7712-bee8-4e1c-a5b6-1d6902402a81\",\"type\":\"Rect\"},{\"attributes\":{\"data_source\":{\"id\":\"d5574055-cdde-4b3f-88d2-332b17ccae91\",\"type\":\"ColumnDataSource\"},\"glyph\":{\"id\":\"09718bb3-924d-48cd-b6e9-041a8a123559\",\"type\":\"Rect\"},\"hover_glyph\":null,\"nonselection_glyph\":null,\"selection_glyph\":null},\"id\":\"79d59112-1998-4621-8f61-770f1727133f\",\"type\":\"GlyphRenderer\"},{\"attributes\":{\"axis_label\":\"Team\",\"formatter\":{\"id\":\"b9b86c35-8bbf-4e57-8460-02e7533b16ac\",\"type\":\"CategoricalTickFormatter\"},\"major_label_orientation\":0.7853981633974483,\"plot\":{\"id\":\"92cca4d9-8e1d-497b-8c50-8ceb3214137e\",\"subtype\":\"Chart\",\"type\":\"Plot\"},\"ticker\":{\"id\":\"25802728-fb88-4ab5-8ca2-f2a95ebfeef3\",\"type\":\"CategoricalTicker\"}},\"id\":\"a7bade71-aa66-47bd-877b-5b131619ccf3\",\"type\":\"CategoricalAxis\"},{\"attributes\":{\"callback\":null,\"column_names\":[\"height\",\"y\",\"line_alpha\",\"line_color\",\"width\",\"fill_alpha\",\"x\",\"label\",\"color\"],\"data\":{\"Team\":[\"Finland\"],\"caps\":[\"Number of Captains\"],\"chart_index\":[{\"Team\":\"Finland\",\"caps\":\"Number of Captains\"}],\"color\":[\"OrangeRed\"],\"fill_alpha\":[0.8],\"height\":[1.0],\"label\":[{\"Team\":\"Finland\",\"caps\":\"Number of Captains\"}],\"line_alpha\":[1.0],\"line_color\":[\"white\"],\"width\":[0.8],\"x\":[\"Finland\"],\"y\":[0.5]}},\"id\":\"affafe67-e8e1-4958-a3e4-af7877d8cf0d\",\"type\":\"ColumnDataSource\"},{\"attributes\":{},\"id\":\"22142b46-806d-492a-9dbf-85da47a1857f\",\"type\":\"BasicTickFormatter\"},{\"attributes\":{\"data_source\":{\"id\":\"affafe67-e8e1-4958-a3e4-af7877d8cf0d\",\"type\":\"ColumnDataSource\"},\"glyph\":{\"id\":\"039f29b0-bbd5-4438-9a99-79e1177babe2\",\"type\":\"Rect\"},\"hover_glyph\":null,\"nonselection_glyph\":null,\"selection_glyph\":null},\"id\":\"d8a801ae-b61b-43b4-b508-8ad781793afe\",\"type\":\"GlyphRenderer\"},{\"attributes\":{},\"id\":\"5b99e4e7-a42f-42b5-b26d-b0dbc051d6a0\",\"type\":\"ToolEvents\"},{\"attributes\":{\"plot\":{\"id\":\"92cca4d9-8e1d-497b-8c50-8ceb3214137e\",\"subtype\":\"Chart\",\"type\":\"Plot\"}},\"id\":\"64569d78-98a0-453a-93bb-ba6119b5a6d9\",\"type\":\"ResetTool\"},{\"attributes\":{\"data_source\":{\"id\":\"a86dca4f-7d33-4661-a055-6d84c8595c85\",\"type\":\"ColumnDataSource\"},\"glyph\":{\"id\":\"e96b6486-5db4-479e-b35e-53b89e3c3bb2\",\"type\":\"Rect\"},\"hover_glyph\":null,\"nonselection_glyph\":null,\"selection_glyph\":null},\"id\":\"f8531353-40bc-4975-82fb-95e67bc5c354\",\"type\":\"GlyphRenderer\"},{\"attributes\":{\"fill_alpha\":{\"field\":\"fill_alpha\"},\"fill_color\":{\"field\":\"color\"},\"height\":{\"field\":\"height\",\"units\":\"data\"},\"line_color\":{\"field\":\"line_color\"},\"width\":{\"field\":\"width\",\"units\":\"data\"},\"x\":{\"field\":\"x\"},\"y\":{\"field\":\"y\"}},\"id\":\"50d1a6ec-4e09-46da-b7bf-e20f998342ba\",\"type\":\"Rect\"},{\"attributes\":{\"callback\":null,\"column_names\":[\"height\",\"y\",\"line_alpha\",\"line_color\",\"width\",\"fill_alpha\",\"x\",\"label\",\"color\"],\"data\":{\"Team\":[\"Sweden\"],\"caps\":[\"Number of Captains\"],\"chart_index\":[{\"Team\":\"Sweden\",\"caps\":\"Number of Captains\"}],\"color\":[\"OrangeRed\"],\"fill_alpha\":[0.8],\"height\":[3.0],\"label\":[{\"Team\":\"Sweden\",\"caps\":\"Number of Captains\"}],\"line_alpha\":[1.0],\"line_color\":[\"white\"],\"width\":[0.8],\"x\":[\"Sweden\"],\"y\":[1.5]}},\"id\":\"fe268332-d785-44cb-a6e0-d08fea10b555\",\"type\":\"ColumnDataSource\"},{\"attributes\":{\"fill_alpha\":{\"field\":\"fill_alpha\"},\"fill_color\":{\"field\":\"color\"},\"height\":{\"field\":\"height\",\"units\":\"data\"},\"line_color\":{\"field\":\"line_color\"},\"width\":{\"field\":\"width\",\"units\":\"data\"},\"x\":{\"field\":\"x\"},\"y\":{\"field\":\"y\"}},\"id\":\"039f29b0-bbd5-4438-9a99-79e1177babe2\",\"type\":\"Rect\"},{\"attributes\":{\"fill_alpha\":{\"field\":\"fill_alpha\"},\"fill_color\":{\"field\":\"color\"},\"height\":{\"field\":\"height\",\"units\":\"data\"},\"line_color\":{\"field\":\"line_color\"},\"width\":{\"field\":\"width\",\"units\":\"data\"},\"x\":{\"field\":\"x\"},\"y\":{\"field\":\"y\"}},\"id\":\"48011aac-b9e6-4276-9c6e-2ccab61f06ee\",\"type\":\"Rect\"},{\"attributes\":{\"callback\":null,\"column_names\":[\"height\",\"y\",\"line_alpha\",\"line_color\",\"width\",\"fill_alpha\",\"x\",\"label\",\"color\"],\"data\":{\"Team\":[\"Canada\"],\"caps\":[\"Number of Captains\"],\"chart_index\":[{\"Team\":\"Canada\",\"caps\":\"Number of Captains\"}],\"color\":[\"OrangeRed\"],\"fill_alpha\":[0.8],\"height\":[7.0],\"label\":[{\"Team\":\"Canada\",\"caps\":\"Number of Captains\"}],\"line_alpha\":[1.0],\"line_color\":[\"white\"],\"width\":[0.8],\"x\":[\"Canada\"],\"y\":[3.5]}},\"id\":\"2d8cf77e-31a9-4292-af97-d3daeb635ecc\",\"type\":\"ColumnDataSource\"},{\"attributes\":{\"data_source\":{\"id\":\"a0c1e488-fb31-404c-8daf-598ffbdde81f\",\"type\":\"ColumnDataSource\"},\"glyph\":{\"id\":\"b6305333-456f-46b9-a697-f8af3399af70\",\"type\":\"Rect\"},\"hover_glyph\":null,\"nonselection_glyph\":null,\"selection_glyph\":null},\"id\":\"67ecc4ee-14bc-4f04-aee4-899972222b61\",\"type\":\"GlyphRenderer\"},{\"attributes\":{\"callback\":null,\"column_names\":[\"height\",\"y\",\"line_alpha\",\"line_color\",\"width\",\"fill_alpha\",\"x\",\"label\",\"color\"],\"data\":{\"Team\":[\"Team Europe\"],\"caps\":[\"Number of Captains\"],\"chart_index\":[{\"Team\":\"Team Europe\",\"caps\":\"Number of Captains\"}],\"color\":[\"OrangeRed\"],\"fill_alpha\":[0.8],\"height\":[0.0],\"label\":[{\"Team\":\"Team Europe\",\"caps\":\"Number of Captains\"}],\"line_alpha\":[1.0],\"line_color\":[\"white\"],\"width\":[0.8],\"x\":[\"Team Europe\"],\"y\":[0.0]}},\"id\":\"e4c55aa5-a609-488a-8d95-1bb560d99aae\",\"type\":\"ColumnDataSource\"},{\"attributes\":{\"callback\":null,\"column_names\":[\"height\",\"y\",\"line_alpha\",\"line_color\",\"width\",\"fill_alpha\",\"x\",\"label\",\"color\"],\"data\":{\"Team\":[\"United States\"],\"caps\":[\"Number of Assistant Captains\"],\"chart_index\":[{\"Team\":\"United States\",\"caps\":\"Number of Assistant Captains\"}],\"color\":[\"Orange\"],\"fill_alpha\":[0.8],\"height\":[6.0],\"label\":[{\"Team\":\"United States\",\"caps\":\"Number of Assistant Captains\"}],\"line_alpha\":[1.0],\"line_color\":[\"white\"],\"width\":[0.8],\"x\":[\"United States\"],\"y\":[7.0]}},\"id\":\"722f7076-0852-4b16-a866-53aec36b9bcf\",\"type\":\"ColumnDataSource\"},{\"attributes\":{\"dimension\":1,\"plot\":{\"id\":\"92cca4d9-8e1d-497b-8c50-8ceb3214137e\",\"subtype\":\"Chart\",\"type\":\"Plot\"},\"ticker\":{\"id\":\"d25e310f-90a3-44cc-901c-3134914dcda5\",\"type\":\"BasicTicker\"}},\"id\":\"3c3f2428-5638-49a6-81a1-e7287b5801c8\",\"type\":\"Grid\"},{\"attributes\":{},\"id\":\"b9b86c35-8bbf-4e57-8460-02e7533b16ac\",\"type\":\"CategoricalTickFormatter\"},{\"attributes\":{\"callback\":null,\"column_names\":[\"height\",\"y\",\"line_alpha\",\"line_color\",\"width\",\"fill_alpha\",\"x\",\"label\",\"color\"],\"data\":{\"Team\":[\"Canada\"],\"caps\":[\"Number of Assistant Captains\"],\"chart_index\":[{\"Team\":\"Canada\",\"caps\":\"Number of Assistant Captains\"}],\"color\":[\"Orange\"],\"fill_alpha\":[0.8],\"height\":[6.0],\"label\":[{\"Team\":\"Canada\",\"caps\":\"Number of Assistant Captains\"}],\"line_alpha\":[1.0],\"line_color\":[\"white\"],\"width\":[0.8],\"x\":[\"Canada\"],\"y\":[10.0]}},\"id\":\"a86dca4f-7d33-4661-a055-6d84c8595c85\",\"type\":\"ColumnDataSource\"},{\"attributes\":{\"fill_alpha\":{\"field\":\"fill_alpha\"},\"fill_color\":{\"field\":\"color\"},\"height\":{\"field\":\"height\",\"units\":\"data\"},\"line_color\":{\"field\":\"line_color\"},\"width\":{\"field\":\"width\",\"units\":\"data\"},\"x\":{\"field\":\"x\"},\"y\":{\"field\":\"y\"}},\"id\":\"0dc3b804-1f09-4ed0-a52d-cf069e9072e4\",\"type\":\"Rect\"},{\"attributes\":{\"data_source\":{\"id\":\"b73210c8-18d5-418e-81b5-1f2fa53cbbba\",\"type\":\"ColumnDataSource\"},\"glyph\":{\"id\":\"28a25dfd-4fd3-4b80-b57d-32cb4b583952\",\"type\":\"Rect\"},\"hover_glyph\":null,\"nonselection_glyph\":null,\"selection_glyph\":null},\"id\":\"ba465df3-0fd8-4a0e-96e5-46e15790987a\",\"type\":\"GlyphRenderer\"},{\"attributes\":{\"callback\":null,\"column_names\":[\"height\",\"y\",\"line_alpha\",\"line_color\",\"width\",\"fill_alpha\",\"x\",\"label\",\"color\"],\"data\":{\"Team\":[\"Sweden\"],\"caps\":[\"Number of Assistant Captains\"],\"chart_index\":[{\"Team\":\"Sweden\",\"caps\":\"Number of Assistant Captains\"}],\"color\":[\"Orange\"],\"fill_alpha\":[0.8],\"height\":[2.0],\"label\":[{\"Team\":\"Sweden\",\"caps\":\"Number of Assistant Captains\"}],\"line_alpha\":[1.0],\"line_color\":[\"white\"],\"width\":[0.8],\"x\":[\"Sweden\"],\"y\":[4.0]}},\"id\":\"166af1c3-b099-40d2-9568-095bc92628af\",\"type\":\"ColumnDataSource\"},{\"attributes\":{\"data_source\":{\"id\":\"e4c55aa5-a609-488a-8d95-1bb560d99aae\",\"type\":\"ColumnDataSource\"},\"glyph\":{\"id\":\"c51ad85f-cbc4-4235-afd4-1e9506ddc435\",\"type\":\"Rect\"},\"hover_glyph\":null,\"nonselection_glyph\":null,\"selection_glyph\":null},\"id\":\"48b8c46b-59a0-46b7-b447-6ea8042298cf\",\"type\":\"GlyphRenderer\"}],\"root_ids\":[\"92cca4d9-8e1d-497b-8c50-8ceb3214137e\"]},\"title\":\"Bokeh Application\",\"version\":\"0.12.1\"}};\n",
       "            var render_items = [{\"docid\":\"c56691f6-837d-4755-9d2d-b6247eb298fb\",\"elementid\":\"b30ed31d-a695-4e2e-bd9c-8cda361c04be\",\"modelid\":\"92cca4d9-8e1d-497b-8c50-8ceb3214137e\",\"notebook_comms_target\":\"0d14f84e-328a-4474-91bc-06e230b870f0\"}];\n",
       "            \n",
       "            Bokeh.embed.embed_items(docs_json, render_items);\n",
       "        });\n",
       "      },\n",
       "      function(Bokeh) {\n",
       "      }\n",
       "    ];\n",
       "  \n",
       "    function run_inline_js() {\n",
       "      for (var i = 0; i < inline_js.length; i++) {\n",
       "        inline_js[i](window.Bokeh);\n",
       "      }\n",
       "    }\n",
       "  \n",
       "    if (window._bokeh_is_loading === 0) {\n",
       "      console.log(\"Bokeh: BokehJS loaded, going straight to plotting\");\n",
       "      run_inline_js();\n",
       "    } else {\n",
       "      load_libs(js_urls, function() {\n",
       "        console.log(\"Bokeh: BokehJS plotting callback run at\", now());\n",
       "        run_inline_js();\n",
       "      });\n",
       "    }\n",
       "  }(this));\n",
       "</script>"
      ]
     },
     "metadata": {},
     "output_type": "display_data"
    },
    {
     "data": {
      "text/html": [
       "<p><code>&lt;Bokeh Notebook handle for <strong>In[147]</strong>&gt;</code></p>"
      ],
      "text/plain": [
       "<bokeh.io._CommsHandle at 0x21b2b5aeba8>"
      ]
     },
     "execution_count": 147,
     "metadata": {},
     "output_type": "execute_result"
    }
   ],
   "source": [
    "bar = Bar(df,\n",
    "          values=blend('Number of Captains', 'Number of Assistant Captains',\n",
    "                       name='Number of Captains', labels_name='caps'),\n",
    "          stack=cat(columns='caps', sort=False),\n",
    "          label=cat(columns='Team', sort=False),\n",
    "          color=color(columns='caps', palette=['OrangeRed', 'Orange'], sort=False),\n",
    "          title='2016 World Cup of Hockey NHL Captains',\n",
    "          legend='top_right')#, plot_width=1000, plot_height=1000)\n",
    "#           tools='hover')\n",
    "\n",
    "# hover = bar.select(dict(type=HoverTool))\n",
    "# hover.tooltips = [('Number' ,'@x')]\n",
    "show(bar)"
   ]
  },
  {
   "cell_type": "code",
   "execution_count": null,
   "metadata": {
    "collapsed": true
   },
   "outputs": [],
   "source": []
  }
 ],
 "metadata": {
  "kernelspec": {
   "display_name": "Python 3",
   "language": "python",
   "name": "python3"
  },
  "language_info": {
   "codemirror_mode": {
    "name": "ipython",
    "version": 3
   },
   "file_extension": ".py",
   "mimetype": "text/x-python",
   "name": "python",
   "nbconvert_exporter": "python",
   "pygments_lexer": "ipython3",
   "version": "3.5.1"
  }
 },
 "nbformat": 4,
 "nbformat_minor": 0
}
