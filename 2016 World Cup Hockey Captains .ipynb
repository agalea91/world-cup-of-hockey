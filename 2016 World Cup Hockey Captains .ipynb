{
 "cells": [
  {
   "cell_type": "code",
   "execution_count": 1,
   "metadata": {
    "collapsed": false
   },
   "outputs": [],
   "source": [
    "import sys\n",
    "sys.path.append('C:\\Anaconda3\\Lib\\site-packages')\n",
    "\n",
    "#import warnings\n",
    "#warnings.filterwarnings('ignore')"
   ]
  },
  {
   "cell_type": "markdown",
   "metadata": {},
   "source": [
    "Getting the current NHL captains (including assistants) for each team."
   ]
  },
  {
   "cell_type": "code",
   "execution_count": 2,
   "metadata": {
    "collapsed": false
   },
   "outputs": [
    {
     "name": "stderr",
     "output_type": "stream",
     "text": [
      "C:\\Anaconda3\\Lib\\site-packages\\pandas\\computation\\__init__.py:19: UserWarning: The installed version of numexpr 2.4.4 is not supported in pandas and will be not be used\n",
      "\n",
      "  UserWarning)\n"
     ]
    }
   ],
   "source": [
    "import matplotlib.pyplot as plt\n",
    "import numpy as np\n",
    "import pandas as pd\n",
    "import requests\n",
    "from bs4 import BeautifulSoup"
   ]
  },
  {
   "cell_type": "markdown",
   "metadata": {},
   "source": [
    "### Scrape data from wiki-pages"
   ]
  },
  {
   "cell_type": "code",
   "execution_count": 3,
   "metadata": {
    "collapsed": false
   },
   "outputs": [
    {
     "name": "stdout",
     "output_type": "stream",
     "text": [
      "Got <class 'requests.models.Response'> type object of url using the requests library\n"
     ]
    }
   ],
   "source": [
    "url = 'https://en.wikipedia.org/wiki/List_of_current_NHL_captains_and_alternate_captains'\n",
    "page = requests.get(url)\n",
    "print('Got %s type object of url using the requests library' % str(type(page)))"
   ]
  },
  {
   "cell_type": "code",
   "execution_count": 5,
   "metadata": {
    "collapsed": false
   },
   "outputs": [
    {
     "name": "stdout",
     "output_type": "stream",
     "text": [
      "Fed <class 'bytes'> type object into BeautifulSoup to create a <class 'bs4.BeautifulSoup'> type object\n"
     ]
    }
   ],
   "source": [
    "soup = BeautifulSoup(page.content, 'html.parser')\n",
    "print('Fed %s type object into BeautifulSoup to create a %s type object' % (str(type(page.content)), str(type(soup))))"
   ]
  },
  {
   "cell_type": "code",
   "execution_count": 6,
   "metadata": {
    "collapsed": false
   },
   "outputs": [
    {
     "name": "stdout",
     "output_type": "stream",
     "text": [
      "Got <class 'bs4.element.ResultSet'> type object of length 11\n"
     ]
    }
   ],
   "source": [
    "page_tables = soup.findAll('table')\n",
    "print('Got %s type object of length %d' % (str(type(page_tables)), len(page_tables)))"
   ]
  },
  {
   "cell_type": "markdown",
   "metadata": {},
   "source": [
    "Each table is an object and they can be iterated over."
   ]
  },
  {
   "cell_type": "code",
   "execution_count": 7,
   "metadata": {
    "collapsed": false
   },
   "outputs": [
    {
     "name": "stdout",
     "output_type": "stream",
     "text": [
      "<caption>Position abbreviations</caption>\n",
      "<caption>List of current NHL Captains</caption>\n",
      "<caption>List of current NHL Alternate Captains</caption>\n",
      "None\n",
      "None\n",
      "None\n",
      "None\n",
      "None\n",
      "None\n",
      "None\n",
      "None\n"
     ]
    }
   ],
   "source": [
    "for table in page_tables:\n",
    "    print(table.find('caption'))"
   ]
  },
  {
   "cell_type": "code",
   "execution_count": 8,
   "metadata": {
    "collapsed": false
   },
   "outputs": [
    {
     "name": "stdout",
     "output_type": "stream",
     "text": [
      "Skipping entry: ['\\n', <p><i>Vacant</i></p>, '\\n']\n",
      "Skipping entry: ['\\n', <p><i>Vacant</i></p>, '\\n']\n",
      "Skipping entry: ['\\n', <p><i>Vacant</i></p>, '\\n']\n",
      "Skipping entry: ['\\n', <p><i>Vacant</i></p>, '\\n']\n"
     ]
    },
    {
     "data": {
      "text/plain": [
       "['Ryan Getzlaf',\n",
       " 'Shane Doan',\n",
       " 'Zdeno Chara',\n",
       " 'Brian Gionta',\n",
       " 'Mark Giordano',\n",
       " 'Jonathan Toews',\n",
       " 'Gabriel Landeskog',\n",
       " 'Nick Foligno',\n",
       " 'Jamie Benn',\n",
       " 'Henrik Zetterberg',\n",
       " 'Anze Kopitar',\n",
       " 'Mikko Koivu',\n",
       " 'Max Pacioretty',\n",
       " 'Mike Fisher',\n",
       " 'Andy Greene',\n",
       " 'John Tavares',\n",
       " 'Ryan McDonagh',\n",
       " 'Erik Karlsson',\n",
       " 'Claude Giroux',\n",
       " 'Sidney Crosby',\n",
       " 'Alex Pietrangelo',\n",
       " 'Joe Pavelski',\n",
       " 'Steven Stamkos',\n",
       " 'Henrik Sedin',\n",
       " 'Alexander Ovechkin',\n",
       " 'Blake Wheeler']"
      ]
     },
     "execution_count": 8,
     "metadata": {},
     "output_type": "execute_result"
    }
   ],
   "source": [
    "# Get the captains\n",
    "C_players = []\n",
    "for i, n in enumerate(page_tables[1].findAll('td')):\n",
    "    if i % 3 == 0:\n",
    "        try:\n",
    "            C_players.append(n.findAll('a')[0].text)\n",
    "        except:\n",
    "            # N/A entry\n",
    "            print('Skipping entry:', n.contents)\n",
    "        \n",
    "C_players"
   ]
  },
  {
   "cell_type": "code",
   "execution_count": 11,
   "metadata": {
    "collapsed": false
   },
   "outputs": [
    {
     "name": "stdout",
     "output_type": "stream",
     "text": [
      "Skipping entry: [<i>Vacant</i>]\n",
      "Skipping entry: ['rotating', <sup class=\"reference\" id=\"cite_ref-Rotating_63-0\"><a href=\"#cite_note-Rotating-63\">[a]</a></sup>, <sup class=\"reference\" id=\"cite_ref-blues_64-0\"><a href=\"#cite_note-blues-64\">[63]</a></sup>]\n",
      "Skipping entry: ['rotating', <sup class=\"reference\" id=\"cite_ref-Rotating_63-1\"><a href=\"#cite_note-Rotating-63\">[a]</a></sup>]\n"
     ]
    },
    {
     "data": {
      "text/plain": [
       "['Corey Perry',\n",
       " 'Ryan Kesler',\n",
       " 'Oliver Ekman-Larsson',\n",
       " 'Martin Hanzal',\n",
       " 'Patrice Bergeron',\n",
       " 'David Krejci',\n",
       " 'Tyler Ennis',\n",
       " 'Josh Gorges',\n",
       " \"Ryan O'Reilly\",\n",
       " 'Sean Monahan',\n",
       " 'Dennis Wideman',\n",
       " 'Justin Faulk',\n",
       " 'Jordan Staal',\n",
       " 'Duncan Keith',\n",
       " 'Brent Seabrook',\n",
       " 'Jarome Iginla',\n",
       " 'Cody McLeod',\n",
       " 'Brandon Dubinsky',\n",
       " 'Boone Jenner',\n",
       " 'Tyler Seguin',\n",
       " 'Niklas Kronwall',\n",
       " 'Jordan Eberle',\n",
       " 'Andrew Ference',\n",
       " 'Ryan Nugent-Hopkins',\n",
       " 'Jussi Jokinen',\n",
       " 'Derek MacKenzie',\n",
       " 'Drew Doughty',\n",
       " 'Zach Parise',\n",
       " 'Ryan Suter',\n",
       " 'Brendan Gallagher',\n",
       " 'Andrei Markov',\n",
       " 'Tomas Plekanec',\n",
       " 'Roman Josi',\n",
       " 'James Neal',\n",
       " 'Michael Cammalleri',\n",
       " 'Patrik Elias',\n",
       " 'Adam Henrique',\n",
       " 'Travis Zajac',\n",
       " 'Daniel Girardi',\n",
       " 'Marc Staal',\n",
       " 'Derek Stepan',\n",
       " 'Chris Neil',\n",
       " 'Kyle Turris',\n",
       " 'Wayne Simmonds',\n",
       " 'Mark Streit',\n",
       " 'Chris Kunitz',\n",
       " 'Evgeni Malkin',\n",
       " 'Logan Couture',\n",
       " 'Joe Thornton',\n",
       " 'Ryan Callahan',\n",
       " 'Tyler Bozak',\n",
       " 'Matt Hunwick',\n",
       " 'Alexandre Burrows',\n",
       " 'Daniel Sedin',\n",
       " 'Nicklas Backstrom',\n",
       " 'Brooks Orpik',\n",
       " 'Mark Scheifele',\n",
       " 'Dustin Byfuglien']"
      ]
     },
     "execution_count": 11,
     "metadata": {},
     "output_type": "execute_result"
    }
   ],
   "source": [
    "# Get the assistants\n",
    "A_players = []\n",
    "for i, n in enumerate(page_tables[2].findAll('td')):\n",
    "    if i % 3 == 0:\n",
    "        try:\n",
    "            A_players.append(n.findAll('a')[0].text)\n",
    "        except:\n",
    "            # N/A entry\n",
    "            print('Skipping entry:', n.contents)\n",
    "        if A_players[-1] == '[a]':\n",
    "            # N/A entry\n",
    "            print('Skipping entry:', n.contents)\n",
    "            A_players.pop()\n",
    "            \n",
    "A_players"
   ]
  },
  {
   "cell_type": "code",
   "execution_count": 13,
   "metadata": {
    "collapsed": false
   },
   "outputs": [
    {
     "data": {
      "text/plain": [
       "84"
      ]
     },
     "execution_count": 13,
     "metadata": {},
     "output_type": "execute_result"
    }
   ],
   "source": [
    "len(C_players) + len(A_players)"
   ]
  },
  {
   "cell_type": "markdown",
   "metadata": {},
   "source": [
    "Getting the world cup rosters"
   ]
  },
  {
   "cell_type": "code",
   "execution_count": 14,
   "metadata": {
    "collapsed": true
   },
   "outputs": [],
   "source": [
    "url = 'https://en.wikipedia.org/wiki/2016_World_Cup_of_Hockey_rosters'\n",
    "page = requests.get(url)\n",
    "soup = BeautifulSoup(page.content, 'html.parser')"
   ]
  },
  {
   "cell_type": "code",
   "execution_count": 15,
   "metadata": {
    "collapsed": true
   },
   "outputs": [],
   "source": [
    "page_tables = soup.findAll('table')"
   ]
  },
  {
   "cell_type": "code",
   "execution_count": 16,
   "metadata": {
    "collapsed": false
   },
   "outputs": [
    {
     "data": {
      "text/plain": [
       "['Canada',\n",
       " 'Czech Republic',\n",
       " 'Team Europe',\n",
       " 'United States',\n",
       " 'Finland',\n",
       " 'Team North America',\n",
       " 'Russia',\n",
       " 'Sweden']"
      ]
     },
     "execution_count": 16,
     "metadata": {},
     "output_type": "execute_result"
    }
   ],
   "source": [
    "teams = [' '.join(soup.findAll('ul')[1].findAll('li')[i].text.split()[1:])\n",
    "         for i in range(4)]\n",
    "teams = teams + [' '.join(soup.findAll('ul')[2].findAll('li')[i].text.split()[1:])\n",
    "                 for i in range(4)]\n",
    "teams"
   ]
  },
  {
   "cell_type": "code",
   "execution_count": 17,
   "metadata": {
    "collapsed": false
   },
   "outputs": [
    {
     "data": {
      "text/plain": [
       "'John Gibson'"
      ]
     },
     "execution_count": 17,
     "metadata": {},
     "output_type": "execute_result"
    }
   ],
   "source": [
    "page_tables[5].findAll('tr')[1].findAll('a')[1].text"
   ]
  },
  {
   "cell_type": "code",
   "execution_count": 18,
   "metadata": {
    "collapsed": false
   },
   "outputs": [
    {
     "name": "stdout",
     "output_type": "stream",
     "text": [
      "Skipping entry: ['\\n', <th style=\"width: 4%;\">No.</th>, '\\n', <th style=\"width: 4%;\">Pos.</th>, '\\n', <th style=\"width: 14%;\">Name</th>, '\\n', <th style=\"width: 12%;\">Height</th>, '\\n', <th style=\"width: 11%;\">Weight</th>, '\\n', <th style=\"width: 14%;\">Birthdate</th>, '\\n', <th style=\"width: 16%;\">Team</th>, '\\n']\n",
      "Skipping entry: ['\\n', <th style=\"width: 4%;\">No.</th>, '\\n', <th style=\"width: 4%;\">Pos.</th>, '\\n', <th style=\"width: 14%;\">Name</th>, '\\n', <th style=\"width: 12%;\">Height</th>, '\\n', <th style=\"width: 11%;\">Weight</th>, '\\n', <th style=\"width: 14%;\">Birthdate</th>, '\\n', <th style=\"width: 16%;\">Team</th>, '\\n']\n",
      "Skipping entry: ['\\n', <th style=\"width: 4%;\">No.</th>, '\\n', <th style=\"width: 4%;\">Pos.</th>, '\\n', <th style=\"width: 14%;\">Name</th>, '\\n', <th style=\"width: 12%;\">Height</th>, '\\n', <th style=\"width: 11%;\">Weight</th>, '\\n', <th style=\"width: 14%;\">Birthdate</th>, '\\n', <th style=\"width: 16%;\">Team</th>, '\\n']\n",
      "Skipping entry: ['\\n', <th style=\"width: 4%;\">No.</th>, '\\n', <th style=\"width: 4%;\">Pos.</th>, '\\n', <th style=\"width: 14%;\">Name</th>, '\\n', <th style=\"width: 12%;\">Height</th>, '\\n', <th style=\"width: 11%;\">Weight</th>, '\\n', <th style=\"width: 14%;\">Birthdate</th>, '\\n', <th style=\"width: 16%;\">Team</th>, '\\n']\n",
      "Skipping entry: ['\\n', <th style=\"width: 4%;\">No.</th>, '\\n', <th style=\"width: 4%;\">Pos.</th>, '\\n', <th style=\"width: 14%;\">Name</th>, '\\n', <th style=\"width: 12%;\">Height</th>, '\\n', <th style=\"width: 11%;\">Weight</th>, '\\n', <th style=\"width: 14%;\">Birthdate</th>, '\\n', <th style=\"width: 16%;\">Team</th>, '\\n']\n",
      "Skipping entry: ['\\n', <th style=\"width: 4%;\">No.</th>, '\\n', <th style=\"width: 4%;\">Pos.</th>, '\\n', <th style=\"width: 14%;\">Name</th>, '\\n', <th style=\"width: 12%;\">Height</th>, '\\n', <th style=\"width: 11%;\">Weight</th>, '\\n', <th style=\"width: 14%;\">Birthdate</th>, '\\n', <th style=\"width: 16%;\">Team</th>, '\\n']\n",
      "Skipping entry: ['\\n', <th style=\"width: 4%;\">No.</th>, '\\n', <th style=\"width: 4%;\">Pos.</th>, '\\n', <th style=\"width: 14%;\">Name</th>, '\\n', <th style=\"width: 12%;\">Height</th>, '\\n', <th style=\"width: 11%;\">Weight</th>, '\\n', <th style=\"width: 14%;\">Birthdate</th>, '\\n', <th style=\"width: 16%;\">Team</th>, '\\n']\n",
      "Skipping entry: ['\\n', <th style=\"width: 4%;\">No.</th>, '\\n', <th style=\"width: 4%;\">Pos.</th>, '\\n', <th style=\"width: 14%;\">Name</th>, '\\n', <th style=\"width: 12%;\">Height</th>, '\\n', <th style=\"width: 11%;\">Weight</th>, '\\n', <th style=\"width: 14%;\">Birthdate</th>, '\\n', <th style=\"width: 16%;\">Team</th>, '\\n']\n"
     ]
    },
    {
     "data": {
      "text/plain": [
       "[['Corey Crawford',\n",
       "  'Braden Holtby',\n",
       "  'Carey Price',\n",
       "  'Jay Bouwmeester',\n",
       "  'Brent Burns',\n",
       "  'Drew Doughty',\n",
       "  'Jake Muzzin',\n",
       "  'Alex Pietrangelo',\n",
       "  'Marc-Édouard Vlasic',\n",
       "  'Shea Weber',\n",
       "  'Patrice Bergeron',\n",
       "  'Logan Couture',\n",
       "  'Sidney Crosby',\n",
       "  'Matt Duchene',\n",
       "  'Ryan Getzlaf',\n",
       "  'Claude Giroux',\n",
       "  'Brad Marchand',\n",
       "  \"Ryan O'Reilly\",\n",
       "  'Corey Perry',\n",
       "  'Steven Stamkos',\n",
       "  'John Tavares',\n",
       "  'Joe Thornton',\n",
       "  'Jonathan Toews'],\n",
       " ['Petr Mrázek',\n",
       "  'Michal Neuvirth',\n",
       "  'Ondřej Pavelec',\n",
       "  'Michal Jordán',\n",
       "  'Michal Kempný',\n",
       "  'Tomáš Kundrátek',\n",
       "  'Zbyněk Michálek',\n",
       "  'Jakub Nakládal',\n",
       "  'Roman Polák',\n",
       "  'Andrej Šustr',\n",
       "  'Michal Birner',\n",
       "  'Roman Červenka',\n",
       "  'Radek Faksa',\n",
       "  'Michael Frolík',\n",
       "  'Martin Hanzal',\n",
       "  'Aleš Hemský',\n",
       "  'Dmitri Jaškin',\n",
       "  'Milan Michálek',\n",
       "  'Ondřej Palát',\n",
       "  'David Pastrňák',\n",
       "  'Tomáš Plekanec',\n",
       "  'Vladimír Sobotka',\n",
       "  'Jakub Voráček'],\n",
       " ['Thomas Greiss',\n",
       "  'Philipp Grubauer',\n",
       "  'Jaroslav Halák',\n",
       "  'Zdeno Chára',\n",
       "  'Christian Ehrhoff',\n",
       "  'Roman Josi',\n",
       "  'Luca Sbisa',\n",
       "  'Dennis Seidenberg',\n",
       "  'Andrej Sekera',\n",
       "  'Mark Streit',\n",
       "  'Pierre-Édouard Bellemare',\n",
       "  'Mikkel Bødker',\n",
       "  'Leon Draisaitl',\n",
       "  'Marián Gáborík',\n",
       "  'Jannik Hansen',\n",
       "  'Marián Hossa',\n",
       "  'Anže Kopitar',\n",
       "  'Nino Niederreiter',\n",
       "  'Frans Nielsen',\n",
       "  'Tobias Rieder',\n",
       "  'Tomáš Tatar',\n",
       "  'Thomas Vanek',\n",
       "  'Mats Zuccarello'],\n",
       " ['Ben Bishop',\n",
       "  'Jonathan Quick',\n",
       "  'Cory Schneider',\n",
       "  'Dustin Byfuglien',\n",
       "  'John Carlson',\n",
       "  'Erik Johnson',\n",
       "  'Jack Johnson',\n",
       "  'Ryan McDonagh',\n",
       "  'Matt Niskanen',\n",
       "  'Ryan Suter',\n",
       "  'Justin Abdelkader',\n",
       "  'David Backes',\n",
       "  'Brandon Dubinsky',\n",
       "  'Patrick Kane',\n",
       "  'Ryan Kesler',\n",
       "  'T. J. Oshie',\n",
       "  'Max Pacioretty',\n",
       "  'Kyle Palmieri',\n",
       "  'Zach Parise',\n",
       "  'Joe Pavelski',\n",
       "  'Derek Stepan',\n",
       "  'James van Riemsdyk',\n",
       "  'Blake Wheeler'],\n",
       " ['Mikko Koskinen',\n",
       "  'Tuukka Rask',\n",
       "  'Pekka Rinne',\n",
       "  'Jyrki Jokipakka',\n",
       "  'Sami Lepistö',\n",
       "  'Esa Lindell',\n",
       "  'Olli Määttä',\n",
       "  'Ville Pokka',\n",
       "  'Rasmus Ristolainen',\n",
       "  'Sami Vatanen',\n",
       "  'Sebastian Aho',\n",
       "  'Aleksander Barkov',\n",
       "  'Joonas Donskoi',\n",
       "  'Valtteri Filppula',\n",
       "  'Mikael Granlund',\n",
       "  'Erik Haula',\n",
       "  'Jussi Jokinen',\n",
       "  'Mikko Koivu',\n",
       "  'Leo Komarov',\n",
       "  'Lauri Korpikoski',\n",
       "  'Patrik Laine',\n",
       "  'Jori Lehterä',\n",
       "  'Teuvo Teräväinen'],\n",
       " ['John Gibson',\n",
       "  'Connor Hellebuyck',\n",
       "  'Matt Murray',\n",
       "  'Aaron Ekblad',\n",
       "  'Shayne Gostisbehere',\n",
       "  'Seth Jones',\n",
       "  'Ryan Murray',\n",
       "  'Colton Parayko',\n",
       "  'Morgan Rielly',\n",
       "  'Jacob Trouba',\n",
       "  'Sean Couturier',\n",
       "  'Jonathan Drouin',\n",
       "  'Jack Eichel',\n",
       "  'Johnny Gaudreau',\n",
       "  'Dylan Larkin',\n",
       "  'Nathan MacKinnon',\n",
       "  'Auston Matthews',\n",
       "  'Connor McDavid',\n",
       "  'J. T. Miller',\n",
       "  'Ryan Nugent-Hopkins',\n",
       "  'Brandon Saad',\n",
       "  'Mark Scheifele',\n",
       "  'Vincent Trocheck'],\n",
       " ['Sergei Bobrovsky',\n",
       "  'Semyon Varlamov',\n",
       "  'Andrei Vasilevskiy',\n",
       "  'Alexei Emelin',\n",
       "  'Dmitri Kulikov',\n",
       "  'Alexei Marchenko',\n",
       "  'Andrei Markov',\n",
       "  'Nikita Nesterov',\n",
       "  'Dmitry Orlov',\n",
       "  'Nikita Zaitsev',\n",
       "  'Artem Anisimov',\n",
       "  'Evgenii Dadonov',\n",
       "  'Pavel Datsyuk',\n",
       "  'Nikita Kucherov',\n",
       "  'Nikolay Kulemin',\n",
       "  'Evgeny Kuznetsov',\n",
       "  'Evgeni Malkin',\n",
       "  'Vladislav Namestnikov',\n",
       "  'Alexander Ovechkin',\n",
       "  'Artemi Panarin',\n",
       "  'Vadim Shipachyov',\n",
       "  'Vladimir Tarasenko',\n",
       "  'Ivan Telegin'],\n",
       " ['Jhonas Enroth',\n",
       "  'Henrik Lundqvist',\n",
       "  'Jacob Markström',\n",
       "  'Mattias Ekholm',\n",
       "  'Oliver Ekman-Larsson',\n",
       "  'Victor Hedman',\n",
       "  'Niklas Hjalmarsson',\n",
       "  'Erik Karlsson',\n",
       "  'Hampus Lindholm',\n",
       "  'Anton Strålman',\n",
       "  'Mikael Backlund',\n",
       "  'Patrik Berglund',\n",
       "  'Nicklas Bäckström',\n",
       "  'Loui Eriksson',\n",
       "  'Filip Forsberg',\n",
       "  'Carl Hagelin',\n",
       "  'Patric Hörnqvist',\n",
       "  'Marcus Krüger',\n",
       "  'Gabriel Landeskog',\n",
       "  'Daniel Sedin',\n",
       "  'Henrik Sedin',\n",
       "  'Jakob Silfverberg',\n",
       "  'Carl Söderberg']]"
      ]
     },
     "execution_count": 18,
     "metadata": {},
     "output_type": "execute_result"
    }
   ],
   "source": [
    "players = []\n",
    "\n",
    "for i, table in enumerate(page_tables):\n",
    "    \n",
    "    p = []\n",
    "    rows = table.findAll('tr')\n",
    "    \n",
    "    if i in (0, 1, 3, 4, 6, 7):\n",
    "        index = 0\n",
    "    elif i in (2, 5):\n",
    "        index = 1\n",
    "    else:\n",
    "        # Skip to the next table\n",
    "        continue\n",
    "\n",
    "    for row in rows:\n",
    "        try:\n",
    "            p.append(row.findAll('a')[index].text)\n",
    "        except:\n",
    "            # N/A entry\n",
    "            print('Skipping entry:', row.contents)\n",
    "            \n",
    "    players.append(p)\n",
    "    \n",
    "players"
   ]
  },
  {
   "cell_type": "code",
   "execution_count": 19,
   "metadata": {
    "collapsed": false
   },
   "outputs": [
    {
     "name": "stdout",
     "output_type": "stream",
     "text": [
      "Canada ['Corey Crawford', 'Braden Holtby'] ...\n",
      "Czech Republic ['Petr Mrázek', 'Michal Neuvirth'] ...\n",
      "Team Europe ['Thomas Greiss', 'Philipp Grubauer'] ...\n",
      "United States ['Ben Bishop', 'Jonathan Quick'] ...\n",
      "Finland ['Mikko Koskinen', 'Tuukka Rask'] ...\n",
      "Team North America ['John Gibson', 'Connor Hellebuyck'] ...\n",
      "Russia ['Sergei Bobrovsky', 'Semyon Varlamov'] ...\n",
      "Sweden ['Jhonas Enroth', 'Henrik Lundqvist'] ...\n"
     ]
    }
   ],
   "source": [
    "# We can pair them up like this\n",
    "for t, p in zip(teams, players):\n",
    "    print(t, p[:2], '...')"
   ]
  },
  {
   "cell_type": "code",
   "execution_count": null,
   "metadata": {
    "collapsed": true
   },
   "outputs": [],
   "source": []
  },
  {
   "cell_type": "markdown",
   "metadata": {},
   "source": [
    "### Determine the number of captains per team"
   ]
  },
  {
   "cell_type": "code",
   "execution_count": 20,
   "metadata": {
    "collapsed": false
   },
   "outputs": [],
   "source": [
    "def get_captain_number(team):\n",
    "    ''' Returns the number of captains & assistant\n",
    "    captains in a given set of players.'''\n",
    "    \n",
    "    N_C, N_A = 0, 0\n",
    "    for player in team:\n",
    "        if player in C_players:\n",
    "            N_C += 1\n",
    "        elif player in A_players:\n",
    "            N_A += 1\n",
    "            \n",
    "    return N_C, N_A\n",
    "\n",
    "def get_captain_names(team):\n",
    "    ''' Returns the number of captains & assistant\n",
    "    captains in a given set of players.'''\n",
    "    \n",
    "    N_C, N_A = [], []\n",
    "    for player in team:\n",
    "        if player in C_players:\n",
    "            N_C.append(player)\n",
    "        elif player in A_players:\n",
    "            N_A.append(player)\n",
    "            \n",
    "    return N_C, N_A"
   ]
  },
  {
   "cell_type": "markdown",
   "metadata": {},
   "source": [
    "How many in the entire tournament?"
   ]
  },
  {
   "cell_type": "code",
   "execution_count": 21,
   "metadata": {
    "collapsed": false
   },
   "outputs": [
    {
     "name": "stdout",
     "output_type": "stream",
     "text": [
      "(#C, #A)\n",
      "(16, 22)\n",
      "\n",
      "(%C, %A)\n",
      "0.62 0.38\n"
     ]
    }
   ],
   "source": [
    "# Flatten player list and feed into the function\n",
    "all_players = [p for p_list in players for p in p_list]\n",
    "print('(#C, #A)')\n",
    "print(get_captain_number(all_players))\n",
    "print('')\n",
    "print('(%C, %A)')\n",
    "print('%.2f %.2f' %\n",
    "     (get_captain_number(all_players)[0] / len(C_players),\n",
    "      get_captain_number(all_players)[1] / len(A_players)))"
   ]
  },
  {
   "cell_type": "code",
   "execution_count": 22,
   "metadata": {
    "collapsed": false
   },
   "outputs": [
    {
     "data": {
      "text/plain": [
       "[('Canada', (7, 6)),\n",
       " ('Czech Republic', (0, 1)),\n",
       " ('Team Europe', (0, 2)),\n",
       " ('United States', (4, 6)),\n",
       " ('Finland', (1, 1)),\n",
       " ('Team North America', (0, 2)),\n",
       " ('Russia', (1, 2)),\n",
       " ('Sweden', (3, 2))]"
      ]
     },
     "execution_count": 22,
     "metadata": {},
     "output_type": "execute_result"
    }
   ],
   "source": [
    "N_captains = list(map(get_captain_number, players))\n",
    "list(zip(teams, N_captains))"
   ]
  },
  {
   "cell_type": "code",
   "execution_count": 23,
   "metadata": {
    "collapsed": false
   },
   "outputs": [
    {
     "data": {
      "text/plain": [
       "[('Canada',\n",
       "  (['Alex Pietrangelo',\n",
       "    'Sidney Crosby',\n",
       "    'Ryan Getzlaf',\n",
       "    'Claude Giroux',\n",
       "    'Steven Stamkos',\n",
       "    'John Tavares',\n",
       "    'Jonathan Toews'],\n",
       "   ['Drew Doughty',\n",
       "    'Patrice Bergeron',\n",
       "    'Logan Couture',\n",
       "    \"Ryan O'Reilly\",\n",
       "    'Corey Perry',\n",
       "    'Joe Thornton'])),\n",
       " ('Czech Republic', ([], ['Martin Hanzal'])),\n",
       " ('Team Europe', ([], ['Roman Josi', 'Mark Streit'])),\n",
       " ('United States',\n",
       "  (['Ryan McDonagh', 'Max Pacioretty', 'Joe Pavelski', 'Blake Wheeler'],\n",
       "   ['Dustin Byfuglien',\n",
       "    'Ryan Suter',\n",
       "    'Brandon Dubinsky',\n",
       "    'Ryan Kesler',\n",
       "    'Zach Parise',\n",
       "    'Derek Stepan'])),\n",
       " ('Finland', (['Mikko Koivu'], ['Jussi Jokinen'])),\n",
       " ('Team North America', ([], ['Ryan Nugent-Hopkins', 'Mark Scheifele'])),\n",
       " ('Russia', (['Alexander Ovechkin'], ['Andrei Markov', 'Evgeni Malkin'])),\n",
       " ('Sweden',\n",
       "  (['Erik Karlsson', 'Gabriel Landeskog', 'Henrik Sedin'],\n",
       "   ['Oliver Ekman-Larsson', 'Daniel Sedin']))]"
      ]
     },
     "execution_count": 23,
     "metadata": {},
     "output_type": "execute_result"
    }
   ],
   "source": [
    "captains = list(map(get_captain_names, players))\n",
    "list(zip(teams, captains))"
   ]
  },
  {
   "cell_type": "markdown",
   "metadata": {},
   "source": [
    "### Make bar plot"
   ]
  },
  {
   "cell_type": "code",
   "execution_count": 107,
   "metadata": {
    "collapsed": false
   },
   "outputs": [
    {
     "data": {
      "text/html": [
       "\n",
       "    <div class=\"bk-root\">\n",
       "        <a href=\"http://bokeh.pydata.org\" target=\"_blank\" class=\"bk-logo bk-logo-small bk-logo-notebook\"></a>\n",
       "        <span id=\"111e54d6-d7d5-450b-b9f0-4755b51c356b\">Loading BokehJS ...</span>\n",
       "    </div>"
      ]
     },
     "metadata": {},
     "output_type": "display_data"
    },
    {
     "data": {
      "application/javascript": [
       "\n",
       "(function(global) {\n",
       "  function now() {\n",
       "    return new Date();\n",
       "  }\n",
       "\n",
       "  var force = \"1\";\n",
       "\n",
       "  if (typeof (window._bokeh_onload_callbacks) === \"undefined\" || force !== \"\") {\n",
       "    window._bokeh_onload_callbacks = [];\n",
       "    window._bokeh_is_loading = undefined;\n",
       "  }\n",
       "\n",
       "  function run_callbacks() {\n",
       "    window._bokeh_onload_callbacks.forEach(function(callback) { callback() });\n",
       "    delete window._bokeh_onload_callbacks\n",
       "    console.info(\"Bokeh: all callbacks have finished\");\n",
       "  }\n",
       "\n",
       "  function load_libs(js_urls, callback) {\n",
       "    window._bokeh_onload_callbacks.push(callback);\n",
       "    if (window._bokeh_is_loading > 0) {\n",
       "      console.log(\"Bokeh: BokehJS is being loaded, scheduling callback at\", now());\n",
       "      return null;\n",
       "    }\n",
       "    if (js_urls == null || js_urls.length === 0) {\n",
       "      run_callbacks();\n",
       "      return null;\n",
       "    }\n",
       "    console.log(\"Bokeh: BokehJS not loaded, scheduling load and callback at\", now());\n",
       "    window._bokeh_is_loading = js_urls.length;\n",
       "    for (var i = 0; i < js_urls.length; i++) {\n",
       "      var url = js_urls[i];\n",
       "      var s = document.createElement('script');\n",
       "      s.src = url;\n",
       "      s.async = false;\n",
       "      s.onreadystatechange = s.onload = function() {\n",
       "        window._bokeh_is_loading--;\n",
       "        if (window._bokeh_is_loading === 0) {\n",
       "          console.log(\"Bokeh: all BokehJS libraries loaded\");\n",
       "          run_callbacks()\n",
       "        }\n",
       "      };\n",
       "      s.onerror = function() {\n",
       "        console.warn(\"failed to load library \" + url);\n",
       "      };\n",
       "      console.log(\"Bokeh: injecting script tag for BokehJS library: \", url);\n",
       "      document.getElementsByTagName(\"head\")[0].appendChild(s);\n",
       "    }\n",
       "  };\n",
       "\n",
       "  var js_urls = ['https://cdn.pydata.org/bokeh/release/bokeh-0.12.1.min.js', 'https://cdn.pydata.org/bokeh/release/bokeh-widgets-0.12.1.min.js', 'https://cdn.pydata.org/bokeh/release/bokeh-compiler-0.12.1.min.js'];\n",
       "\n",
       "  var inline_js = [\n",
       "    function(Bokeh) {\n",
       "      Bokeh.set_log_level(\"info\");\n",
       "    },\n",
       "    \n",
       "    function(Bokeh) {\n",
       "      \n",
       "      Bokeh.$(\"#111e54d6-d7d5-450b-b9f0-4755b51c356b\").text(\"BokehJS successfully loaded\");\n",
       "      var kernel = Jupyter.notebook.kernel\n",
       "      if (kernel.execute !== undefined) {\n",
       "          kernel.execute(\"import bokeh.io; bokeh.io._nb_loaded = True\");\n",
       "      }\n",
       "    },\n",
       "    function(Bokeh) {\n",
       "      console.log(\"Bokeh: injecting CSS: https://cdn.pydata.org/bokeh/release/bokeh-0.12.1.min.css\");\n",
       "      Bokeh.embed.inject_css(\"https://cdn.pydata.org/bokeh/release/bokeh-0.12.1.min.css\");\n",
       "      console.log(\"Bokeh: injecting CSS: https://cdn.pydata.org/bokeh/release/bokeh-widgets-0.12.1.min.css\");\n",
       "      Bokeh.embed.inject_css(\"https://cdn.pydata.org/bokeh/release/bokeh-widgets-0.12.1.min.css\");\n",
       "    }\n",
       "  ];\n",
       "\n",
       "  function run_inline_js() {\n",
       "    for (var i = 0; i < inline_js.length; i++) {\n",
       "      inline_js[i](window.Bokeh);\n",
       "    }\n",
       "  }\n",
       "\n",
       "  if (window._bokeh_is_loading === 0) {\n",
       "    console.log(\"Bokeh: BokehJS loaded, going straight to plotting\");\n",
       "    run_inline_js();\n",
       "  } else {\n",
       "    load_libs(js_urls, function() {\n",
       "      console.log(\"Bokeh: BokehJS plotting callback run at\", now());\n",
       "      run_inline_js();\n",
       "    });\n",
       "  }\n",
       "}(this));"
      ]
     },
     "metadata": {},
     "output_type": "display_data"
    }
   ],
   "source": [
    "from bokeh.charts import Bar\n",
    "from bokeh.charts.attributes import color, cat\n",
    "from bokeh.charts.operations import blend\n",
    "from bokeh.models import HoverTool, ColumnDataSource\n",
    "from bokeh.plotting import figure\n",
    "from bokeh.io import output_notebook, show\n",
    "from bokeh.models.renderers import GlyphRenderer\n",
    "output_notebook()"
   ]
  },
  {
   "cell_type": "code",
   "execution_count": 168,
   "metadata": {
    "collapsed": true
   },
   "outputs": [],
   "source": [
    "df = pd.DataFrame(dict(zip(teams, N_captains)),\n",
    "                  index=['Number of Captains', 'Number of Assistant Captains'])"
   ]
  },
  {
   "cell_type": "code",
   "execution_count": 169,
   "metadata": {
    "collapsed": false
   },
   "outputs": [
    {
     "data": {
      "text/html": [
       "<div>\n",
       "<table border=\"1\" class=\"dataframe\">\n",
       "  <thead>\n",
       "    <tr style=\"text-align: right;\">\n",
       "      <th></th>\n",
       "      <th>Number of Captains</th>\n",
       "      <th>Number of Assistant Captains</th>\n",
       "      <th>Total Number of Captains</th>\n",
       "      <th>Team</th>\n",
       "      <th>C</th>\n",
       "      <th>A</th>\n",
       "    </tr>\n",
       "  </thead>\n",
       "  <tbody>\n",
       "    <tr>\n",
       "      <th>Canada</th>\n",
       "      <td>7</td>\n",
       "      <td>6</td>\n",
       "      <td>13</td>\n",
       "      <td>Canada</td>\n",
       "      <td>Alex Pietrangelo, Sidney Crosby, Ryan Getzlaf,...</td>\n",
       "      <td>Drew Doughty, Patrice Bergeron, Logan Couture,...</td>\n",
       "    </tr>\n",
       "    <tr>\n",
       "      <th>United States</th>\n",
       "      <td>4</td>\n",
       "      <td>6</td>\n",
       "      <td>10</td>\n",
       "      <td>United States</td>\n",
       "      <td>Ryan McDonagh, Max Pacioretty, Joe Pavelski, B...</td>\n",
       "      <td>Dustin Byfuglien, Ryan Suter, Brandon Dubinsky...</td>\n",
       "    </tr>\n",
       "    <tr>\n",
       "      <th>Sweden</th>\n",
       "      <td>3</td>\n",
       "      <td>2</td>\n",
       "      <td>5</td>\n",
       "      <td>Sweden</td>\n",
       "      <td>Erik Karlsson, Gabriel Landeskog, Henrik Sedin</td>\n",
       "      <td>Oliver Ekman-Larsson, Daniel Sedin</td>\n",
       "    </tr>\n",
       "    <tr>\n",
       "      <th>Russia</th>\n",
       "      <td>1</td>\n",
       "      <td>2</td>\n",
       "      <td>3</td>\n",
       "      <td>Russia</td>\n",
       "      <td>Alexander Ovechkin</td>\n",
       "      <td>Andrei Markov, Evgeni Malkin</td>\n",
       "    </tr>\n",
       "    <tr>\n",
       "      <th>Finland</th>\n",
       "      <td>1</td>\n",
       "      <td>1</td>\n",
       "      <td>2</td>\n",
       "      <td>Finland</td>\n",
       "      <td>Mikko Koivu</td>\n",
       "      <td>Jussi Jokinen</td>\n",
       "    </tr>\n",
       "    <tr>\n",
       "      <th>Team Europe</th>\n",
       "      <td>0</td>\n",
       "      <td>2</td>\n",
       "      <td>2</td>\n",
       "      <td>Team Europe</td>\n",
       "      <td></td>\n",
       "      <td>Roman Josi, Mark Streit</td>\n",
       "    </tr>\n",
       "    <tr>\n",
       "      <th>Team North America</th>\n",
       "      <td>0</td>\n",
       "      <td>2</td>\n",
       "      <td>2</td>\n",
       "      <td>Team North America</td>\n",
       "      <td></td>\n",
       "      <td>Ryan Nugent-Hopkins, Mark Scheifele</td>\n",
       "    </tr>\n",
       "    <tr>\n",
       "      <th>Czech Republic</th>\n",
       "      <td>0</td>\n",
       "      <td>1</td>\n",
       "      <td>1</td>\n",
       "      <td>Czech Republic</td>\n",
       "      <td></td>\n",
       "      <td>Martin Hanzal</td>\n",
       "    </tr>\n",
       "  </tbody>\n",
       "</table>\n",
       "</div>"
      ],
      "text/plain": [
       "                    Number of Captains  Number of Assistant Captains  \\\n",
       "Canada                               7                             6   \n",
       "United States                        4                             6   \n",
       "Sweden                               3                             2   \n",
       "Russia                               1                             2   \n",
       "Finland                              1                             1   \n",
       "Team Europe                          0                             2   \n",
       "Team North America                   0                             2   \n",
       "Czech Republic                       0                             1   \n",
       "\n",
       "                    Total Number of Captains                Team  \\\n",
       "Canada                                    13              Canada   \n",
       "United States                             10       United States   \n",
       "Sweden                                     5              Sweden   \n",
       "Russia                                     3              Russia   \n",
       "Finland                                    2             Finland   \n",
       "Team Europe                                2         Team Europe   \n",
       "Team North America                         2  Team North America   \n",
       "Czech Republic                             1      Czech Republic   \n",
       "\n",
       "                                                                    C  \\\n",
       "Canada              Alex Pietrangelo, Sidney Crosby, Ryan Getzlaf,...   \n",
       "United States       Ryan McDonagh, Max Pacioretty, Joe Pavelski, B...   \n",
       "Sweden                 Erik Karlsson, Gabriel Landeskog, Henrik Sedin   \n",
       "Russia                                             Alexander Ovechkin   \n",
       "Finland                                                   Mikko Koivu   \n",
       "Team Europe                                                             \n",
       "Team North America                                                      \n",
       "Czech Republic                                                          \n",
       "\n",
       "                                                                    A  \n",
       "Canada              Drew Doughty, Patrice Bergeron, Logan Couture,...  \n",
       "United States       Dustin Byfuglien, Ryan Suter, Brandon Dubinsky...  \n",
       "Sweden                             Oliver Ekman-Larsson, Daniel Sedin  \n",
       "Russia                                   Andrei Markov, Evgeni Malkin  \n",
       "Finland                                                 Jussi Jokinen  \n",
       "Team Europe                                   Roman Josi, Mark Streit  \n",
       "Team North America                Ryan Nugent-Hopkins, Mark Scheifele  \n",
       "Czech Republic                                          Martin Hanzal  "
      ]
     },
     "execution_count": 169,
     "metadata": {},
     "output_type": "execute_result"
    }
   ],
   "source": [
    "df = df.T\n",
    "df['Total Number of Captains'] = df.apply(lambda x: x[0] + x[1], axis=1)\n",
    "df['Team'] = df.index\n",
    "df['C'] = df.Team.map(dict(zip(teams, [', '.join(c[0]) for c in captains])))\n",
    "df['A'] = df.Team.map(dict(zip(teams, [', '.join(c[1]) for c in captains])))\n",
    "df.sort_values(by='Total Number of Captains', ascending=False, inplace=True)\n",
    "df"
   ]
  },
  {
   "cell_type": "code",
   "execution_count": 170,
   "metadata": {
    "collapsed": false
   },
   "outputs": [
    {
     "data": {
      "text/html": [
       "\n",
       "\n",
       "    <div class=\"bk-root\">\n",
       "        <div class=\"plotdiv\" id=\"c1f4a738-d65e-4e0c-9d42-b19af75f64eb\"></div>\n",
       "    </div>\n",
       "<script type=\"text/javascript\">\n",
       "  \n",
       "  (function(global) {\n",
       "    function now() {\n",
       "      return new Date();\n",
       "    }\n",
       "  \n",
       "    var force = \"\";\n",
       "  \n",
       "    if (typeof (window._bokeh_onload_callbacks) === \"undefined\" || force !== \"\") {\n",
       "      window._bokeh_onload_callbacks = [];\n",
       "      window._bokeh_is_loading = undefined;\n",
       "    }\n",
       "  \n",
       "    function run_callbacks() {\n",
       "      window._bokeh_onload_callbacks.forEach(function(callback) { callback() });\n",
       "      delete window._bokeh_onload_callbacks\n",
       "      console.info(\"Bokeh: all callbacks have finished\");\n",
       "    }\n",
       "  \n",
       "    function load_libs(js_urls, callback) {\n",
       "      window._bokeh_onload_callbacks.push(callback);\n",
       "      if (window._bokeh_is_loading > 0) {\n",
       "        console.log(\"Bokeh: BokehJS is being loaded, scheduling callback at\", now());\n",
       "        return null;\n",
       "      }\n",
       "      if (js_urls == null || js_urls.length === 0) {\n",
       "        run_callbacks();\n",
       "        return null;\n",
       "      }\n",
       "      console.log(\"Bokeh: BokehJS not loaded, scheduling load and callback at\", now());\n",
       "      window._bokeh_is_loading = js_urls.length;\n",
       "      for (var i = 0; i < js_urls.length; i++) {\n",
       "        var url = js_urls[i];\n",
       "        var s = document.createElement('script');\n",
       "        s.src = url;\n",
       "        s.async = false;\n",
       "        s.onreadystatechange = s.onload = function() {\n",
       "          window._bokeh_is_loading--;\n",
       "          if (window._bokeh_is_loading === 0) {\n",
       "            console.log(\"Bokeh: all BokehJS libraries loaded\");\n",
       "            run_callbacks()\n",
       "          }\n",
       "        };\n",
       "        s.onerror = function() {\n",
       "          console.warn(\"failed to load library \" + url);\n",
       "        };\n",
       "        console.log(\"Bokeh: injecting script tag for BokehJS library: \", url);\n",
       "        document.getElementsByTagName(\"head\")[0].appendChild(s);\n",
       "      }\n",
       "    };var element = document.getElementById(\"c1f4a738-d65e-4e0c-9d42-b19af75f64eb\");\n",
       "    if (element == null) {\n",
       "      console.log(\"Bokeh: ERROR: autoload.js configured with elementid 'c1f4a738-d65e-4e0c-9d42-b19af75f64eb' but no matching script tag was found. \")\n",
       "      return false;\n",
       "    }\n",
       "  \n",
       "    var js_urls = [];\n",
       "  \n",
       "    var inline_js = [\n",
       "      function(Bokeh) {\n",
       "        Bokeh.$(function() {\n",
       "            var docs_json = {\"9ad3f9cd-16bc-4341-a7a6-1003b0bfac49\":{\"roots\":{\"references\":[{\"attributes\":{\"fill_alpha\":{\"field\":\"fill_alpha\"},\"fill_color\":{\"field\":\"color\"},\"height\":{\"field\":\"height\",\"units\":\"data\"},\"line_color\":{\"field\":\"line_color\"},\"width\":{\"field\":\"width\",\"units\":\"data\"},\"x\":{\"field\":\"x\"},\"y\":{\"field\":\"y\"}},\"id\":\"0ed9ef62-0e5b-4704-a573-42e288d95260\",\"type\":\"Rect\"},{\"attributes\":{\"axis_label\":\"Sum( Number Of Captains )\",\"formatter\":{\"id\":\"bf9875a5-55cf-4a01-83d8-775327630ba6\",\"type\":\"BasicTickFormatter\"},\"plot\":{\"id\":\"f8e4ff73-c110-4440-8648-72035f7407c5\",\"subtype\":\"Chart\",\"type\":\"Plot\"},\"ticker\":{\"id\":\"09fb6c10-1bc7-416a-9f55-7300a55209ef\",\"type\":\"BasicTicker\"}},\"id\":\"9b725906-679e-4e30-ade7-0595d7a8419e\",\"type\":\"LinearAxis\"},{\"attributes\":{\"data_source\":{\"id\":\"d85f44a5-7bd5-4aef-b528-33c78e13e079\",\"type\":\"ColumnDataSource\"},\"glyph\":{\"id\":\"3061eba9-473b-4708-bc6d-944766b60b07\",\"type\":\"Rect\"},\"hover_glyph\":null,\"nonselection_glyph\":null,\"selection_glyph\":null},\"id\":\"de18b905-ebdd-4a6b-a7d4-8a61ad8ca445\",\"type\":\"GlyphRenderer\"},{\"attributes\":{\"data_source\":{\"id\":\"f2d53e0f-639e-44c4-b55b-f4445a2f0b09\",\"type\":\"ColumnDataSource\"},\"glyph\":{\"id\":\"02d36d1c-37b7-44e9-a4df-987d7348ef29\",\"type\":\"Rect\"},\"hover_glyph\":null,\"nonselection_glyph\":null,\"selection_glyph\":null},\"id\":\"ce0cb45a-f74f-41e6-b2ff-0a15577d37cb\",\"type\":\"GlyphRenderer\"},{\"attributes\":{\"plot\":{\"id\":\"f8e4ff73-c110-4440-8648-72035f7407c5\",\"subtype\":\"Chart\",\"type\":\"Plot\"}},\"id\":\"92263aa3-20e9-4290-b692-cfc18a1d36d5\",\"type\":\"WheelZoomTool\"},{\"attributes\":{},\"id\":\"053d19c7-98b8-4ebd-a408-3a89a3789ae8\",\"type\":\"CategoricalTicker\"},{\"attributes\":{\"callback\":null,\"column_names\":[\"height\",\"y\",\"line_alpha\",\"line_color\",\"width\",\"fill_alpha\",\"x\",\"label\",\"color\"],\"data\":{\"Team\":[\"United States\"],\"caps\":[\"Number of Captains\"],\"chart_index\":[{\"Team\":\"United States\",\"caps\":\"Number of Captains\"}],\"color\":[\"OrangeRed\"],\"fill_alpha\":[0.8],\"height\":[4.0],\"label\":[{\"Team\":\"United States\",\"caps\":\"Number of Captains\"}],\"line_alpha\":[1.0],\"line_color\":[\"white\"],\"width\":[0.8],\"x\":[\"United States\"],\"y\":[2.0]}},\"id\":\"22d6cf61-b695-42d5-9613-c8ba83f5935e\",\"type\":\"ColumnDataSource\"},{\"attributes\":{\"fill_alpha\":{\"field\":\"fill_alpha\"},\"fill_color\":{\"field\":\"color\"},\"height\":{\"field\":\"height\",\"units\":\"data\"},\"line_color\":{\"field\":\"line_color\"},\"width\":{\"field\":\"width\",\"units\":\"data\"},\"x\":{\"field\":\"x\"},\"y\":{\"field\":\"y\"}},\"id\":\"02d36d1c-37b7-44e9-a4df-987d7348ef29\",\"type\":\"Rect\"},{\"attributes\":{\"data_source\":{\"id\":\"ef1855c6-ec7d-404a-9002-4cd52fdb40ae\",\"type\":\"ColumnDataSource\"},\"glyph\":{\"id\":\"31d5b331-8395-4681-b33c-cfb5d80a55c4\",\"type\":\"Rect\"},\"hover_glyph\":null,\"nonselection_glyph\":null,\"selection_glyph\":null},\"id\":\"6d72db86-cb53-4ff6-87f5-00a9b1be2517\",\"type\":\"GlyphRenderer\"},{\"attributes\":{\"data_source\":{\"id\":\"19811532-f6a7-4ec6-a6cd-08af5efe4eb0\",\"type\":\"ColumnDataSource\"},\"glyph\":{\"id\":\"8d78cad7-7299-4889-b9f9-293a422b9436\",\"type\":\"Rect\"},\"hover_glyph\":null,\"nonselection_glyph\":null,\"selection_glyph\":null},\"id\":\"121f0922-b8f7-4455-b684-0a8ed20ebb22\",\"type\":\"GlyphRenderer\"},{\"attributes\":{\"fill_alpha\":{\"field\":\"fill_alpha\"},\"fill_color\":{\"field\":\"color\"},\"height\":{\"field\":\"height\",\"units\":\"data\"},\"line_color\":{\"field\":\"line_color\"},\"width\":{\"field\":\"width\",\"units\":\"data\"},\"x\":{\"field\":\"x\"},\"y\":{\"field\":\"y\"}},\"id\":\"79db67cd-eec2-437f-b264-62bca5c2d753\",\"type\":\"Rect\"},{\"attributes\":{\"fill_alpha\":{\"field\":\"fill_alpha\"},\"fill_color\":{\"field\":\"color\"},\"height\":{\"field\":\"height\",\"units\":\"data\"},\"line_color\":{\"field\":\"line_color\"},\"width\":{\"field\":\"width\",\"units\":\"data\"},\"x\":{\"field\":\"x\"},\"y\":{\"field\":\"y\"}},\"id\":\"6b8e28a5-ab22-4189-aac9-192dda0cca57\",\"type\":\"Rect\"},{\"attributes\":{\"fill_alpha\":{\"field\":\"fill_alpha\"},\"fill_color\":{\"field\":\"color\"},\"height\":{\"field\":\"height\",\"units\":\"data\"},\"line_color\":{\"field\":\"line_color\"},\"width\":{\"field\":\"width\",\"units\":\"data\"},\"x\":{\"field\":\"x\"},\"y\":{\"field\":\"y\"}},\"id\":\"3e90b49b-c2e3-4fbb-99f8-e5191ae8a9d7\",\"type\":\"Rect\"},{\"attributes\":{\"callback\":null,\"column_names\":[\"height\",\"y\",\"line_alpha\",\"line_color\",\"width\",\"fill_alpha\",\"x\",\"label\",\"color\"],\"data\":{\"Team\":[\"Canada\"],\"caps\":[\"Number of Assistant Captains\"],\"chart_index\":[{\"Team\":\"Canada\",\"caps\":\"Number of Assistant Captains\"}],\"color\":[\"Orange\"],\"fill_alpha\":[0.8],\"height\":[6.0],\"label\":[{\"Team\":\"Canada\",\"caps\":\"Number of Assistant Captains\"}],\"line_alpha\":[1.0],\"line_color\":[\"white\"],\"width\":[0.8],\"x\":[\"Canada\"],\"y\":[10.0]}},\"id\":\"31fc33a9-8d10-417f-a15a-18df4c993fcf\",\"type\":\"ColumnDataSource\"},{\"attributes\":{\"active_drag\":\"auto\",\"active_scroll\":\"auto\",\"active_tap\":\"auto\",\"tools\":[{\"id\":\"5773c633-9ba3-4d5a-8e12-ecd6ea415e79\",\"type\":\"PanTool\"},{\"id\":\"92263aa3-20e9-4290-b692-cfc18a1d36d5\",\"type\":\"WheelZoomTool\"},{\"id\":\"013190c7-f412-4eaf-953b-fa97989e11af\",\"type\":\"BoxZoomTool\"},{\"id\":\"1d55d578-d9e5-402d-ba69-c559ae4c160f\",\"type\":\"SaveTool\"},{\"id\":\"aa10b001-fa73-47a0-b72f-6ed381e4dff7\",\"type\":\"ResetTool\"},{\"id\":\"28695f9d-c645-4b3a-aa52-d115630346b9\",\"type\":\"HelpTool\"}]},\"id\":\"60b93bc3-8967-4584-9146-bd2f3428c643\",\"type\":\"Toolbar\"},{\"attributes\":{\"fill_alpha\":{\"field\":\"fill_alpha\"},\"fill_color\":{\"field\":\"color\"},\"height\":{\"field\":\"height\",\"units\":\"data\"},\"line_color\":{\"field\":\"line_color\"},\"width\":{\"field\":\"width\",\"units\":\"data\"},\"x\":{\"field\":\"x\"},\"y\":{\"field\":\"y\"}},\"id\":\"0d2ddde0-228c-4c4a-b166-0dfdb02a43e7\",\"type\":\"Rect\"},{\"attributes\":{\"fill_alpha\":{\"field\":\"fill_alpha\"},\"fill_color\":{\"field\":\"color\"},\"height\":{\"field\":\"height\",\"units\":\"data\"},\"line_color\":{\"field\":\"line_color\"},\"width\":{\"field\":\"width\",\"units\":\"data\"},\"x\":{\"field\":\"x\"},\"y\":{\"field\":\"y\"}},\"id\":\"d5acaad2-561c-4b72-86c0-c74ab6e894a6\",\"type\":\"Rect\"},{\"attributes\":{\"data_source\":{\"id\":\"2d5546f3-7e40-4867-b7c0-4138ffde38fa\",\"type\":\"ColumnDataSource\"},\"glyph\":{\"id\":\"3e90b49b-c2e3-4fbb-99f8-e5191ae8a9d7\",\"type\":\"Rect\"},\"hover_glyph\":null,\"nonselection_glyph\":null,\"selection_glyph\":null},\"id\":\"bacbee02-cb3c-4d55-86d3-d2f13b643f89\",\"type\":\"GlyphRenderer\"},{\"attributes\":{\"callback\":null,\"column_names\":[\"height\",\"y\",\"line_alpha\",\"line_color\",\"width\",\"fill_alpha\",\"x\",\"label\",\"color\"],\"data\":{\"Team\":[\"Sweden\"],\"caps\":[\"Number of Assistant Captains\"],\"chart_index\":[{\"Team\":\"Sweden\",\"caps\":\"Number of Assistant Captains\"}],\"color\":[\"Orange\"],\"fill_alpha\":[0.8],\"height\":[2.0],\"label\":[{\"Team\":\"Sweden\",\"caps\":\"Number of Assistant Captains\"}],\"line_alpha\":[1.0],\"line_color\":[\"white\"],\"width\":[0.8],\"x\":[\"Sweden\"],\"y\":[4.0]}},\"id\":\"f2d53e0f-639e-44c4-b55b-f4445a2f0b09\",\"type\":\"ColumnDataSource\"},{\"attributes\":{\"data_source\":{\"id\":\"187139b6-0df7-4d17-9159-1fc6e7a25748\",\"type\":\"ColumnDataSource\"},\"glyph\":{\"id\":\"8d1bb6d0-842d-464b-83f1-0afca51152ad\",\"type\":\"Rect\"},\"hover_glyph\":null,\"nonselection_glyph\":null,\"selection_glyph\":null},\"id\":\"e216521f-5ae9-4eaa-ae99-5fb1b2696657\",\"type\":\"GlyphRenderer\"},{\"attributes\":{\"callback\":null,\"column_names\":[\"height\",\"y\",\"line_alpha\",\"line_color\",\"width\",\"fill_alpha\",\"x\",\"label\",\"color\"],\"data\":{\"Team\":[\"Team Europe\"],\"caps\":[\"Number of Assistant Captains\"],\"chart_index\":[{\"Team\":\"Team Europe\",\"caps\":\"Number of Assistant Captains\"}],\"color\":[\"Orange\"],\"fill_alpha\":[0.8],\"height\":[2.0],\"label\":[{\"Team\":\"Team Europe\",\"caps\":\"Number of Assistant Captains\"}],\"line_alpha\":[1.0],\"line_color\":[\"white\"],\"width\":[0.8],\"x\":[\"Team Europe\"],\"y\":[1.0]}},\"id\":\"0c7fd9e7-94c3-417c-93d8-44d25897bf87\",\"type\":\"ColumnDataSource\"},{\"attributes\":{\"fill_alpha\":{\"field\":\"fill_alpha\"},\"fill_color\":{\"field\":\"color\"},\"height\":{\"field\":\"height\",\"units\":\"data\"},\"line_color\":{\"field\":\"line_color\"},\"width\":{\"field\":\"width\",\"units\":\"data\"},\"x\":{\"field\":\"x\"},\"y\":{\"field\":\"y\"}},\"id\":\"3db38774-2733-4f24-bb28-6997b96f9950\",\"type\":\"Rect\"},{\"attributes\":{\"bottom_units\":\"screen\",\"fill_alpha\":{\"value\":0.5},\"fill_color\":{\"value\":\"lightgrey\"},\"left_units\":\"screen\",\"level\":\"overlay\",\"line_alpha\":{\"value\":1.0},\"line_color\":{\"value\":\"black\"},\"line_dash\":[4,4],\"line_width\":{\"value\":2},\"plot\":null,\"render_mode\":\"css\",\"right_units\":\"screen\",\"top_units\":\"screen\"},\"id\":\"88fddd61-5414-4bc1-af15-b63d44e7ebf7\",\"type\":\"BoxAnnotation\"},{\"attributes\":{\"data_source\":{\"id\":\"28838a57-95a3-4b18-a9db-f48bf9d91480\",\"type\":\"ColumnDataSource\"},\"glyph\":{\"id\":\"6b8e28a5-ab22-4189-aac9-192dda0cca57\",\"type\":\"Rect\"},\"hover_glyph\":null,\"nonselection_glyph\":null,\"selection_glyph\":null},\"id\":\"730856a9-ba2a-4cf5-bbe0-9992e14369f2\",\"type\":\"GlyphRenderer\"},{\"attributes\":{\"data_source\":{\"id\":\"0c7fd9e7-94c3-417c-93d8-44d25897bf87\",\"type\":\"ColumnDataSource\"},\"glyph\":{\"id\":\"79db67cd-eec2-437f-b264-62bca5c2d753\",\"type\":\"Rect\"},\"hover_glyph\":null,\"nonselection_glyph\":null,\"selection_glyph\":null},\"id\":\"34c6ad87-f849-43ea-9d68-d8b5e0a01df9\",\"type\":\"GlyphRenderer\"},{\"attributes\":{},\"id\":\"09fb6c10-1bc7-416a-9f55-7300a55209ef\",\"type\":\"BasicTicker\"},{\"attributes\":{},\"id\":\"7c21ea42-c9f6-4ed2-8426-e23198bf0cdc\",\"type\":\"CategoricalTickFormatter\"},{\"attributes\":{\"data_source\":{\"id\":\"31fc33a9-8d10-417f-a15a-18df4c993fcf\",\"type\":\"ColumnDataSource\"},\"glyph\":{\"id\":\"d5acaad2-561c-4b72-86c0-c74ab6e894a6\",\"type\":\"Rect\"},\"hover_glyph\":null,\"nonselection_glyph\":null,\"selection_glyph\":null},\"id\":\"5f3e0c8a-9e6b-4a4e-a966-c7453269158d\",\"type\":\"GlyphRenderer\"},{\"attributes\":{\"fill_alpha\":{\"field\":\"fill_alpha\"},\"fill_color\":{\"field\":\"color\"},\"height\":{\"field\":\"height\",\"units\":\"data\"},\"line_color\":{\"field\":\"line_color\"},\"width\":{\"field\":\"width\",\"units\":\"data\"},\"x\":{\"field\":\"x\"},\"y\":{\"field\":\"y\"}},\"id\":\"f3630e46-fab1-43fb-ab18-c409e4820f62\",\"type\":\"Rect\"},{\"attributes\":{\"callback\":null,\"column_names\":[\"height\",\"y\",\"line_alpha\",\"line_color\",\"width\",\"fill_alpha\",\"x\",\"label\",\"color\"],\"data\":{\"Team\":[\"Finland\"],\"caps\":[\"Number of Assistant Captains\"],\"chart_index\":[{\"Team\":\"Finland\",\"caps\":\"Number of Assistant Captains\"}],\"color\":[\"Orange\"],\"fill_alpha\":[0.8],\"height\":[1.0],\"label\":[{\"Team\":\"Finland\",\"caps\":\"Number of Assistant Captains\"}],\"line_alpha\":[1.0],\"line_color\":[\"white\"],\"width\":[0.8],\"x\":[\"Finland\"],\"y\":[1.5]}},\"id\":\"2d5546f3-7e40-4867-b7c0-4138ffde38fa\",\"type\":\"ColumnDataSource\"},{\"attributes\":{\"plot\":null,\"text\":\"2016 World Cup of Hockey NHL Captains\"},\"id\":\"def8ffe3-4226-42db-b3ee-8ca19ff8e194\",\"type\":\"Title\"},{\"attributes\":{\"data_source\":{\"id\":\"d641328b-5bad-452e-a8d8-06953ddabe04\",\"type\":\"ColumnDataSource\"},\"glyph\":{\"id\":\"0ed9ef62-0e5b-4704-a573-42e288d95260\",\"type\":\"Rect\"},\"hover_glyph\":null,\"nonselection_glyph\":null,\"selection_glyph\":null},\"id\":\"2d70520a-e081-4e75-b26e-8cfca31e2c87\",\"type\":\"GlyphRenderer\"},{\"attributes\":{\"callback\":null,\"column_names\":[\"height\",\"y\",\"line_alpha\",\"line_color\",\"width\",\"fill_alpha\",\"x\",\"label\",\"color\"],\"data\":{\"Team\":[\"Russia\"],\"caps\":[\"Number of Assistant Captains\"],\"chart_index\":[{\"Team\":\"Russia\",\"caps\":\"Number of Assistant Captains\"}],\"color\":[\"Orange\"],\"fill_alpha\":[0.8],\"height\":[2.0],\"label\":[{\"Team\":\"Russia\",\"caps\":\"Number of Assistant Captains\"}],\"line_alpha\":[1.0],\"line_color\":[\"white\"],\"width\":[0.8],\"x\":[\"Russia\"],\"y\":[2.0]}},\"id\":\"8c3853bd-5dc9-4a99-a01d-db69c2354536\",\"type\":\"ColumnDataSource\"},{\"attributes\":{\"fill_alpha\":{\"field\":\"fill_alpha\"},\"fill_color\":{\"field\":\"color\"},\"height\":{\"field\":\"height\",\"units\":\"data\"},\"line_color\":{\"field\":\"line_color\"},\"width\":{\"field\":\"width\",\"units\":\"data\"},\"x\":{\"field\":\"x\"},\"y\":{\"field\":\"y\"}},\"id\":\"8d1bb6d0-842d-464b-83f1-0afca51152ad\",\"type\":\"Rect\"},{\"attributes\":{\"data_source\":{\"id\":\"8c3853bd-5dc9-4a99-a01d-db69c2354536\",\"type\":\"ColumnDataSource\"},\"glyph\":{\"id\":\"9801e41e-2704-4743-8299-00183b0d2152\",\"type\":\"Rect\"},\"hover_glyph\":null,\"nonselection_glyph\":null,\"selection_glyph\":null},\"id\":\"ea38d851-4b1a-49d1-a0a5-78b883d14d61\",\"type\":\"GlyphRenderer\"},{\"attributes\":{\"axis_label\":\"Team\",\"formatter\":{\"id\":\"7c21ea42-c9f6-4ed2-8426-e23198bf0cdc\",\"type\":\"CategoricalTickFormatter\"},\"major_label_orientation\":0.7853981633974483,\"plot\":{\"id\":\"f8e4ff73-c110-4440-8648-72035f7407c5\",\"subtype\":\"Chart\",\"type\":\"Plot\"},\"ticker\":{\"id\":\"053d19c7-98b8-4ebd-a408-3a89a3789ae8\",\"type\":\"CategoricalTicker\"}},\"id\":\"80ef6c51-08df-4eca-a962-f8678ed68cf1\",\"type\":\"CategoricalAxis\"},{\"attributes\":{\"callback\":null,\"column_names\":[\"height\",\"y\",\"line_alpha\",\"line_color\",\"width\",\"fill_alpha\",\"x\",\"label\",\"color\"],\"data\":{\"Team\":[\"Russia\"],\"caps\":[\"Number of Captains\"],\"chart_index\":[{\"Team\":\"Russia\",\"caps\":\"Number of Captains\"}],\"color\":[\"OrangeRed\"],\"fill_alpha\":[0.8],\"height\":[1.0],\"label\":[{\"Team\":\"Russia\",\"caps\":\"Number of Captains\"}],\"line_alpha\":[1.0],\"line_color\":[\"white\"],\"width\":[0.8],\"x\":[\"Russia\"],\"y\":[0.5]}},\"id\":\"d85f44a5-7bd5-4aef-b528-33c78e13e079\",\"type\":\"ColumnDataSource\"},{\"attributes\":{\"callback\":null,\"column_names\":[\"height\",\"y\",\"line_alpha\",\"line_color\",\"width\",\"fill_alpha\",\"x\",\"label\",\"color\"],\"data\":{\"Team\":[\"Czech Republic\"],\"caps\":[\"Number of Captains\"],\"chart_index\":[{\"Team\":\"Czech Republic\",\"caps\":\"Number of Captains\"}],\"color\":[\"OrangeRed\"],\"fill_alpha\":[0.8],\"height\":[0.0],\"label\":[{\"Team\":\"Czech Republic\",\"caps\":\"Number of Captains\"}],\"line_alpha\":[1.0],\"line_color\":[\"white\"],\"width\":[0.8],\"x\":[\"Czech Republic\"],\"y\":[0.0]}},\"id\":\"326b5fd0-bd39-4d4c-856f-8e9740c72563\",\"type\":\"ColumnDataSource\"},{\"attributes\":{\"plot\":{\"id\":\"f8e4ff73-c110-4440-8648-72035f7407c5\",\"subtype\":\"Chart\",\"type\":\"Plot\"}},\"id\":\"aa10b001-fa73-47a0-b72f-6ed381e4dff7\",\"type\":\"ResetTool\"},{\"attributes\":{\"below\":[{\"id\":\"80ef6c51-08df-4eca-a962-f8678ed68cf1\",\"type\":\"CategoricalAxis\"}],\"left\":[{\"id\":\"9b725906-679e-4e30-ade7-0595d7a8419e\",\"type\":\"LinearAxis\"}],\"renderers\":[{\"id\":\"88fddd61-5414-4bc1-af15-b63d44e7ebf7\",\"type\":\"BoxAnnotation\"},{\"id\":\"e216521f-5ae9-4eaa-ae99-5fb1b2696657\",\"type\":\"GlyphRenderer\"},{\"id\":\"c9dda172-183d-4cad-8fe7-80a089213fc6\",\"type\":\"GlyphRenderer\"},{\"id\":\"121f0922-b8f7-4455-b684-0a8ed20ebb22\",\"type\":\"GlyphRenderer\"},{\"id\":\"de18b905-ebdd-4a6b-a7d4-8a61ad8ca445\",\"type\":\"GlyphRenderer\"},{\"id\":\"6d72db86-cb53-4ff6-87f5-00a9b1be2517\",\"type\":\"GlyphRenderer\"},{\"id\":\"2d70520a-e081-4e75-b26e-8cfca31e2c87\",\"type\":\"GlyphRenderer\"},{\"id\":\"566fff21-fcd4-4c18-ab0b-714b59a98bfe\",\"type\":\"GlyphRenderer\"},{\"id\":\"f0b206b6-eadb-4be8-abab-03c3de63fb61\",\"type\":\"GlyphRenderer\"},{\"id\":\"5f3e0c8a-9e6b-4a4e-a966-c7453269158d\",\"type\":\"GlyphRenderer\"},{\"id\":\"730856a9-ba2a-4cf5-bbe0-9992e14369f2\",\"type\":\"GlyphRenderer\"},{\"id\":\"ce0cb45a-f74f-41e6-b2ff-0a15577d37cb\",\"type\":\"GlyphRenderer\"},{\"id\":\"ea38d851-4b1a-49d1-a0a5-78b883d14d61\",\"type\":\"GlyphRenderer\"},{\"id\":\"bacbee02-cb3c-4d55-86d3-d2f13b643f89\",\"type\":\"GlyphRenderer\"},{\"id\":\"34c6ad87-f849-43ea-9d68-d8b5e0a01df9\",\"type\":\"GlyphRenderer\"},{\"id\":\"f823ef2b-9b45-40e9-a69b-1505ceae37d6\",\"type\":\"GlyphRenderer\"},{\"id\":\"7bb97235-ca2e-451b-b0f5-c53a65833db4\",\"type\":\"GlyphRenderer\"},{\"id\":\"0c1b7223-7f32-456b-854a-6803853beda1\",\"type\":\"Legend\"},{\"id\":\"80ef6c51-08df-4eca-a962-f8678ed68cf1\",\"type\":\"CategoricalAxis\"},{\"id\":\"9b725906-679e-4e30-ade7-0595d7a8419e\",\"type\":\"LinearAxis\"},{\"id\":\"b2b02552-7fcc-4ff3-b5ed-9b30b9c9a170\",\"type\":\"Grid\"}],\"title\":{\"id\":\"def8ffe3-4226-42db-b3ee-8ca19ff8e194\",\"type\":\"Title\"},\"tool_events\":{\"id\":\"d29f3b57-636c-4296-bda9-d180e8f6dcf5\",\"type\":\"ToolEvents\"},\"toolbar\":{\"id\":\"60b93bc3-8967-4584-9146-bd2f3428c643\",\"type\":\"Toolbar\"},\"x_mapper_type\":\"auto\",\"x_range\":{\"id\":\"8d260a4c-e1ec-4287-927f-00b5cb64364c\",\"type\":\"FactorRange\"},\"y_mapper_type\":\"auto\",\"y_range\":{\"id\":\"fd9f6062-fa92-401b-923e-21f640750309\",\"type\":\"Range1d\"}},\"id\":\"f8e4ff73-c110-4440-8648-72035f7407c5\",\"subtype\":\"Chart\",\"type\":\"Plot\"},{\"attributes\":{\"callback\":null,\"column_names\":[\"height\",\"y\",\"line_alpha\",\"line_color\",\"width\",\"fill_alpha\",\"x\",\"label\",\"color\"],\"data\":{\"Team\":[\"Czech Republic\"],\"caps\":[\"Number of Assistant Captains\"],\"chart_index\":[{\"Team\":\"Czech Republic\",\"caps\":\"Number of Assistant Captains\"}],\"color\":[\"Orange\"],\"fill_alpha\":[0.8],\"height\":[1.0],\"label\":[{\"Team\":\"Czech Republic\",\"caps\":\"Number of Assistant Captains\"}],\"line_alpha\":[1.0],\"line_color\":[\"white\"],\"width\":[0.8],\"x\":[\"Czech Republic\"],\"y\":[0.5]}},\"id\":\"58d36ecc-a88d-4c09-a57e-5b03007b395d\",\"type\":\"ColumnDataSource\"},{\"attributes\":{\"callback\":null,\"column_names\":[\"height\",\"y\",\"line_alpha\",\"line_color\",\"width\",\"fill_alpha\",\"x\",\"label\",\"color\"],\"data\":{\"Team\":[\"Team Europe\"],\"caps\":[\"Number of Captains\"],\"chart_index\":[{\"Team\":\"Team Europe\",\"caps\":\"Number of Captains\"}],\"color\":[\"OrangeRed\"],\"fill_alpha\":[0.8],\"height\":[0.0],\"label\":[{\"Team\":\"Team Europe\",\"caps\":\"Number of Captains\"}],\"line_alpha\":[1.0],\"line_color\":[\"white\"],\"width\":[0.8],\"x\":[\"Team Europe\"],\"y\":[0.0]}},\"id\":\"d641328b-5bad-452e-a8d8-06953ddabe04\",\"type\":\"ColumnDataSource\"},{\"attributes\":{\"callback\":null,\"column_names\":[\"height\",\"y\",\"line_alpha\",\"line_color\",\"width\",\"fill_alpha\",\"x\",\"label\",\"color\"],\"data\":{\"Team\":[\"Team North America\"],\"caps\":[\"Number of Captains\"],\"chart_index\":[{\"Team\":\"Team North America\",\"caps\":\"Number of Captains\"}],\"color\":[\"OrangeRed\"],\"fill_alpha\":[0.8],\"height\":[0.0],\"label\":[{\"Team\":\"Team North America\",\"caps\":\"Number of Captains\"}],\"line_alpha\":[1.0],\"line_color\":[\"white\"],\"width\":[0.8],\"x\":[\"Team North America\"],\"y\":[0.0]}},\"id\":\"7a69ec2f-22d6-47e7-b79f-88d885cd1047\",\"type\":\"ColumnDataSource\"},{\"attributes\":{\"callback\":null,\"factors\":[\"Canada\",\"United States\",\"Sweden\",\"Russia\",\"Finland\",\"Team Europe\",\"Team North America\",\"Czech Republic\"]},\"id\":\"8d260a4c-e1ec-4287-927f-00b5cb64364c\",\"type\":\"FactorRange\"},{\"attributes\":{},\"id\":\"d29f3b57-636c-4296-bda9-d180e8f6dcf5\",\"type\":\"ToolEvents\"},{\"attributes\":{\"fill_alpha\":{\"field\":\"fill_alpha\"},\"fill_color\":{\"field\":\"color\"},\"height\":{\"field\":\"height\",\"units\":\"data\"},\"line_color\":{\"field\":\"line_color\"},\"width\":{\"field\":\"width\",\"units\":\"data\"},\"x\":{\"field\":\"x\"},\"y\":{\"field\":\"y\"}},\"id\":\"9801e41e-2704-4743-8299-00183b0d2152\",\"type\":\"Rect\"},{\"attributes\":{},\"id\":\"bf9875a5-55cf-4a01-83d8-775327630ba6\",\"type\":\"BasicTickFormatter\"},{\"attributes\":{\"data_source\":{\"id\":\"326b5fd0-bd39-4d4c-856f-8e9740c72563\",\"type\":\"ColumnDataSource\"},\"glyph\":{\"id\":\"f3630e46-fab1-43fb-ab18-c409e4820f62\",\"type\":\"Rect\"},\"hover_glyph\":null,\"nonselection_glyph\":null,\"selection_glyph\":null},\"id\":\"f0b206b6-eadb-4be8-abab-03c3de63fb61\",\"type\":\"GlyphRenderer\"},{\"attributes\":{\"callback\":null,\"end\":13.65},\"id\":\"fd9f6062-fa92-401b-923e-21f640750309\",\"type\":\"Range1d\"},{\"attributes\":{\"plot\":{\"id\":\"f8e4ff73-c110-4440-8648-72035f7407c5\",\"subtype\":\"Chart\",\"type\":\"Plot\"}},\"id\":\"1d55d578-d9e5-402d-ba69-c559ae4c160f\",\"type\":\"SaveTool\"},{\"attributes\":{\"data_source\":{\"id\":\"22d6cf61-b695-42d5-9613-c8ba83f5935e\",\"type\":\"ColumnDataSource\"},\"glyph\":{\"id\":\"496ef9bc-76ac-4c15-93a5-4deb2f8caa4d\",\"type\":\"Rect\"},\"hover_glyph\":null,\"nonselection_glyph\":null,\"selection_glyph\":null},\"id\":\"c9dda172-183d-4cad-8fe7-80a089213fc6\",\"type\":\"GlyphRenderer\"},{\"attributes\":{\"fill_alpha\":{\"field\":\"fill_alpha\"},\"fill_color\":{\"field\":\"color\"},\"height\":{\"field\":\"height\",\"units\":\"data\"},\"line_color\":{\"field\":\"line_color\"},\"width\":{\"field\":\"width\",\"units\":\"data\"},\"x\":{\"field\":\"x\"},\"y\":{\"field\":\"y\"}},\"id\":\"496ef9bc-76ac-4c15-93a5-4deb2f8caa4d\",\"type\":\"Rect\"},{\"attributes\":{\"overlay\":{\"id\":\"88fddd61-5414-4bc1-af15-b63d44e7ebf7\",\"type\":\"BoxAnnotation\"},\"plot\":{\"id\":\"f8e4ff73-c110-4440-8648-72035f7407c5\",\"subtype\":\"Chart\",\"type\":\"Plot\"}},\"id\":\"013190c7-f412-4eaf-953b-fa97989e11af\",\"type\":\"BoxZoomTool\"},{\"attributes\":{\"legends\":[[\"Number of Captains\",[{\"id\":\"e216521f-5ae9-4eaa-ae99-5fb1b2696657\",\"type\":\"GlyphRenderer\"}]],[\"Number of Assistant Captains\",[{\"id\":\"5f3e0c8a-9e6b-4a4e-a966-c7453269158d\",\"type\":\"GlyphRenderer\"}]]],\"plot\":{\"id\":\"f8e4ff73-c110-4440-8648-72035f7407c5\",\"subtype\":\"Chart\",\"type\":\"Plot\"}},\"id\":\"0c1b7223-7f32-456b-854a-6803853beda1\",\"type\":\"Legend\"},{\"attributes\":{\"fill_alpha\":{\"field\":\"fill_alpha\"},\"fill_color\":{\"field\":\"color\"},\"height\":{\"field\":\"height\",\"units\":\"data\"},\"line_color\":{\"field\":\"line_color\"},\"width\":{\"field\":\"width\",\"units\":\"data\"},\"x\":{\"field\":\"x\"},\"y\":{\"field\":\"y\"}},\"id\":\"31d5b331-8395-4681-b33c-cfb5d80a55c4\",\"type\":\"Rect\"},{\"attributes\":{\"callback\":null,\"column_names\":[\"height\",\"y\",\"line_alpha\",\"line_color\",\"width\",\"fill_alpha\",\"x\",\"label\",\"color\"],\"data\":{\"Team\":[\"Finland\"],\"caps\":[\"Number of Captains\"],\"chart_index\":[{\"Team\":\"Finland\",\"caps\":\"Number of Captains\"}],\"color\":[\"OrangeRed\"],\"fill_alpha\":[0.8],\"height\":[1.0],\"label\":[{\"Team\":\"Finland\",\"caps\":\"Number of Captains\"}],\"line_alpha\":[1.0],\"line_color\":[\"white\"],\"width\":[0.8],\"x\":[\"Finland\"],\"y\":[0.5]}},\"id\":\"ef1855c6-ec7d-404a-9002-4cd52fdb40ae\",\"type\":\"ColumnDataSource\"},{\"attributes\":{\"dimension\":1,\"plot\":{\"id\":\"f8e4ff73-c110-4440-8648-72035f7407c5\",\"subtype\":\"Chart\",\"type\":\"Plot\"},\"ticker\":{\"id\":\"09fb6c10-1bc7-416a-9f55-7300a55209ef\",\"type\":\"BasicTicker\"}},\"id\":\"b2b02552-7fcc-4ff3-b5ed-9b30b9c9a170\",\"type\":\"Grid\"},{\"attributes\":{\"fill_alpha\":{\"field\":\"fill_alpha\"},\"fill_color\":{\"field\":\"color\"},\"height\":{\"field\":\"height\",\"units\":\"data\"},\"line_color\":{\"field\":\"line_color\"},\"width\":{\"field\":\"width\",\"units\":\"data\"},\"x\":{\"field\":\"x\"},\"y\":{\"field\":\"y\"}},\"id\":\"3061eba9-473b-4708-bc6d-944766b60b07\",\"type\":\"Rect\"},{\"attributes\":{\"fill_alpha\":{\"field\":\"fill_alpha\"},\"fill_color\":{\"field\":\"color\"},\"height\":{\"field\":\"height\",\"units\":\"data\"},\"line_color\":{\"field\":\"line_color\"},\"width\":{\"field\":\"width\",\"units\":\"data\"},\"x\":{\"field\":\"x\"},\"y\":{\"field\":\"y\"}},\"id\":\"8d78cad7-7299-4889-b9f9-293a422b9436\",\"type\":\"Rect\"},{\"attributes\":{\"data_source\":{\"id\":\"f253fe07-c5da-48a4-9707-679132b7e5d8\",\"type\":\"ColumnDataSource\"},\"glyph\":{\"id\":\"59b06ddf-52fd-4130-b381-a5d6a34f1945\",\"type\":\"Rect\"},\"hover_glyph\":null,\"nonselection_glyph\":null,\"selection_glyph\":null},\"id\":\"f823ef2b-9b45-40e9-a69b-1505ceae37d6\",\"type\":\"GlyphRenderer\"},{\"attributes\":{\"callback\":null,\"column_names\":[\"height\",\"y\",\"line_alpha\",\"line_color\",\"width\",\"fill_alpha\",\"x\",\"label\",\"color\"],\"data\":{\"Team\":[\"Sweden\"],\"caps\":[\"Number of Captains\"],\"chart_index\":[{\"Team\":\"Sweden\",\"caps\":\"Number of Captains\"}],\"color\":[\"OrangeRed\"],\"fill_alpha\":[0.8],\"height\":[3.0],\"label\":[{\"Team\":\"Sweden\",\"caps\":\"Number of Captains\"}],\"line_alpha\":[1.0],\"line_color\":[\"white\"],\"width\":[0.8],\"x\":[\"Sweden\"],\"y\":[1.5]}},\"id\":\"19811532-f6a7-4ec6-a6cd-08af5efe4eb0\",\"type\":\"ColumnDataSource\"},{\"attributes\":{\"data_source\":{\"id\":\"7a69ec2f-22d6-47e7-b79f-88d885cd1047\",\"type\":\"ColumnDataSource\"},\"glyph\":{\"id\":\"3db38774-2733-4f24-bb28-6997b96f9950\",\"type\":\"Rect\"},\"hover_glyph\":null,\"nonselection_glyph\":null,\"selection_glyph\":null},\"id\":\"566fff21-fcd4-4c18-ab0b-714b59a98bfe\",\"type\":\"GlyphRenderer\"},{\"attributes\":{\"callback\":null,\"column_names\":[\"height\",\"y\",\"line_alpha\",\"line_color\",\"width\",\"fill_alpha\",\"x\",\"label\",\"color\"],\"data\":{\"Team\":[\"Canada\"],\"caps\":[\"Number of Captains\"],\"chart_index\":[{\"Team\":\"Canada\",\"caps\":\"Number of Captains\"}],\"color\":[\"OrangeRed\"],\"fill_alpha\":[0.8],\"height\":[7.0],\"label\":[{\"Team\":\"Canada\",\"caps\":\"Number of Captains\"}],\"line_alpha\":[1.0],\"line_color\":[\"white\"],\"width\":[0.8],\"x\":[\"Canada\"],\"y\":[3.5]}},\"id\":\"187139b6-0df7-4d17-9159-1fc6e7a25748\",\"type\":\"ColumnDataSource\"},{\"attributes\":{\"callback\":null,\"column_names\":[\"height\",\"y\",\"line_alpha\",\"line_color\",\"width\",\"fill_alpha\",\"x\",\"label\",\"color\"],\"data\":{\"Team\":[\"United States\"],\"caps\":[\"Number of Assistant Captains\"],\"chart_index\":[{\"Team\":\"United States\",\"caps\":\"Number of Assistant Captains\"}],\"color\":[\"Orange\"],\"fill_alpha\":[0.8],\"height\":[6.0],\"label\":[{\"Team\":\"United States\",\"caps\":\"Number of Assistant Captains\"}],\"line_alpha\":[1.0],\"line_color\":[\"white\"],\"width\":[0.8],\"x\":[\"United States\"],\"y\":[7.0]}},\"id\":\"28838a57-95a3-4b18-a9db-f48bf9d91480\",\"type\":\"ColumnDataSource\"},{\"attributes\":{\"plot\":{\"id\":\"f8e4ff73-c110-4440-8648-72035f7407c5\",\"subtype\":\"Chart\",\"type\":\"Plot\"}},\"id\":\"28695f9d-c645-4b3a-aa52-d115630346b9\",\"type\":\"HelpTool\"},{\"attributes\":{\"callback\":null,\"column_names\":[\"height\",\"y\",\"line_alpha\",\"line_color\",\"width\",\"fill_alpha\",\"x\",\"label\",\"color\"],\"data\":{\"Team\":[\"Team North America\"],\"caps\":[\"Number of Assistant Captains\"],\"chart_index\":[{\"Team\":\"Team North America\",\"caps\":\"Number of Assistant Captains\"}],\"color\":[\"Orange\"],\"fill_alpha\":[0.8],\"height\":[2.0],\"label\":[{\"Team\":\"Team North America\",\"caps\":\"Number of Assistant Captains\"}],\"line_alpha\":[1.0],\"line_color\":[\"white\"],\"width\":[0.8],\"x\":[\"Team North America\"],\"y\":[1.0]}},\"id\":\"f253fe07-c5da-48a4-9707-679132b7e5d8\",\"type\":\"ColumnDataSource\"},{\"attributes\":{\"data_source\":{\"id\":\"58d36ecc-a88d-4c09-a57e-5b03007b395d\",\"type\":\"ColumnDataSource\"},\"glyph\":{\"id\":\"0d2ddde0-228c-4c4a-b166-0dfdb02a43e7\",\"type\":\"Rect\"},\"hover_glyph\":null,\"nonselection_glyph\":null,\"selection_glyph\":null},\"id\":\"7bb97235-ca2e-451b-b0f5-c53a65833db4\",\"type\":\"GlyphRenderer\"},{\"attributes\":{\"plot\":{\"id\":\"f8e4ff73-c110-4440-8648-72035f7407c5\",\"subtype\":\"Chart\",\"type\":\"Plot\"}},\"id\":\"5773c633-9ba3-4d5a-8e12-ecd6ea415e79\",\"type\":\"PanTool\"},{\"attributes\":{\"fill_alpha\":{\"field\":\"fill_alpha\"},\"fill_color\":{\"field\":\"color\"},\"height\":{\"field\":\"height\",\"units\":\"data\"},\"line_color\":{\"field\":\"line_color\"},\"width\":{\"field\":\"width\",\"units\":\"data\"},\"x\":{\"field\":\"x\"},\"y\":{\"field\":\"y\"}},\"id\":\"59b06ddf-52fd-4130-b381-a5d6a34f1945\",\"type\":\"Rect\"}],\"root_ids\":[\"f8e4ff73-c110-4440-8648-72035f7407c5\"]},\"title\":\"Bokeh Application\",\"version\":\"0.12.1\"}};\n",
       "            var render_items = [{\"docid\":\"9ad3f9cd-16bc-4341-a7a6-1003b0bfac49\",\"elementid\":\"c1f4a738-d65e-4e0c-9d42-b19af75f64eb\",\"modelid\":\"f8e4ff73-c110-4440-8648-72035f7407c5\",\"notebook_comms_target\":\"5700f27d-9392-40cc-85be-78df0ce2370c\"}];\n",
       "            \n",
       "            Bokeh.embed.embed_items(docs_json, render_items);\n",
       "        });\n",
       "      },\n",
       "      function(Bokeh) {\n",
       "      }\n",
       "    ];\n",
       "  \n",
       "    function run_inline_js() {\n",
       "      for (var i = 0; i < inline_js.length; i++) {\n",
       "        inline_js[i](window.Bokeh);\n",
       "      }\n",
       "    }\n",
       "  \n",
       "    if (window._bokeh_is_loading === 0) {\n",
       "      console.log(\"Bokeh: BokehJS loaded, going straight to plotting\");\n",
       "      run_inline_js();\n",
       "    } else {\n",
       "      load_libs(js_urls, function() {\n",
       "        console.log(\"Bokeh: BokehJS plotting callback run at\", now());\n",
       "        run_inline_js();\n",
       "      });\n",
       "    }\n",
       "  }(this));\n",
       "</script>"
      ]
     },
     "metadata": {},
     "output_type": "display_data"
    },
    {
     "data": {
      "text/html": [
       "<p><code>&lt;Bokeh Notebook handle for <strong>In[170]</strong>&gt;</code></p>"
      ],
      "text/plain": [
       "<bokeh.io._CommsHandle at 0x21b2b6255c0>"
      ]
     },
     "execution_count": 170,
     "metadata": {},
     "output_type": "execute_result"
    }
   ],
   "source": [
    "bar = Bar(df,\n",
    "          values=blend('Number of Captains', 'Number of Assistant Captains',\n",
    "                       name='Number of Captains', labels_name='caps'),\n",
    "          stack=cat(columns='caps', sort=False),\n",
    "          label=cat(columns='Team', sort=False),\n",
    "          color=color(columns='caps', palette=['OrangeRed', 'Orange'], sort=False),\n",
    "          title='2016 World Cup of Hockey NHL Captains',\n",
    "          legend='top_right')#, plot_width=1000, plot_height=1000)\n",
    "#           tools='hover')\n",
    "\n",
    "# hover = bar.select(dict(type=HoverTool))\n",
    "# hover.tooltips = [('Number' ,'@x')]\n",
    "show(bar)"
   ]
  },
  {
   "cell_type": "markdown",
   "metadata": {},
   "source": [
    "### List of captains"
   ]
  },
  {
   "cell_type": "code",
   "execution_count": 172,
   "metadata": {
    "collapsed": false
   },
   "outputs": [
    {
     "name": "stdout",
     "output_type": "stream",
     "text": [
      "Canada \n",
      "C - Alex Pietrangelo, Sidney Crosby, Ryan Getzlaf, Claude Giroux, Steven Stamkos, John Tavares, Jonathan Toews \n",
      "A - Drew Doughty, Patrice Bergeron, Logan Couture, Ryan O'Reilly, Corey Perry, Joe Thornton \n",
      "\n",
      "United States \n",
      "C - Ryan McDonagh, Max Pacioretty, Joe Pavelski, Blake Wheeler \n",
      "A - Dustin Byfuglien, Ryan Suter, Brandon Dubinsky, Ryan Kesler, Zach Parise, Derek Stepan \n",
      "\n",
      "Sweden \n",
      "C - Erik Karlsson, Gabriel Landeskog, Henrik Sedin \n",
      "A - Oliver Ekman-Larsson, Daniel Sedin \n",
      "\n",
      "Russia \n",
      "C - Alexander Ovechkin \n",
      "A - Andrei Markov, Evgeni Malkin \n",
      "\n",
      "Finland \n",
      "C - Mikko Koivu \n",
      "A - Jussi Jokinen \n",
      "\n",
      "Team Europe \n",
      "C -  \n",
      "A - Roman Josi, Mark Streit \n",
      "\n",
      "Team North America \n",
      "C -  \n",
      "A - Ryan Nugent-Hopkins, Mark Scheifele \n",
      "\n",
      "Czech Republic \n",
      "C -  \n",
      "A - Martin Hanzal \n",
      "\n"
     ]
    }
   ],
   "source": [
    "for T, C, A in zip(df.Team, df.C, df.A):\n",
    "    print(T, '\\nC -', C, '\\nA -', A, '\\n')"
   ]
  },
  {
   "cell_type": "code",
   "execution_count": null,
   "metadata": {
    "collapsed": true
   },
   "outputs": [],
   "source": []
  },
  {
   "cell_type": "code",
   "execution_count": null,
   "metadata": {
    "collapsed": true
   },
   "outputs": [],
   "source": []
  },
  {
   "cell_type": "code",
   "execution_count": null,
   "metadata": {
    "collapsed": true
   },
   "outputs": [],
   "source": []
  },
  {
   "cell_type": "code",
   "execution_count": null,
   "metadata": {
    "collapsed": true
   },
   "outputs": [],
   "source": []
  },
  {
   "cell_type": "markdown",
   "metadata": {},
   "source": [
    "### Testing bokeh tooltips"
   ]
  },
  {
   "cell_type": "code",
   "execution_count": 29,
   "metadata": {
    "collapsed": false
   },
   "outputs": [
    {
     "data": {
      "text/plain": [
       "[7, 0, 0, 4, 1, 0, 1, 3, 6, 1, 2, 6, 1, 2, 2, 2]"
      ]
     },
     "execution_count": 29,
     "metadata": {},
     "output_type": "execute_result"
    }
   ],
   "source": [
    "[c[0] for c in N_captains] + [c[1] for c in N_captains]"
   ]
  },
  {
   "cell_type": "code",
   "execution_count": 115,
   "metadata": {
    "collapsed": false
   },
   "outputs": [
    {
     "data": {
      "text/html": [
       "<div>\n",
       "<table border=\"1\" class=\"dataframe\">\n",
       "  <thead>\n",
       "    <tr style=\"text-align: right;\">\n",
       "      <th></th>\n",
       "      <th>Names</th>\n",
       "      <th>Number</th>\n",
       "      <th>Teams</th>\n",
       "      <th>Type</th>\n",
       "    </tr>\n",
       "  </thead>\n",
       "  <tbody>\n",
       "    <tr>\n",
       "      <th>0</th>\n",
       "      <td>Alex Pietrangelo, Sidney Crosby, Ryan Getzlaf,...</td>\n",
       "      <td>7</td>\n",
       "      <td>Canada</td>\n",
       "      <td>Captains</td>\n",
       "    </tr>\n",
       "    <tr>\n",
       "      <th>1</th>\n",
       "      <td>Drew Doughty, Patrice Bergeron, Logan Couture,...</td>\n",
       "      <td>6</td>\n",
       "      <td>Canada</td>\n",
       "      <td>Assistants</td>\n",
       "    </tr>\n",
       "    <tr>\n",
       "      <th>2</th>\n",
       "      <td>Ryan McDonagh, Max Pacioretty, Joe Pavelski, B...</td>\n",
       "      <td>4</td>\n",
       "      <td>USA</td>\n",
       "      <td>Captains</td>\n",
       "    </tr>\n",
       "    <tr>\n",
       "      <th>3</th>\n",
       "      <td>Dustin Byfuglien, Ryan Suter, Brandon Dubinsky...</td>\n",
       "      <td>6</td>\n",
       "      <td>USA</td>\n",
       "      <td>Assistants</td>\n",
       "    </tr>\n",
       "  </tbody>\n",
       "</table>\n",
       "</div>"
      ],
      "text/plain": [
       "                                               Names  Number   Teams  \\\n",
       "0  Alex Pietrangelo, Sidney Crosby, Ryan Getzlaf,...       7  Canada   \n",
       "1  Drew Doughty, Patrice Bergeron, Logan Couture,...       6  Canada   \n",
       "2  Ryan McDonagh, Max Pacioretty, Joe Pavelski, B...       4     USA   \n",
       "3  Dustin Byfuglien, Ryan Suter, Brandon Dubinsky...       6     USA   \n",
       "\n",
       "         Type  \n",
       "0    Captains  \n",
       "1  Assistants  \n",
       "2    Captains  \n",
       "3  Assistants  "
      ]
     },
     "execution_count": 115,
     "metadata": {},
     "output_type": "execute_result"
    }
   ],
   "source": [
    "df = pd.DataFrame({'Teams': ['Canada', 'Canada', 'USA', 'USA'],\n",
    "                   'Number': [7, 6, 4, 6],\n",
    "                   'Type': ['Captains', 'Assistants', 'Captains', 'Assistants'],\n",
    "                   'Names': ['Alex Pietrangelo, Sidney Crosby, Ryan Getzlaf, Claude Giroux, Steven Stamkos, John Tavares, Jonathan Toews',\n",
    "                             \"Drew Doughty, Patrice Bergeron, Logan Couture, Ryan O'Reilly, Corey Perry, Joe Thornton\",\n",
    "                             'Ryan McDonagh, Max Pacioretty, Joe Pavelski, Blake Wheeler',\n",
    "                             'Dustin Byfuglien, Ryan Suter, Brandon Dubinsky, Ryan Kesler, Zach Parise, Derek Stepan']})\n",
    "df"
   ]
  },
  {
   "cell_type": "code",
   "execution_count": 113,
   "metadata": {
    "collapsed": false
   },
   "outputs": [
    {
     "data": {
      "text/plain": [
       "['Alex Pietrangelo, Sidney Crosby, Ryan Getzlaf, Claude Giroux, Steven Stamkos, John Tavares, Jonathan Toews',\n",
       " \"Drew Doughty, Patrice Bergeron, Logan Couture, Ryan O'Reilly, Corey Perry, Joe Thornton\",\n",
       " 'Ryan McDonagh, Max Pacioretty, Joe Pavelski, Blake Wheeler',\n",
       " 'Dustin Byfuglien, Ryan Suter, Brandon Dubinsky, Ryan Kesler, Zach Parise, Derek Stepan']"
      ]
     },
     "execution_count": 113,
     "metadata": {},
     "output_type": "execute_result"
    }
   ],
   "source": [
    "df = pd.DataFrame()\n",
    "df['Teams'] = teams * 2\n",
    "df['Number'] = [c[0] for c in N_captains] + [c[1] for c in N_captains]\n",
    "df['Type'] = ['Captains'] * 8 + ['Assistants'] * 8\n",
    "df['Names'] = [', '.join(c[0]) for c in captains] +\\\n",
    "              [', '.join(c[1]) for c in captains]\n",
    "totals = df.groupby('Teams').sum()\n",
    "totals = dict(zip(totals.index, totals.Number))\n",
    "df['Total'] = df.Teams.map(totals)\n",
    "df.sort_values(by='Total', ascending=False, inplace=True)\n",
    "df"
   ]
  },
  {
   "cell_type": "code",
   "execution_count": 148,
   "metadata": {
    "collapsed": false
   },
   "outputs": [
    {
     "ename": "TypeError",
     "evalue": "'NoneType' object is not iterable",
     "output_type": "error",
     "traceback": [
      "\u001b[1;31m---------------------------------------------------------------------------\u001b[0m",
      "\u001b[1;31mTypeError\u001b[0m                                 Traceback (most recent call last)",
      "\u001b[1;32m<ipython-input-148-eaa50e368b6a>\u001b[0m in \u001b[0;36m<module>\u001b[1;34m()\u001b[0m\n\u001b[0;32m      6\u001b[0m           \u001b[0mtitle\u001b[0m\u001b[1;33m=\u001b[0m\u001b[1;34m'2016 World Cup of Hockey NHL Captains'\u001b[0m\u001b[1;33m,\u001b[0m\u001b[1;33m\u001b[0m\u001b[0m\n\u001b[0;32m      7\u001b[0m           \u001b[0mlegend\u001b[0m\u001b[1;33m=\u001b[0m\u001b[1;34m'top_right'\u001b[0m\u001b[1;33m,\u001b[0m\u001b[1;33m\u001b[0m\u001b[0m\n\u001b[1;32m----> 8\u001b[1;33m           tooltips = [('Players', '@Names')])\n\u001b[0m\u001b[0;32m      9\u001b[0m \u001b[1;31m# bar.select(dict(type=GlyphRenderer))\u001b[0m\u001b[1;33m\u001b[0m\u001b[1;33m\u001b[0m\u001b[0m\n\u001b[0;32m     10\u001b[0m \u001b[1;31m# hover = bar.select(dict(type=HoverTool))\u001b[0m\u001b[1;33m\u001b[0m\u001b[1;33m\u001b[0m\u001b[0m\n",
      "\u001b[1;32mC:\\Anaconda3\\Lib\\site-packages\\bokeh\\charts\\builders\\bar_builder.py\u001b[0m in \u001b[0;36mBar\u001b[1;34m(data, label, values, color, stack, group, agg, xscale, yscale, xgrid, ygrid, continuous_range, **kw)\u001b[0m\n\u001b[0;32m    319\u001b[0m     \u001b[0mkw\u001b[0m\u001b[1;33m[\u001b[0m\u001b[1;34m'y_range'\u001b[0m\u001b[1;33m]\u001b[0m \u001b[1;33m=\u001b[0m \u001b[0my_range\u001b[0m\u001b[1;33m\u001b[0m\u001b[0m\n\u001b[0;32m    320\u001b[0m \u001b[1;33m\u001b[0m\u001b[0m\n\u001b[1;32m--> 321\u001b[1;33m     \u001b[0mchart\u001b[0m \u001b[1;33m=\u001b[0m \u001b[0mcreate_and_build\u001b[0m\u001b[1;33m(\u001b[0m\u001b[0mBarBuilder\u001b[0m\u001b[1;33m,\u001b[0m \u001b[0mdata\u001b[0m\u001b[1;33m,\u001b[0m \u001b[1;33m**\u001b[0m\u001b[0mkw\u001b[0m\u001b[1;33m)\u001b[0m\u001b[1;33m\u001b[0m\u001b[0m\n\u001b[0m\u001b[0;32m    322\u001b[0m \u001b[1;33m\u001b[0m\u001b[0m\n\u001b[0;32m    323\u001b[0m     \u001b[1;31m# hide x labels if there is a single value, implying stacking only\u001b[0m\u001b[1;33m\u001b[0m\u001b[1;33m\u001b[0m\u001b[0m\n",
      "\u001b[1;32mC:\\Anaconda3\\Lib\\site-packages\\bokeh\\charts\\builder.py\u001b[0m in \u001b[0;36mcreate_and_build\u001b[1;34m(builder_class, *data, **kws)\u001b[0m\n\u001b[0;32m     66\u001b[0m     \u001b[1;31m# create the new builder\u001b[0m\u001b[1;33m\u001b[0m\u001b[1;33m\u001b[0m\u001b[0m\n\u001b[0;32m     67\u001b[0m     \u001b[0mbuilder_kws\u001b[0m \u001b[1;33m=\u001b[0m \u001b[1;33m{\u001b[0m\u001b[0mk\u001b[0m\u001b[1;33m:\u001b[0m \u001b[0mv\u001b[0m \u001b[1;32mfor\u001b[0m \u001b[0mk\u001b[0m\u001b[1;33m,\u001b[0m \u001b[0mv\u001b[0m \u001b[1;32min\u001b[0m \u001b[0mkws\u001b[0m\u001b[1;33m.\u001b[0m\u001b[0mitems\u001b[0m\u001b[1;33m(\u001b[0m\u001b[1;33m)\u001b[0m \u001b[1;32mif\u001b[0m \u001b[0mk\u001b[0m \u001b[1;32min\u001b[0m \u001b[0mbuilder_props\u001b[0m\u001b[1;33m}\u001b[0m\u001b[1;33m\u001b[0m\u001b[0m\n\u001b[1;32m---> 68\u001b[1;33m     \u001b[0mbuilder\u001b[0m \u001b[1;33m=\u001b[0m \u001b[0mbuilder_class\u001b[0m\u001b[1;33m(\u001b[0m\u001b[1;33m*\u001b[0m\u001b[0mdata\u001b[0m\u001b[1;33m,\u001b[0m \u001b[1;33m**\u001b[0m\u001b[0mbuilder_kws\u001b[0m\u001b[1;33m)\u001b[0m\u001b[1;33m\u001b[0m\u001b[0m\n\u001b[0m\u001b[0;32m     69\u001b[0m \u001b[1;33m\u001b[0m\u001b[0m\n\u001b[0;32m     70\u001b[0m     \u001b[1;31m# create a chart to return, since there isn't one already\u001b[0m\u001b[1;33m\u001b[0m\u001b[1;33m\u001b[0m\u001b[0m\n",
      "\u001b[1;32mC:\\Anaconda3\\Lib\\site-packages\\bokeh\\charts\\builder.py\u001b[0m in \u001b[0;36m__init__\u001b[1;34m(self, *args, **kws)\u001b[0m\n\u001b[0;32m    295\u001b[0m \u001b[1;33m\u001b[0m\u001b[0m\n\u001b[0;32m    296\u001b[0m             \u001b[1;31m# handle input attrs and ensure attrs have access to data\u001b[0m\u001b[1;33m\u001b[0m\u001b[1;33m\u001b[0m\u001b[0m\n\u001b[1;32m--> 297\u001b[1;33m             \u001b[0mattributes\u001b[0m \u001b[1;33m=\u001b[0m \u001b[0mself\u001b[0m\u001b[1;33m.\u001b[0m\u001b[0m_setup_attrs\u001b[0m\u001b[1;33m(\u001b[0m\u001b[0mdata\u001b[0m\u001b[1;33m,\u001b[0m \u001b[0mkws\u001b[0m\u001b[1;33m)\u001b[0m\u001b[1;33m\u001b[0m\u001b[0m\n\u001b[0m\u001b[0;32m    298\u001b[0m \u001b[1;33m\u001b[0m\u001b[0m\n\u001b[0;32m    299\u001b[0m             \u001b[1;31m# remove inputs handled by dimensions and chart attributes\u001b[0m\u001b[1;33m\u001b[0m\u001b[1;33m\u001b[0m\u001b[0m\n",
      "\u001b[1;32mC:\\Anaconda3\\Lib\\site-packages\\bokeh\\charts\\builder.py\u001b[0m in \u001b[0;36m_setup_attrs\u001b[1;34m(self, data, kws)\u001b[0m\n\u001b[0;32m    350\u001b[0m                         \u001b[0mattributes\u001b[0m\u001b[1;33m[\u001b[0m\u001b[0mattr_name\u001b[0m\u001b[1;33m]\u001b[0m\u001b[1;33m.\u001b[0m\u001b[0miterable\u001b[0m \u001b[1;33m=\u001b[0m \u001b[0mcustom_palette\u001b[0m\u001b[1;33m\u001b[0m\u001b[0m\n\u001b[0;32m    351\u001b[0m \u001b[1;33m\u001b[0m\u001b[0m\n\u001b[1;32m--> 352\u001b[1;33m                 \u001b[0mattributes\u001b[0m\u001b[1;33m[\u001b[0m\u001b[0mattr_name\u001b[0m\u001b[1;33m]\u001b[0m\u001b[1;33m.\u001b[0m\u001b[0msetup\u001b[0m\u001b[1;33m(\u001b[0m\u001b[0mdata\u001b[0m\u001b[1;33m=\u001b[0m\u001b[0msource\u001b[0m\u001b[1;33m,\u001b[0m \u001b[0mcolumns\u001b[0m\u001b[1;33m=\u001b[0m\u001b[0mattr\u001b[0m\u001b[1;33m)\u001b[0m\u001b[1;33m\u001b[0m\u001b[0m\n\u001b[0m\u001b[0;32m    353\u001b[0m \u001b[1;33m\u001b[0m\u001b[0m\n\u001b[0;32m    354\u001b[0m             \u001b[1;32melse\u001b[0m\u001b[1;33m:\u001b[0m\u001b[1;33m\u001b[0m\u001b[0m\n",
      "\u001b[1;32mC:\\Anaconda3\\Lib\\site-packages\\bokeh\\charts\\attributes.py\u001b[0m in \u001b[0;36msetup\u001b[1;34m(self, data, columns)\u001b[0m\n\u001b[0;32m    193\u001b[0m \u001b[1;33m\u001b[0m\u001b[0m\n\u001b[0;32m    194\u001b[0m         \u001b[1;32mif\u001b[0m \u001b[0mcolumns\u001b[0m \u001b[1;32mis\u001b[0m \u001b[1;32mnot\u001b[0m \u001b[1;32mNone\u001b[0m \u001b[1;32mand\u001b[0m \u001b[0mself\u001b[0m\u001b[1;33m.\u001b[0m\u001b[0mdata\u001b[0m \u001b[1;32mis\u001b[0m \u001b[1;32mnot\u001b[0m \u001b[1;32mNone\u001b[0m\u001b[1;33m:\u001b[0m\u001b[1;33m\u001b[0m\u001b[0m\n\u001b[1;32m--> 195\u001b[1;33m             \u001b[0mself\u001b[0m\u001b[1;33m.\u001b[0m\u001b[0mset_columns\u001b[0m\u001b[1;33m(\u001b[0m\u001b[0mcolumns\u001b[0m\u001b[1;33m)\u001b[0m\u001b[1;33m\u001b[0m\u001b[0m\n\u001b[0m\u001b[0;32m    196\u001b[0m \u001b[1;33m\u001b[0m\u001b[0m\n\u001b[0;32m    197\u001b[0m         \u001b[1;32mif\u001b[0m \u001b[0mself\u001b[0m\u001b[1;33m.\u001b[0m\u001b[0mcolumns\u001b[0m \u001b[1;32mis\u001b[0m \u001b[1;32mnot\u001b[0m \u001b[1;32mNone\u001b[0m \u001b[1;32mand\u001b[0m \u001b[0mself\u001b[0m\u001b[1;33m.\u001b[0m\u001b[0mdata\u001b[0m \u001b[1;32mis\u001b[0m \u001b[1;32mnot\u001b[0m \u001b[1;32mNone\u001b[0m\u001b[1;33m:\u001b[0m\u001b[1;33m\u001b[0m\u001b[0m\n",
      "\u001b[1;32mC:\\Anaconda3\\Lib\\site-packages\\bokeh\\charts\\attributes.py\u001b[0m in \u001b[0;36mset_columns\u001b[1;34m(self, columns)\u001b[0m\n\u001b[0;32m    185\u001b[0m             \u001b[1;31m# assume this is now the iterable at this point\u001b[0m\u001b[1;33m\u001b[0m\u001b[1;33m\u001b[0m\u001b[0m\n\u001b[0;32m    186\u001b[0m             \u001b[0mself\u001b[0m\u001b[1;33m.\u001b[0m\u001b[0miterable\u001b[0m \u001b[1;33m=\u001b[0m \u001b[0mcolumns\u001b[0m\u001b[1;33m\u001b[0m\u001b[0m\n\u001b[1;32m--> 187\u001b[1;33m             \u001b[0mself\u001b[0m\u001b[1;33m.\u001b[0m\u001b[0m_setup_default\u001b[0m\u001b[1;33m(\u001b[0m\u001b[1;33m)\u001b[0m\u001b[1;33m\u001b[0m\u001b[0m\n\u001b[0m\u001b[0;32m    188\u001b[0m \u001b[1;33m\u001b[0m\u001b[0m\n\u001b[0;32m    189\u001b[0m     \u001b[1;32mdef\u001b[0m \u001b[0msetup\u001b[0m\u001b[1;33m(\u001b[0m\u001b[0mself\u001b[0m\u001b[1;33m,\u001b[0m \u001b[0mdata\u001b[0m\u001b[1;33m=\u001b[0m\u001b[1;32mNone\u001b[0m\u001b[1;33m,\u001b[0m \u001b[0mcolumns\u001b[0m\u001b[1;33m=\u001b[0m\u001b[1;32mNone\u001b[0m\u001b[1;33m)\u001b[0m\u001b[1;33m:\u001b[0m\u001b[1;33m\u001b[0m\u001b[0m\n",
      "\u001b[1;32mC:\\Anaconda3\\Lib\\site-packages\\bokeh\\charts\\attributes.py\u001b[0m in \u001b[0;36m_setup_default\u001b[1;34m(self)\u001b[0m\n\u001b[0;32m    142\u001b[0m     \u001b[1;32mdef\u001b[0m \u001b[0m_setup_default\u001b[0m\u001b[1;33m(\u001b[0m\u001b[0mself\u001b[0m\u001b[1;33m)\u001b[0m\u001b[1;33m:\u001b[0m\u001b[1;33m\u001b[0m\u001b[0m\n\u001b[0;32m    143\u001b[0m         \u001b[1;34m\"\"\"Stores the first value of iterable into `default` property.\"\"\"\u001b[0m\u001b[1;33m\u001b[0m\u001b[0m\n\u001b[1;32m--> 144\u001b[1;33m         \u001b[0mself\u001b[0m\u001b[1;33m.\u001b[0m\u001b[0mdefault\u001b[0m \u001b[1;33m=\u001b[0m \u001b[0mnext\u001b[0m\u001b[1;33m(\u001b[0m\u001b[0mself\u001b[0m\u001b[1;33m.\u001b[0m\u001b[0m_setup_iterable\u001b[0m\u001b[1;33m(\u001b[0m\u001b[1;33m)\u001b[0m\u001b[1;33m)\u001b[0m\u001b[1;33m\u001b[0m\u001b[0m\n\u001b[0m\u001b[0;32m    145\u001b[0m \u001b[1;33m\u001b[0m\u001b[0m\n\u001b[0;32m    146\u001b[0m     \u001b[1;32mdef\u001b[0m \u001b[0m_setup_iterable\u001b[0m\u001b[1;33m(\u001b[0m\u001b[0mself\u001b[0m\u001b[1;33m)\u001b[0m\u001b[1;33m:\u001b[0m\u001b[1;33m\u001b[0m\u001b[0m\n",
      "\u001b[1;32mC:\\Anaconda3\\Lib\\site-packages\\bokeh\\charts\\attributes.py\u001b[0m in \u001b[0;36m_setup_iterable\u001b[1;34m(self)\u001b[0m\n\u001b[0;32m    320\u001b[0m \u001b[1;33m\u001b[0m\u001b[0m\n\u001b[0;32m    321\u001b[0m     \u001b[1;32mdef\u001b[0m \u001b[0m_setup_iterable\u001b[0m\u001b[1;33m(\u001b[0m\u001b[0mself\u001b[0m\u001b[1;33m)\u001b[0m\u001b[1;33m:\u001b[0m\u001b[1;33m\u001b[0m\u001b[0m\n\u001b[1;32m--> 322\u001b[1;33m         \u001b[1;32mreturn\u001b[0m \u001b[0miter\u001b[0m\u001b[1;33m(\u001b[0m\u001b[0mself\u001b[0m\u001b[1;33m.\u001b[0m\u001b[0mitems\u001b[0m\u001b[1;33m)\u001b[0m\u001b[1;33m\u001b[0m\u001b[0m\n\u001b[0m\u001b[0;32m    323\u001b[0m \u001b[1;33m\u001b[0m\u001b[0m\n\u001b[0;32m    324\u001b[0m     \u001b[1;32mdef\u001b[0m \u001b[0mget_levels\u001b[0m\u001b[1;33m(\u001b[0m\u001b[0mself\u001b[0m\u001b[1;33m,\u001b[0m \u001b[0mcolumns\u001b[0m\u001b[1;33m)\u001b[0m\u001b[1;33m:\u001b[0m\u001b[1;33m\u001b[0m\u001b[0m\n",
      "\u001b[1;31mTypeError\u001b[0m: 'NoneType' object is not iterable"
     ]
    }
   ],
   "source": [
    "# source = ColumnDataSource(df)\n",
    "\n",
    "bar = Bar(df, label='Teams', values='Number',\n",
    "          agg='sum', stack='Type',\n",
    "          color=color(columns='Type', palette=['OrangeRed', 'Orange'], sort=False),\n",
    "          title='2016 World Cup of Hockey NHL Captains',\n",
    "          legend='top_right',\n",
    "          tooltips = [('Players', '@Names')])\n",
    "# bar.select(dict(type=GlyphRenderer))\n",
    "# hover = bar.select(dict(type=HoverTool))\n",
    "# hover.tooltips = [('Names', '$Names')]\n",
    "show(bar)"
   ]
  }
 ],
 "metadata": {
  "kernelspec": {
   "display_name": "Python 3",
   "language": "python",
   "name": "python3"
  },
  "language_info": {
   "codemirror_mode": {
    "name": "ipython",
    "version": 3
   },
   "file_extension": ".py",
   "mimetype": "text/x-python",
   "name": "python",
   "nbconvert_exporter": "python",
   "pygments_lexer": "ipython3",
   "version": "3.5.1"
  }
 },
 "nbformat": 4,
 "nbformat_minor": 0
}
